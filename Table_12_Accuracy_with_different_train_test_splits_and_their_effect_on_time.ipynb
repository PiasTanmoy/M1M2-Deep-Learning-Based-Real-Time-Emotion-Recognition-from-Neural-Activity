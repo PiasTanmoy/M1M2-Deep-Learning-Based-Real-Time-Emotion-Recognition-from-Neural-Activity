{
  "nbformat": 4,
  "nbformat_minor": 0,
  "metadata": {
    "colab": {
      "provenance": [],
      "collapsed_sections": [
        "zxp9Zq8SXH_e"
      ]
    },
    "kernelspec": {
      "name": "python3",
      "display_name": "Python 3"
    },
    "language_info": {
      "name": "python"
    },
    "accelerator": "GPU",
    "gpuClass": "standard"
  },
  "cells": [
    {
      "cell_type": "markdown",
      "source": [
        "This is the documentation for \"M1M2: Deep-Learning-Based Real-Time Emotion Recognition from Neural Activity\" paper by\n",
        "\n",
        "Sumya Akter 1†, Rumman Ahmed Prodhan 1†, Tanmoy Sarkar Pias 2* , David Eisenberg 3*\n",
        "and Jorge Fresneda Fernandez 1\n",
        "\n",
        "1.   Martin Tuchman School of Management, New Jersey Institute of Technology, Newark, NJ 07102, USA \n",
        "2.   Department of Computer Science, Virginia Tech, Blacksburg, VA 24061, USA\n",
        "3. Department of Information Systems, Ying Wu College of Computing, New Jersey Institute of Technology, Newark, NJ 07102, USA\n",
        "\n",
        "\\* Correspondence: tanmoysarkar@vt.edu (T.S.P.); de63@njit.edu (D.E.)\n",
        "\n",
        "† These authors contributed equally to this work.\n",
        "\n",
        "Published in MDPI Sensors: https://www.mdpi.com/1424-8220/22/21/8467\n",
        "\n",
        "https://doi.org/10.3390/s22218467 \n",
        "\n",
        "\n",
        "\n",
        "\n",
        "\n",
        "\n",
        "\n"
      ],
      "metadata": {
        "id": "7LbxKjg5FjOz"
      }
    },
    {
      "cell_type": "markdown",
      "source": [
        "*Table 12. Accuracy with different train/test splits and their effect on time*"
      ],
      "metadata": {
        "id": "ue5JOR1AHHYW"
      }
    },
    {
      "cell_type": "markdown",
      "source": [
        "**CPU Configuration of the Colab Notebook for this experiment**"
      ],
      "metadata": {
        "id": "jXpwuoUMHN2C"
      }
    },
    {
      "cell_type": "code",
      "source": [
        "! cat /proc/cpuinfo"
      ],
      "metadata": {
        "colab": {
          "base_uri": "https://localhost:8080/"
        },
        "id": "bSarFmfytuhF",
        "outputId": "1c133a98-2692-487b-808c-a35b0d086fe5"
      },
      "execution_count": null,
      "outputs": [
        {
          "output_type": "stream",
          "name": "stdout",
          "text": [
            "processor\t: 0\n",
            "vendor_id\t: GenuineIntel\n",
            "cpu family\t: 6\n",
            "model\t\t: 85\n",
            "model name\t: Intel(R) Xeon(R) CPU @ 2.00GHz\n",
            "stepping\t: 3\n",
            "microcode\t: 0x1\n",
            "cpu MHz\t\t: 2000.164\n",
            "cache size\t: 39424 KB\n",
            "physical id\t: 0\n",
            "siblings\t: 2\n",
            "core id\t\t: 0\n",
            "cpu cores\t: 1\n",
            "apicid\t\t: 0\n",
            "initial apicid\t: 0\n",
            "fpu\t\t: yes\n",
            "fpu_exception\t: yes\n",
            "cpuid level\t: 13\n",
            "wp\t\t: yes\n",
            "flags\t\t: fpu vme de pse tsc msr pae mce cx8 apic sep mtrr pge mca cmov pat pse36 clflush mmx fxsr sse sse2 ss ht syscall nx pdpe1gb rdtscp lm constant_tsc rep_good nopl xtopology nonstop_tsc cpuid tsc_known_freq pni pclmulqdq ssse3 fma cx16 pcid sse4_1 sse4_2 x2apic movbe popcnt aes xsave avx f16c rdrand hypervisor lahf_lm abm 3dnowprefetch invpcid_single ssbd ibrs ibpb stibp fsgsbase tsc_adjust bmi1 hle avx2 smep bmi2 erms invpcid rtm mpx avx512f avx512dq rdseed adx smap clflushopt clwb avx512cd avx512bw avx512vl xsaveopt xsavec xgetbv1 xsaves arat md_clear arch_capabilities\n",
            "bugs\t\t: cpu_meltdown spectre_v1 spectre_v2 spec_store_bypass l1tf mds swapgs taa\n",
            "bogomips\t: 4000.32\n",
            "clflush size\t: 64\n",
            "cache_alignment\t: 64\n",
            "address sizes\t: 46 bits physical, 48 bits virtual\n",
            "power management:\n",
            "\n",
            "processor\t: 1\n",
            "vendor_id\t: GenuineIntel\n",
            "cpu family\t: 6\n",
            "model\t\t: 85\n",
            "model name\t: Intel(R) Xeon(R) CPU @ 2.00GHz\n",
            "stepping\t: 3\n",
            "microcode\t: 0x1\n",
            "cpu MHz\t\t: 2000.164\n",
            "cache size\t: 39424 KB\n",
            "physical id\t: 0\n",
            "siblings\t: 2\n",
            "core id\t\t: 0\n",
            "cpu cores\t: 1\n",
            "apicid\t\t: 1\n",
            "initial apicid\t: 1\n",
            "fpu\t\t: yes\n",
            "fpu_exception\t: yes\n",
            "cpuid level\t: 13\n",
            "wp\t\t: yes\n",
            "flags\t\t: fpu vme de pse tsc msr pae mce cx8 apic sep mtrr pge mca cmov pat pse36 clflush mmx fxsr sse sse2 ss ht syscall nx pdpe1gb rdtscp lm constant_tsc rep_good nopl xtopology nonstop_tsc cpuid tsc_known_freq pni pclmulqdq ssse3 fma cx16 pcid sse4_1 sse4_2 x2apic movbe popcnt aes xsave avx f16c rdrand hypervisor lahf_lm abm 3dnowprefetch invpcid_single ssbd ibrs ibpb stibp fsgsbase tsc_adjust bmi1 hle avx2 smep bmi2 erms invpcid rtm mpx avx512f avx512dq rdseed adx smap clflushopt clwb avx512cd avx512bw avx512vl xsaveopt xsavec xgetbv1 xsaves arat md_clear arch_capabilities\n",
            "bugs\t\t: cpu_meltdown spectre_v1 spectre_v2 spec_store_bypass l1tf mds swapgs taa\n",
            "bogomips\t: 4000.32\n",
            "clflush size\t: 64\n",
            "cache_alignment\t: 64\n",
            "address sizes\t: 46 bits physical, 48 bits virtual\n",
            "power management:\n",
            "\n"
          ]
        }
      ]
    },
    {
      "cell_type": "markdown",
      "source": [
        "**GPU Configuration of the Colab Notebook for this experiment**"
      ],
      "metadata": {
        "id": "yXWExPRgHgYb"
      }
    },
    {
      "cell_type": "code",
      "source": [
        "gpu_info = !nvidia-smi\n",
        "gpu_info = '\\n'.join(gpu_info)\n",
        "if gpu_info.find('failed') >= 0:\n",
        "  print('Not connected to a GPU')\n",
        "else:\n",
        "  print(gpu_info)"
      ],
      "metadata": {
        "colab": {
          "base_uri": "https://localhost:8080/"
        },
        "id": "ALiBTlZXtqpi",
        "outputId": "08d18799-32af-498f-e525-385741fbf44c"
      },
      "execution_count": null,
      "outputs": [
        {
          "output_type": "stream",
          "name": "stdout",
          "text": [
            "Wed Aug 31 11:42:57 2022       \n",
            "+-----------------------------------------------------------------------------+\n",
            "| NVIDIA-SMI 460.32.03    Driver Version: 460.32.03    CUDA Version: 11.2     |\n",
            "|-------------------------------+----------------------+----------------------+\n",
            "| GPU  Name        Persistence-M| Bus-Id        Disp.A | Volatile Uncorr. ECC |\n",
            "| Fan  Temp  Perf  Pwr:Usage/Cap|         Memory-Usage | GPU-Util  Compute M. |\n",
            "|                               |                      |               MIG M. |\n",
            "|===============================+======================+======================|\n",
            "|   0  Tesla P100-PCIE...  Off  | 00000000:00:04.0 Off |                    0 |\n",
            "| N/A   35C    P0    28W / 250W |      0MiB / 16280MiB |      0%      Default |\n",
            "|                               |                      |                  N/A |\n",
            "+-------------------------------+----------------------+----------------------+\n",
            "                                                                               \n",
            "+-----------------------------------------------------------------------------+\n",
            "| Processes:                                                                  |\n",
            "|  GPU   GI   CI        PID   Type   Process name                  GPU Memory |\n",
            "|        ID   ID                                                   Usage      |\n",
            "|=============================================================================|\n",
            "|  No running processes found                                                 |\n",
            "+-----------------------------------------------------------------------------+\n"
          ]
        }
      ]
    },
    {
      "cell_type": "markdown",
      "source": [
        "**Pyeeg has been installed**"
      ],
      "metadata": {
        "id": "VQFc1dGpCzLC"
      }
    },
    {
      "cell_type": "code",
      "execution_count": null,
      "metadata": {
        "colab": {
          "base_uri": "https://localhost:8080/"
        },
        "id": "dAEVJFOgBnY_",
        "outputId": "6a048a80-63b9-4d61-84e4-fbe02ecdba72"
      },
      "outputs": [
        {
          "output_type": "stream",
          "name": "stdout",
          "text": [
            "Looking in indexes: https://pypi.org/simple, https://us-python.pkg.dev/colab-wheels/public/simple/\n",
            "Collecting git+https://github.com/forrestbao/pyeeg.git\n",
            "  Cloning https://github.com/forrestbao/pyeeg.git to /tmp/pip-req-build-wb6tpifs\n",
            "  Running command git clone -q https://github.com/forrestbao/pyeeg.git /tmp/pip-req-build-wb6tpifs\n",
            "Requirement already satisfied: numpy>=1.9.2 in /usr/local/lib/python3.7/dist-packages (from pyeeg==0.4.4) (1.21.6)\n",
            "Building wheels for collected packages: pyeeg\n",
            "  Building wheel for pyeeg (setup.py) ... \u001b[?25l\u001b[?25hdone\n",
            "  Created wheel for pyeeg: filename=pyeeg-0.4.4-py2.py3-none-any.whl size=28131 sha256=7908a334f552c96f2266105d395a26f2a37d048470626e1b663d9f43baa922d9\n",
            "  Stored in directory: /tmp/pip-ephem-wheel-cache-sooqfu02/wheels/b0/23/e4/703c908bda656959957029fa145879aa79307b2545a2ef0271\n",
            "Successfully built pyeeg\n",
            "Installing collected packages: pyeeg\n",
            "Successfully installed pyeeg-0.4.4\n"
          ]
        }
      ],
      "source": [
        "pip install git+https://github.com/forrestbao/pyeeg.git"
      ]
    },
    {
      "cell_type": "markdown",
      "source": [
        "**Here is the code for mounting google drive**"
      ],
      "metadata": {
        "id": "xr7cRJkjC7s2"
      }
    },
    {
      "cell_type": "code",
      "source": [
        "from google.colab import drive\n",
        "drive.mount('/content/drive')"
      ],
      "metadata": {
        "colab": {
          "base_uri": "https://localhost:8080/"
        },
        "id": "eI3Cq6plC6gU",
        "outputId": "90d721e4-f659-46cd-b6cc-2047125984c3"
      },
      "execution_count": null,
      "outputs": [
        {
          "output_type": "stream",
          "name": "stdout",
          "text": [
            "Mounted at /content/drive\n"
          ]
        }
      ]
    },
    {
      "cell_type": "code",
      "source": [
        "!pip install pyeeg"
      ],
      "metadata": {
        "colab": {
          "base_uri": "https://localhost:8080/"
        },
        "id": "dqactiPMDO0t",
        "outputId": "2005136e-6e35-4aa9-d47c-eda50b925363"
      },
      "execution_count": null,
      "outputs": [
        {
          "output_type": "stream",
          "name": "stdout",
          "text": [
            "Looking in indexes: https://pypi.org/simple, https://us-python.pkg.dev/colab-wheels/public/simple/\n",
            "Requirement already satisfied: pyeeg in /usr/local/lib/python3.7/dist-packages (0.4.4)\n",
            "Requirement already satisfied: numpy>=1.9.2 in /usr/local/lib/python3.7/dist-packages (from pyeeg) (1.21.6)\n"
          ]
        }
      ]
    },
    {
      "cell_type": "markdown",
      "source": [
        "**Imported the necessery library packages**"
      ],
      "metadata": {
        "id": "1odiyKSWDlxE"
      }
    },
    {
      "cell_type": "code",
      "source": [
        "import numpy as np\n",
        "import pyeeg as pe\n",
        "import pickle as pickle\n",
        "import pandas as pd\n",
        "import math\n",
        "\n",
        "from sklearn import svm\n",
        "from sklearn.preprocessing import normalize\n",
        "\n",
        "import os\n",
        "import time"
      ],
      "metadata": {
        "id": "9KXEoIEJDUfB"
      },
      "execution_count": null,
      "outputs": []
    },
    {
      "cell_type": "markdown",
      "source": [
        "**Location of dat file and location for where to save preprocessed npy files**"
      ],
      "metadata": {
        "id": "EijnrkfaI9en"
      }
    },
    {
      "cell_type": "code",
      "source": [
        "path_to_dataset_2 = '/content/drive/Shareddrives/DEAP EEG/Dataset/physiological_recordings/data_preprocessed_python/' #Location of dat file of DEAP dataset\n",
        "path_to_dataset = '/content/drive/Shareddrives/DEAP EEG/Preprocessed_data/' #where to save preprocessed npy files"
      ],
      "metadata": {
        "id": "0lkEoCCMGGOd"
      },
      "execution_count": null,
      "outputs": []
    },
    {
      "cell_type": "markdown",
      "source": [
        "**Intialize the channel array, band array, window_size, step_size and sample_rate and set the path of dataset of google drive.**"
      ],
      "metadata": {
        "id": "t3KXIYjUJxuf"
      }
    },
    {
      "cell_type": "code",
      "source": [
        "channel = [1,2,3,4,6,11,13,17,19,20,21,25,29,31] #14 Channels chosen to fit Emotiv Epoch+\n",
        "\n",
        "band = [4,8,12,16,25,45] #5 bands\n",
        "\n",
        "window_size = 256 #Averaging band power of 2 sec// \n",
        "#window_size = [128, 256, ..., 8064]\n",
        "\n",
        "step_size = 16 #Each 0.125 sec update once\n",
        "\n",
        "sample_rate = 128 #Sampling rate of 128 Hz\n",
        "\n",
        "subjectList=[] #taking an empty array to store subject numbers here\n",
        "for i in range(1,33):\n",
        "  if i<10:\n",
        "     subjectList.append(f\"{i:02d}\") #to add extra '0' infront of 1 to 9 single digits\n",
        "  else:\n",
        "    subjectList.append(f\"{i:2d}\")\n"
      ],
      "metadata": {
        "id": "t3sbANm4Dqgg"
      },
      "execution_count": null,
      "outputs": []
    },
    {
      "cell_type": "markdown",
      "source": [
        "**Declaring FFT function. Taking the preprocessed dat file and converting it to a preprocessed npy file after FFT**"
      ],
      "metadata": {
        "id": "xc84CUnAKcyP"
      }
    },
    {
      "cell_type": "code",
      "source": [
        "def FFT_Processing (sub, channel, band, window_size, step_size, sample_rate):\n",
        "    '''\n",
        "    arguments:  string subject\n",
        "                list channel indice\n",
        "                list band\n",
        "                int window size for FFT\n",
        "                int step size for FFT\n",
        "                int sample rate for FFT\n",
        "    return:     void\n",
        "    '''\n",
        "    meta = []\n",
        "    with open(path_to_dataset_2+'s' + sub + '.dat', 'rb') as file:\n",
        "\n",
        "        subject = pickle.load(file, encoding='latin1') #resolve the python 2 data problem by encoding : latin1\n",
        "\n",
        "        for i in range (0,40):\n",
        "            # loop over 0-39 trails\n",
        "            data = subject[\"data\"][i]\n",
        "            labels = subject[\"labels\"][i]\n",
        "            start = 0;\n",
        "\n",
        "            while start + window_size < data.shape[1]:\n",
        "                meta_array = []\n",
        "                meta_data = [] #meta vector for analysis\n",
        "                for j in channel:\n",
        "                    X = data[j][start : start + window_size] #Slice raw data over 2 sec, at interval of 0.125 sec\n",
        "                    Y = pe.bin_power(X, band, sample_rate) #FFT over 2 sec of channel j, in seq of theta, alpha, low beta, high beta, gamma\n",
        "                    meta_data = meta_data + list(Y[0])\n",
        "\n",
        "                meta_array.append(np.array(meta_data))\n",
        "                meta_array.append(labels)\n",
        "\n",
        "                meta.append(np.array(meta_array))    \n",
        "                start = start + step_size\n",
        "                \n",
        "        meta = np.array(meta)\n",
        "        np.save(path_to_dataset+'s' + sub, meta, allow_pickle=True, fix_imports=True) #saving each of the 32 files as npy after preprocessing"
      ],
      "metadata": {
        "id": "6f3ZQ2XxKWG3"
      },
      "execution_count": null,
      "outputs": []
    },
    {
      "cell_type": "markdown",
      "source": [
        "**Calling the FFT functions for each subjects**"
      ],
      "metadata": {
        "id": "_d69HDzKLfGL"
      }
    },
    {
      "cell_type": "code",
      "source": [
        "for subjects in subjectList:\n",
        "    FFT_Processing (subjects, channel, band, window_size, step_size, sample_rate)"
      ],
      "metadata": {
        "id": "ZVtxUronLVn_",
        "colab": {
          "base_uri": "https://localhost:8080/"
        },
        "outputId": "0a4afd00-654f-4caa-e7af-b40ee409d9ea"
      },
      "execution_count": null,
      "outputs": [
        {
          "output_type": "stream",
          "name": "stderr",
          "text": [
            "/usr/local/lib/python3.7/dist-packages/ipykernel_launcher.py:33: VisibleDeprecationWarning: Creating an ndarray from ragged nested sequences (which is a list-or-tuple of lists-or-tuples-or ndarrays with different lengths or shapes) is deprecated. If you meant to do this, you must specify 'dtype=object' when creating the ndarray.\n"
          ]
        }
      ]
    },
    {
      "cell_type": "code",
      "source": [
        "import numpy as np\n",
        "# save np.load\n",
        "np_load_old = np.load\n",
        "\n",
        "# modify the default parameters of np.load\n",
        "np.load = lambda *a,**k: np_load_old(*a, allow_pickle=True, **k)"
      ],
      "metadata": {
        "id": "4sxRkCAULkec"
      },
      "execution_count": null,
      "outputs": []
    },
    {
      "cell_type": "markdown",
      "source": [
        "##Dividing the Data into Training and Testing\n"
      ],
      "metadata": {
        "id": "zxp9Zq8SXH_e"
      }
    },
    {
      "cell_type": "markdown",
      "source": [
        "#spliting and appending each npy into training, testing \n",
        "\n",
        "\n",
        "\n",
        "\n",
        "\n",
        "\n"
      ],
      "metadata": {
        "id": "3EMC3SZHMu0Q"
      }
    },
    {
      "cell_type": "markdown",
      "source": [
        "**80/20 Split**"
      ],
      "metadata": {
        "id": "uh7loR2xYVon"
      }
    },
    {
      "cell_type": "markdown",
      "source": [
        "Dividing the 32 preprocessed npy file into data training, label training, data testing and label testing. Every npy file has 19520 rows and 4 columns which are valence, arousal, dominace and likings. Every npy file was divided by 4.\n",
        "\n",
        "For each npy file\n",
        "\n",
        "*   Training : 19520-3904=15616 (80%)\n",
        "*   Testing :  19520/5=3904 (20%)\n",
        "\n",
        "For training and testing\n",
        "* The data training and label training both has 15616*32=499712 rows (80%)\n",
        "* The data testing and label testing both has 3904*32=124928 rows (20%)"
      ],
      "metadata": {
        "id": "wOOyWOCINSW0"
      }
    },
    {
      "cell_type": "code",
      "source": [
        "data_training = []\n",
        "label_training = []\n",
        "data_testing = []\n",
        "label_testing = []\n",
        "\n",
        "for subjects in subjectList:\n",
        "\n",
        "    with open(path_to_dataset + 's' + subjects + '.npy', 'rb') as file: \n",
        "        sub = np.load(file) # loading npy file\n",
        "        for i in range (0,sub.shape[0]): # running loop over 19520 rows\n",
        "            if i % 5 == 0: # 19520/5=3904 (20%)\n",
        "                data_testing.append(sub[i][0])\n",
        "                label_testing.append(sub[i][1])\n",
        "            else: # 19520-3904=15616 (80%)\n",
        "                data_training.append(sub[i][0])\n",
        "                label_training.append(sub[i][1])"
      ],
      "metadata": {
        "id": "-Z9_e1ZxYV4v"
      },
      "execution_count": null,
      "outputs": []
    },
    {
      "cell_type": "code",
      "source": [
        "np.save(path_to_dataset + 'data_training', np.array(data_training), allow_pickle=True, fix_imports=True)\n",
        "np.save(path_to_dataset + 'label_training', np.array(label_training), allow_pickle=True, fix_imports=True)\n",
        "print(\"training dataset:\", np.array(data_training).shape, np.array(label_training).shape)\n",
        "\n",
        "np.save(path_to_dataset + 'data_testing', np.array(data_testing), allow_pickle=True, fix_imports=True)\n",
        "np.save(path_to_dataset + 'label_testing', np.array(label_testing), allow_pickle=True, fix_imports=True)\n",
        "print(\"testing dataset:\", np.array(data_testing).shape, np.array(label_testing).shape)"
      ],
      "metadata": {
        "colab": {
          "base_uri": "https://localhost:8080/"
        },
        "id": "hWNMD4QrYqZB",
        "outputId": "763de352-043c-4068-975d-cf2d2520fd80"
      },
      "execution_count": null,
      "outputs": [
        {
          "output_type": "stream",
          "name": "stdout",
          "text": [
            "training dataset: (499712, 70) (499712, 4)\n",
            "testing dataset: (124928, 70) (124928, 4)\n"
          ]
        }
      ]
    },
    {
      "cell_type": "markdown",
      "source": [
        "**75/25 Split**"
      ],
      "metadata": {
        "id": "yQqQNWtLPY_7"
      }
    },
    {
      "cell_type": "markdown",
      "source": [
        "Dividing the 32 preprocessed npy file into data training, label training, data testing and label testing. Every npy file has 19520 rows and 4 columns which are valence, arousal, dominace and likings. Every npy file was divided by 4.\n",
        "\n",
        "For each npy file\n",
        "\n",
        "*   Training : 19520-4880=14640 (75%)\n",
        "*   Testing : 19520/4=4880 (25%)\n",
        "\n",
        "For training and testing\n",
        "* The data training and label training both has 14640*32=468480 rows (75%)\n",
        "* The data testing and label testing both has 4880*32=156160 rows (25%)"
      ],
      "metadata": {
        "id": "RXBYBgf4Pf97"
      }
    },
    {
      "cell_type": "code",
      "source": [
        "data_training = []\n",
        "label_training = []\n",
        "data_testing = []\n",
        "label_testing = []\n",
        "\n",
        "for subjects in subjectList:\n",
        "\n",
        "    with open(path_to_dataset + 's' + subjects + '.npy', 'rb') as file: \n",
        "        sub = np.load(file) # loading npy file\n",
        "        for i in range (0,sub.shape[0]): # running loop over 19520 rows\n",
        "            if i % 4 == 0: # 19520/4=4880 (25%)\n",
        "                data_testing.append(sub[i][0])\n",
        "                label_testing.append(sub[i][1])\n",
        "            else: # 19520-4880=14640 (75%)\n",
        "                data_training.append(sub[i][0])\n",
        "                label_training.append(sub[i][1])"
      ],
      "metadata": {
        "id": "BCjfTpcwPXvA"
      },
      "execution_count": null,
      "outputs": []
    },
    {
      "cell_type": "code",
      "source": [
        "# restore np.load for future normal usage\n",
        "np.load = np_load_old"
      ],
      "metadata": {
        "id": "8YIwAS4sPXvB"
      },
      "execution_count": null,
      "outputs": []
    },
    {
      "cell_type": "markdown",
      "source": [
        "**Saving the data training, label training, data testing and label testing into google drive**\n"
      ],
      "metadata": {
        "id": "4JYaHo-0PXvB"
      }
    },
    {
      "cell_type": "code",
      "source": [
        "np.save(path_to_dataset + 'data_training', np.array(data_training), allow_pickle=True, fix_imports=True)\n",
        "np.save(path_to_dataset + 'label_training', np.array(label_training), allow_pickle=True, fix_imports=True)\n",
        "print(\"training dataset:\", np.array(data_training).shape, np.array(label_training).shape)\n",
        "\n",
        "np.save(path_to_dataset + 'data_testing', np.array(data_testing), allow_pickle=True, fix_imports=True)\n",
        "np.save(path_to_dataset + 'label_testing', np.array(label_testing), allow_pickle=True, fix_imports=True)\n",
        "print(\"testing dataset:\", np.array(data_testing).shape, np.array(label_testing).shape)"
      ],
      "metadata": {
        "colab": {
          "base_uri": "https://localhost:8080/"
        },
        "outputId": "7d23fec6-f8e6-435d-8600-64b13b9f2557",
        "id": "iLiqRhBxPXvB"
      },
      "execution_count": null,
      "outputs": [
        {
          "output_type": "stream",
          "name": "stdout",
          "text": [
            "training dataset: (384000, 70) (384000, 4)\n",
            "testing dataset: (128000, 70) (128000, 4)\n"
          ]
        }
      ]
    },
    {
      "cell_type": "markdown",
      "source": [
        "**50/50 Split**"
      ],
      "metadata": {
        "id": "yMf1qGUnKNai"
      }
    },
    {
      "cell_type": "markdown",
      "source": [
        "Dividing the 32 preprocessed npy file into data training, label training, data testing and label testing. Every npy file has 19520 rows and 4 columns which are valence, arousal, dominace and likings. Every npy file was divided by 4.\n",
        "\n",
        "For each npy file\n",
        "\n",
        "*   Training : 19520/2=9760 (50%)\n",
        "*   Testing :  19520-9760=9760 (50%)\n",
        "\n",
        "For training and testing\n",
        "* The data training and label training both has 9760*32=312320 rows (50%)\n",
        "* The data testing and label testing both has 9760*32=312320 rows (50%)"
      ],
      "metadata": {
        "id": "1y1cMCgUJqr2"
      }
    },
    {
      "cell_type": "code",
      "source": [
        "data_training = []\n",
        "label_training = []\n",
        "data_testing = []\n",
        "label_testing = []\n",
        "\n",
        "for subjects in subjectList:\n",
        "\n",
        "    with open(path_to_dataset + 's' + subjects + '.npy', 'rb') as file: \n",
        "        sub = np.load(file) # loading npy file\n",
        "        for i in range (0,sub.shape[0]): # running loop over 19520 rows\n",
        "            if i % 2 == 0: # 19520/2=9760 (50%)\n",
        "                data_training.append(sub[i][0])\n",
        "                label_training.append(sub[i][1])\n",
        "            else: # 19520-9760=9760 (50%)\n",
        "                data_testing.append(sub[i][0])\n",
        "                label_testing.append(sub[i][1])"
      ],
      "metadata": {
        "id": "_L5ydAq4KWYe"
      },
      "execution_count": null,
      "outputs": []
    },
    {
      "cell_type": "code",
      "source": [
        "# restore np.load for future normal usage\n",
        "np.load = np_load_old"
      ],
      "metadata": {
        "id": "G7A6PNXnKlaT"
      },
      "execution_count": null,
      "outputs": []
    },
    {
      "cell_type": "code",
      "source": [
        "np.save(path_to_dataset + 'data_training', np.array(data_training), allow_pickle=True, fix_imports=True)\n",
        "np.save(path_to_dataset + 'label_training', np.array(label_training), allow_pickle=True, fix_imports=True)\n",
        "print(\"training dataset:\", np.array(data_training).shape, np.array(label_training).shape)\n",
        "\n",
        "np.save(path_to_dataset + 'data_testing', np.array(data_testing), allow_pickle=True, fix_imports=True)\n",
        "np.save(path_to_dataset + 'label_testing', np.array(label_testing), allow_pickle=True, fix_imports=True)\n",
        "print(\"testing dataset:\", np.array(data_testing).shape, np.array(label_testing).shape)"
      ],
      "metadata": {
        "colab": {
          "base_uri": "https://localhost:8080/"
        },
        "id": "KaL5t0eaKnjF",
        "outputId": "e6266ddd-d57a-4e17-fb7c-4248fb67c9df"
      },
      "execution_count": null,
      "outputs": [
        {
          "output_type": "stream",
          "name": "stdout",
          "text": [
            "training dataset: (312320, 70) (312320, 4)\n",
            "testing dataset: (312320, 70) (312320, 4)\n"
          ]
        }
      ]
    },
    {
      "cell_type": "markdown",
      "source": [
        "**20/80 Split**"
      ],
      "metadata": {
        "id": "JAXqoXZdzGdM"
      }
    },
    {
      "cell_type": "markdown",
      "source": [
        "Dividing the 32 preprocessed npy file into data training, label training, data testing and label testing. Every npy file has 19520 rows and 4 columns which are valence, arousal, dominace and likings. Every npy file was divided by 4.\n",
        "\n",
        "For each npy file\n",
        "\n",
        "*   Training : 19520/5=3904 (20%)\n",
        "*   Testing :  19520-3904=15616 (80%)\n",
        "\n",
        "For training and testing\n",
        "* The data training and label training both has 3904*32=124928 rows (20%)\n",
        "* The data testing and label testing both has 15616*32=499712 rows (80%)"
      ],
      "metadata": {
        "id": "006O-W56IK88"
      }
    },
    {
      "cell_type": "code",
      "source": [
        "data_training = []\n",
        "label_training = []\n",
        "data_testing = []\n",
        "label_testing = []\n",
        "\n",
        "for subjects in subjectList:\n",
        "\n",
        "    with open(path_to_dataset + 's' + subjects + '.npy', 'rb') as file: \n",
        "        sub = np.load(file) # loading npy file\n",
        "        for i in range (0,sub.shape[0]): # running loop over 19520 rows\n",
        "            if i % 5 == 0: # 19520/5=3904 (20%)\n",
        "                data_training.append(sub[i][0])\n",
        "                label_training.append(sub[i][1])\n",
        "             \n",
        "            else: # 19520-3904=15616 (80%)\n",
        "                data_testing.append(sub[i][0])\n",
        "                label_testing.append(sub[i][1])"
      ],
      "metadata": {
        "id": "TwHdOxxKxnSz"
      },
      "execution_count": null,
      "outputs": []
    },
    {
      "cell_type": "code",
      "source": [
        "# restore np.load for future normal usage\n",
        "np.load = np_load_old"
      ],
      "metadata": {
        "id": "HNYEvstFWIHw"
      },
      "execution_count": null,
      "outputs": []
    },
    {
      "cell_type": "markdown",
      "source": [
        "**Saving the data training, label training, data testing and label testing into google drive**\n"
      ],
      "metadata": {
        "id": "Jj2YXrgGWSIA"
      }
    },
    {
      "cell_type": "code",
      "source": [
        "np.save(path_to_dataset + 'data_training', np.array(data_training), allow_pickle=True, fix_imports=True)\n",
        "np.save(path_to_dataset + 'label_training', np.array(label_training), allow_pickle=True, fix_imports=True)\n",
        "print(\"training dataset:\", np.array(data_training).shape, np.array(label_training).shape)\n",
        "\n",
        "np.save(path_to_dataset + 'data_testing', np.array(data_testing), allow_pickle=True, fix_imports=True)\n",
        "np.save(path_to_dataset + 'label_testing', np.array(label_testing), allow_pickle=True, fix_imports=True)\n",
        "print(\"testing dataset:\", np.array(data_testing).shape, np.array(label_testing).shape)"
      ],
      "metadata": {
        "id": "QNQzV0_2WKy0",
        "colab": {
          "base_uri": "https://localhost:8080/"
        },
        "outputId": "07b34b05-e452-4698-c10e-2b0e125d213f"
      },
      "execution_count": null,
      "outputs": [
        {
          "output_type": "stream",
          "name": "stdout",
          "text": [
            "training dataset: (124928, 70) (124928, 4)\n",
            "testing dataset: (499712, 70) (499712, 4)\n"
          ]
        }
      ]
    },
    {
      "cell_type": "markdown",
      "source": [
        "**10/90 Split**"
      ],
      "metadata": {
        "id": "u88swf4S62i5"
      }
    },
    {
      "cell_type": "markdown",
      "source": [
        "Dividing the 32 preprocessed npy file into data training, label training, data testing and label testing. Every npy file has 19520 rows and 4 columns which are valence, arousal, dominace and likings. Every npy file was divided by 4.\n",
        "\n",
        "For each npy file\n",
        "\n",
        "*   Training : 19520/10=1952 (10%)\n",
        "*   Testing :  19520-1952=17568 (90%)\n",
        "\n",
        "For training and testing\n",
        "* The data training and label training both has 1952*32=62464 rows (10%)\n",
        "* The data testing and label testing both has 17568*32=562176 rows (90%)"
      ],
      "metadata": {
        "id": "tKQrp6heMgsE"
      }
    },
    {
      "cell_type": "code",
      "source": [
        "data_training = []\n",
        "label_training = []\n",
        "data_testing = []\n",
        "label_testing = []\n",
        "\n",
        "for subjects in subjectList:\n",
        "\n",
        "    with open(path_to_dataset + 's' + subjects + '.npy', 'rb') as file: \n",
        "        sub = np.load(file) # loading npy file\n",
        "        for i in range (0,sub.shape[0]): # running loop over 19520 rows\n",
        "            if i % 10 == 0: # 19520/10=1952 (10%)\n",
        "                data_training.append(sub[i][0])\n",
        "                label_training.append(sub[i][1])\n",
        "             \n",
        "            else: # 19520-1952=17568 (90%)\n",
        "                data_testing.append(sub[i][0])\n",
        "                label_testing.append(sub[i][1])"
      ],
      "metadata": {
        "id": "eiAa8iib61Vr"
      },
      "execution_count": null,
      "outputs": []
    },
    {
      "cell_type": "code",
      "source": [
        "# restore np.load for future normal usage\n",
        "np.load = np_load_old"
      ],
      "metadata": {
        "id": "fPL_pz9r-IFV"
      },
      "execution_count": null,
      "outputs": []
    },
    {
      "cell_type": "code",
      "source": [
        "np.save(path_to_dataset + 'data_training', np.array(data_training), allow_pickle=True, fix_imports=True)\n",
        "np.save(path_to_dataset + 'label_training', np.array(label_training), allow_pickle=True, fix_imports=True)\n",
        "print(\"training dataset:\", np.array(data_training).shape, np.array(label_training).shape)\n",
        "\n",
        "np.save(path_to_dataset + 'data_testing', np.array(data_testing), allow_pickle=True, fix_imports=True)\n",
        "np.save(path_to_dataset + 'label_testing', np.array(label_testing), allow_pickle=True, fix_imports=True)\n",
        "print(\"testing dataset:\", np.array(data_testing).shape, np.array(label_testing).shape)"
      ],
      "metadata": {
        "colab": {
          "base_uri": "https://localhost:8080/"
        },
        "id": "o0KviXF7-Jfk",
        "outputId": "82424c94-0717-4362-8ecc-e19bae99703c"
      },
      "execution_count": null,
      "outputs": [
        {
          "output_type": "stream",
          "name": "stdout",
          "text": [
            "training dataset: (62464, 70) (62464, 4)\n",
            "testing dataset: (562176, 70) (562176, 4)\n"
          ]
        }
      ]
    },
    {
      "cell_type": "markdown",
      "source": [
        "**Here all the training file have been loaded .The data have been put in variable X and label values have been put in Y.Then the X has been Normalized and then valence label values have been loaded in Z. And then all the '9' values are converted into '8.99' of valence label.**"
      ],
      "metadata": {
        "id": "MQu1A2EE8rDU"
      }
    },
    {
      "cell_type": "code",
      "source": [
        "with open(path_to_dataset + 'data_training.npy', 'rb') as fileTrain:\n",
        "    X  = np.load(fileTrain)\n",
        "    \n",
        "with open(path_to_dataset + 'label_training.npy', 'rb') as fileTrainL:\n",
        "    Y  = np.load(fileTrainL)\n",
        "    \n",
        "X = normalize(X)\n",
        "Z = np.ravel(Y[:, [0]])\n",
        "\n",
        "Valence_Train = np.ravel(Y[:, [0]])\n",
        "Arousal_Train = np.ravel(Y[:, [1]])\n",
        "Domain_Train = np.ravel(Y[:, [2]])\n",
        "Like_Train = np.ravel(Y[:, [3]])\n",
        "\n",
        "for i in range(len(Z)):\n",
        "  if Z[i] == 9:\n",
        "    Z[i] = 8.99"
      ],
      "metadata": {
        "id": "y3mIzhwO8o_o"
      },
      "execution_count": null,
      "outputs": []
    },
    {
      "cell_type": "code",
      "source": [
        "Arousal_Train = Arousal_Train.reshape((468480, 1))\n",
        "Domain_Train = Domain_Train.reshape((468480, 1))\n",
        "Like_Train = Like_Train.reshape((468480, 1))\n",
        "\n",
        "train = np.hstack([X, Arousal_Train, Domain_Train, Like_Train])\n",
        "train.shape"
      ],
      "metadata": {
        "colab": {
          "base_uri": "https://localhost:8080/"
        },
        "id": "EdS0RbPTD5DB",
        "outputId": "f88ec86b-e14a-48c5-c14a-7fa3acbcfd2b"
      },
      "execution_count": null,
      "outputs": [
        {
          "output_type": "execute_result",
          "data": {
            "text/plain": [
              "(468480, 73)"
            ]
          },
          "metadata": {},
          "execution_count": 8
        }
      ]
    },
    {
      "cell_type": "code",
      "source": [
        "X_old = X\n",
        "X = train"
      ],
      "metadata": {
        "id": "vMaQJV_oFrdh"
      },
      "execution_count": null,
      "outputs": []
    },
    {
      "cell_type": "markdown",
      "source": [
        "**All the training label values are divided into two segments. One segment contains values from 1 - 4.9 and another contains rest of the range's values. This approch is maintained for valence, arousal, dominance, likings binary classifications but not for other class classification.**\n"
      ],
      "metadata": {
        "id": "ukkvhSy59UmL"
      }
    },
    {
      "cell_type": "code",
      "source": [
        "count_0 = 0\n",
        "count_1 = 0\n",
        "for i in range(len(Z)):\n",
        "  if Z[i] >= 1 and Z[i]<=4.99:\n",
        "    Z [i] = 0\n",
        "    count_0 = count_0 + 1\n",
        "  else:\n",
        "    Z [i] = 1\n",
        "    count_1 = count_1 + 1\n",
        "print(count_0,count_1)"
      ],
      "metadata": {
        "id": "qKo3Al4q9QGN",
        "colab": {
          "base_uri": "https://localhost:8080/"
        },
        "outputId": "a44a9317-6e18-42a5-f128-858895fd9d5b"
      },
      "execution_count": null,
      "outputs": [
        {
          "output_type": "stream",
          "name": "stdout",
          "text": [
            "203496 264984\n"
          ]
        }
      ]
    },
    {
      "cell_type": "markdown",
      "source": [
        "**Necessery libraries are imported**\n"
      ],
      "metadata": {
        "id": "XJjrH5BI9oQA"
      }
    },
    {
      "cell_type": "code",
      "source": [
        "import pandas as pd\n",
        "import keras.backend as K\n",
        "import numpy as np\n",
        "import pandas as pd\n",
        "from keras.models import Sequential\n",
        "from keras.layers import Dense\n",
        "from keras.layers.convolutional import Conv1D\n",
        "from tensorflow.keras.utils import to_categorical \n",
        "from keras.layers import Flatten\n",
        "from keras.layers import Dense\n",
        "import keras\n",
        "from keras.datasets import mnist\n",
        "from keras.models import Sequential\n",
        "from keras.layers import Dense, Dropout, Flatten, Conv2D, MaxPooling2D\n",
        "from keras import backend as K\n",
        "from keras.models import Model\n",
        "import timeit\n",
        "from keras.layers.core import Flatten, Dense, Dropout\n",
        "from keras.layers.convolutional import Convolution1D, MaxPooling1D, ZeroPadding1D\n",
        "import warnings\n",
        "warnings.filterwarnings('ignore')"
      ],
      "metadata": {
        "id": "uFjlpfPT9lmG"
      },
      "execution_count": null,
      "outputs": []
    },
    {
      "cell_type": "markdown",
      "source": [
        "**Here all the training label values are categorised. For binary classification and it is catagorised into two catagory. value range 1 - 4.99 have been assigned in catagory '0' and rest of the value are assigned in catagory '1'.** \n",
        "\n",
        "1.  1-4.99 ----> catagory(0)\n",
        "2.  5-8.99 ----> catagory(1)"
      ],
      "metadata": {
        "id": "fLj9JB7QCBXJ"
      }
    },
    {
      "cell_type": "code",
      "source": [
        "y_train = to_categorical(Z)\n",
        "y_train[:10]"
      ],
      "metadata": {
        "id": "4KiVKopf_LXx",
        "colab": {
          "base_uri": "https://localhost:8080/"
        },
        "outputId": "333d7a79-fed3-44d3-8673-2ef6002fc6a3"
      },
      "execution_count": null,
      "outputs": [
        {
          "output_type": "execute_result",
          "data": {
            "text/plain": [
              "array([[0., 1.],\n",
              "       [0., 1.],\n",
              "       [0., 1.],\n",
              "       [0., 1.],\n",
              "       [0., 1.],\n",
              "       [0., 1.],\n",
              "       [0., 1.],\n",
              "       [0., 1.],\n",
              "       [0., 1.],\n",
              "       [0., 1.]], dtype=float32)"
            ]
          },
          "metadata": {},
          "execution_count": 12
        }
      ]
    },
    {
      "cell_type": "markdown",
      "source": [
        "**Values of X are put in x_train as numpy array format**"
      ],
      "metadata": {
        "id": "E2ZJr6OkCwLU"
      }
    },
    {
      "cell_type": "code",
      "source": [
        "x_train = np.array(X[:])"
      ],
      "metadata": {
        "id": "AWkP9PIVCrKm"
      },
      "execution_count": null,
      "outputs": []
    },
    {
      "cell_type": "markdown",
      "source": [
        "**Here all the testing file have been loaded .The data have been put in variable M and label values have been put in N.Then the M has been Normalized and then valence label values have been loaded in L. And then all the '9' values are converted into '8.99' of valence label.**"
      ],
      "metadata": {
        "id": "voUuOfkiDGCu"
      }
    },
    {
      "cell_type": "code",
      "source": [
        "with open(path_to_dataset + 'data_testing.npy', 'rb') as fileTrain:\n",
        "    M  = np.load(fileTrain)\n",
        "    \n",
        "with open(path_to_dataset + 'label_testing.npy', 'rb') as fileTrainL:\n",
        "    N  = np.load(fileTrainL)\n",
        "\n",
        "M = normalize(M)\n",
        "L = np.ravel(N[:, [0]])\n",
        "\n",
        "\n",
        "Valence_Test = np.ravel(N[:, [0]])\n",
        "Arousal_Test = np.ravel(N[:, [1]])\n",
        "Domain_Test = np.ravel(N[:, [2]])\n",
        "Like_Test = np.ravel(N[:, [3]])\n",
        "\n",
        "for i in range(len(L)):\n",
        "  if L[i] == 9:\n",
        "    L[i] = 8.99"
      ],
      "metadata": {
        "id": "BsPYGOggDD57"
      },
      "execution_count": null,
      "outputs": []
    },
    {
      "cell_type": "markdown",
      "source": [
        "**All the testing labels values are divided into two segments. One segment contains values from 1 - 4.9 and another contains rest of the range's values. This approch is maintained for valence, arousal, dominance, likings binary classifications but not for other class classification.**"
      ],
      "metadata": {
        "id": "VcCAh-CLDlzc"
      }
    },
    {
      "cell_type": "code",
      "source": [
        "count_0 = 0\n",
        "count_1 = 0\n",
        "for i in range(len(L)):\n",
        "  if L[i] >= 1 and L[i]<=4.99:\n",
        "    L [i] = 0\n",
        "    count_0 = count_0 + 1\n",
        "  else:\n",
        "    L [i] = 1\n",
        "    count_1 = count_1 + 1\n",
        "print(count_0,count_1)"
      ],
      "metadata": {
        "id": "m-a4LQwrDNha",
        "colab": {
          "base_uri": "https://localhost:8080/"
        },
        "outputId": "227b85bd-9e76-45a8-871f-243545e740a6"
      },
      "execution_count": null,
      "outputs": [
        {
          "output_type": "stream",
          "name": "stdout",
          "text": [
            "67832 88328\n"
          ]
        }
      ]
    },
    {
      "cell_type": "code",
      "source": [
        "M.shape"
      ],
      "metadata": {
        "colab": {
          "base_uri": "https://localhost:8080/"
        },
        "id": "lptYXer8QAe7",
        "outputId": "51d06b27-c34d-49e5-974c-602403dcf376"
      },
      "execution_count": null,
      "outputs": [
        {
          "output_type": "execute_result",
          "data": {
            "text/plain": [
              "(156160, 70)"
            ]
          },
          "metadata": {},
          "execution_count": 16
        }
      ]
    },
    {
      "cell_type": "code",
      "source": [
        "Arousal_Test = Arousal_Test.reshape((156160, 1))\n",
        "Domain_Test = Domain_Test.reshape((156160, 1))\n",
        "Like_Test = Like_Test.reshape((156160, 1))\n",
        "\n",
        "test = np.hstack([M, Arousal_Test, Domain_Test, Like_Test])\n",
        "test.shape"
      ],
      "metadata": {
        "colab": {
          "base_uri": "https://localhost:8080/"
        },
        "id": "79YmKEmzPhDR",
        "outputId": "659a227f-9c9c-4a4f-f58e-5b4207c975a8"
      },
      "execution_count": null,
      "outputs": [
        {
          "output_type": "execute_result",
          "data": {
            "text/plain": [
              "(156160, 73)"
            ]
          },
          "metadata": {},
          "execution_count": 17
        }
      ]
    },
    {
      "cell_type": "markdown",
      "source": [
        "**Vules of M are assigned in x_test in numpy array format**"
      ],
      "metadata": {
        "id": "kHeeUA-NDs7g"
      }
    },
    {
      "cell_type": "code",
      "source": [
        "x_test = np.array(test[:])\n",
        "x_test"
      ],
      "metadata": {
        "id": "9p5OtTSpDowv",
        "colab": {
          "base_uri": "https://localhost:8080/"
        },
        "outputId": "4ef8d72b-819e-41a3-d34e-c2f301ee6123"
      },
      "execution_count": null,
      "outputs": [
        {
          "output_type": "execute_result",
          "data": {
            "text/plain": [
              "array([[0.07006464, 0.10438554, 0.06634758, ..., 7.6       , 6.9       ,\n",
              "        7.83      ],\n",
              "       [0.07695878, 0.10655808, 0.05897592, ..., 7.6       , 6.9       ,\n",
              "        7.83      ],\n",
              "       [0.07546743, 0.08606705, 0.07999725, ..., 7.6       , 6.9       ,\n",
              "        7.83      ],\n",
              "       ...,\n",
              "       [0.1897225 , 0.11085076, 0.04970787, ..., 4.03      , 9.        ,\n",
              "        1.88      ],\n",
              "       [0.17817637, 0.08834064, 0.05389381, ..., 4.03      , 9.        ,\n",
              "        1.88      ],\n",
              "       [0.14543648, 0.08345535, 0.04799341, ..., 4.03      , 9.        ,\n",
              "        1.88      ]])"
            ]
          },
          "metadata": {},
          "execution_count": 18
        }
      ]
    },
    {
      "cell_type": "markdown",
      "source": [
        "**Here all the tessting labels values are categorised. For binary classification and it is catagorised into two catagory. value range 1 - 4.99 have been assigned in catagory '0' and rest of the value are assigned in catagory '1'.**\n",
        "\n",
        "* 1-4.99 ----> catagory(0)\n",
        "* 5-8.99 ----> catagory(1)"
      ],
      "metadata": {
        "id": "Dmad0dIeD9p1"
      }
    },
    {
      "cell_type": "code",
      "source": [
        "from tensorflow.keras.utils import to_categorical \n",
        "y_test = to_categorical(L)"
      ],
      "metadata": {
        "id": "NjtJICaLDxSu"
      },
      "execution_count": null,
      "outputs": []
    },
    {
      "cell_type": "markdown",
      "source": [
        "**Fit the train and test data with StandarScaler**"
      ],
      "metadata": {
        "id": "Mv9gbfQ4Ej2_"
      }
    },
    {
      "cell_type": "code",
      "source": [
        "from sklearn.preprocessing import StandardScaler\n",
        "scaler = StandardScaler()\n",
        "scaler.fit(x_train)\n",
        "x_train = scaler.transform(x_train)\n",
        "#x_test = scaler.transform(x_test)"
      ],
      "metadata": {
        "id": "HJmfBhkzEgWD"
      },
      "execution_count": null,
      "outputs": []
    },
    {
      "cell_type": "code",
      "source": [
        "x_test = scaler.transform(x_test)"
      ],
      "metadata": {
        "id": "BfUVNnsaQId_"
      },
      "execution_count": null,
      "outputs": []
    },
    {
      "cell_type": "code",
      "source": [
        "from sklearn.preprocessing import StandardScaler\n",
        "scaler = StandardScaler()\n",
        "x_train = scaler.fit_transform(x_train)\n",
        "x_test = scaler.fit_transform(x_test)"
      ],
      "metadata": {
        "id": "Cjhg6h-nQ8sa"
      },
      "execution_count": null,
      "outputs": []
    },
    {
      "cell_type": "markdown",
      "source": [
        "**Two dimensional data are converted into three dimension by adding one constant dimension’s value '1'. This is for CNN, LSTM and Bi-LSTM only**"
      ],
      "metadata": {
        "id": "lj8TbcDrEuTc"
      }
    },
    {
      "cell_type": "code",
      "source": [
        "x_train = x_train.reshape(x_train.shape[0],x_train.shape[1], 1)\n",
        "x_test = x_test.reshape(x_test.shape[0],x_test.shape[1], 1)"
      ],
      "metadata": {
        "id": "JRyWUvT2ErVP"
      },
      "execution_count": null,
      "outputs": []
    },
    {
      "cell_type": "code",
      "source": [
        "print(x_train.shape, x_test.shape, y_train.shape, y_test.shape)"
      ],
      "metadata": {
        "colab": {
          "base_uri": "https://localhost:8080/"
        },
        "id": "b-J8Vaix5Mww",
        "outputId": "9ad81988-5e11-4d34-e755-fda8422ea812"
      },
      "execution_count": null,
      "outputs": [
        {
          "output_type": "stream",
          "name": "stdout",
          "text": [
            "(468480, 73, 1) (156160, 73, 1) (468480, 2) (156160, 2)\n"
          ]
        }
      ]
    },
    {
      "cell_type": "code",
      "source": [
        "print(x_train.shape,  y_train.shape)"
      ],
      "metadata": {
        "colab": {
          "base_uri": "https://localhost:8080/"
        },
        "id": "0nRxMQVUF8Ms",
        "outputId": "cae23831-9674-497a-b496-447e331730d5"
      },
      "execution_count": null,
      "outputs": [
        {
          "output_type": "stream",
          "name": "stdout",
          "text": [
            "(468480, 73, 1) (468480, 2)\n"
          ]
        }
      ]
    },
    {
      "cell_type": "markdown",
      "source": [
        "**Here define the batch_size, number of class used in model architecture ,how many epoch will be run with the model and also define the input_shape. This is for CNN, LSTM and Bi-LSTM only**"
      ],
      "metadata": {
        "id": "WNHhtPjXE00n"
      }
    },
    {
      "cell_type": "code",
      "source": [
        "batch_size = 256\n",
        "num_classes = 2\n",
        "epochs = 100\n",
        "\n",
        "input_shape=(x_train.shape[1], 1)"
      ],
      "metadata": {
        "id": "JNok-kthEy8I"
      },
      "execution_count": null,
      "outputs": []
    },
    {
      "cell_type": "markdown",
      "source": [
        "**import another library packages**"
      ],
      "metadata": {
        "id": "I6hO6aUsE6Iv"
      }
    },
    {
      "cell_type": "code",
      "source": [
        "from keras.layers import Convolution1D, ZeroPadding1D, MaxPooling1D, BatchNormalization, Activation, Dropout, Flatten, Dense\n",
        "from keras.regularizers import l2\n",
        "from keras.layers import Input\n",
        "from keras.layers.merge import concatenate\n",
        "from keras.layers import Input\n",
        "from keras.layers.merge import concatenate\n",
        "from keras.utils.vis_utils import plot_model"
      ],
      "metadata": {
        "id": "i4p1eXuNE6eX"
      },
      "execution_count": null,
      "outputs": []
    },
    {
      "cell_type": "markdown",
      "source": [
        "# Deep Learning Algorithms"
      ],
      "metadata": {
        "id": "thhGtcUzRRzr"
      }
    },
    {
      "cell_type": "markdown",
      "source": [
        "##CNN Model with Residual Connection"
      ],
      "metadata": {
        "id": "AyME6RCnF-bP"
      }
    },
    {
      "cell_type": "markdown",
      "source": [
        "**M2**"
      ],
      "metadata": {
        "id": "vPbrAN6Xenbk"
      }
    },
    {
      "cell_type": "code",
      "source": [
        "from keras.layers import Input\n",
        "from keras.layers.merge import concatenate\n",
        "from keras.utils.vis_utils import plot_model\n",
        "\n",
        "\n",
        "intput_shape=(x_train.shape[1], 1) #x_train.shape[1]\n",
        "\n",
        "input_layer = Input(intput_shape)\n",
        "\n",
        "conv1 = Conv1D(16, kernel_size=6,padding = 'same',activation='relu') (input_layer)\n",
        "bn1 = BatchNormalization() (conv1)\n",
        "pool1 = MaxPooling1D(pool_size=(2)) (bn1)\n",
        "\n",
        "conv2 = Conv1D(16,kernel_size=6,padding = 'same', activation='relu') (pool1)\n",
        "bn2 = BatchNormalization() (conv2) \n",
        "pool2 = MaxPooling1D(pool_size=(2)) (bn2)\n",
        "\n",
        "\n",
        "connect1 = concatenate([pool1, pool2], axis=1)\n",
        "\n",
        "\n",
        "flat = Flatten() (connect1)\n",
        "\n",
        "\n",
        "\n",
        "\n",
        "dense3 = Dense(32, activation='relu') (flat)\n",
        "drop3 = Dropout(0.2) (dense3)\n",
        "\n",
        "output_layer = Dense(2, activation='softmax') (drop3) #num_classes\n",
        "\n",
        "model = Model(input_layer, output_layer)\n",
        "model.summary()\n",
        "plot_model(model, to_file='model_plot.png', show_shapes=True, show_layer_names=True)"
      ],
      "metadata": {
        "colab": {
          "base_uri": "https://localhost:8080/",
          "height": 1000
        },
        "outputId": "76823282-973a-4413-81bd-d20b84ae3359",
        "id": "AclohGXpiIhS"
      },
      "execution_count": null,
      "outputs": [
        {
          "output_type": "stream",
          "name": "stdout",
          "text": [
            "Model: \"model\"\n",
            "__________________________________________________________________________________________________\n",
            " Layer (type)                   Output Shape         Param #     Connected to                     \n",
            "==================================================================================================\n",
            " input_1 (InputLayer)           [(None, 73, 1)]      0           []                               \n",
            "                                                                                                  \n",
            " conv1d (Conv1D)                (None, 73, 16)       112         ['input_1[0][0]']                \n",
            "                                                                                                  \n",
            " batch_normalization (BatchNorm  (None, 73, 16)      64          ['conv1d[0][0]']                 \n",
            " alization)                                                                                       \n",
            "                                                                                                  \n",
            " max_pooling1d (MaxPooling1D)   (None, 36, 16)       0           ['batch_normalization[0][0]']    \n",
            "                                                                                                  \n",
            " conv1d_1 (Conv1D)              (None, 36, 16)       1552        ['max_pooling1d[0][0]']          \n",
            "                                                                                                  \n",
            " batch_normalization_1 (BatchNo  (None, 36, 16)      64          ['conv1d_1[0][0]']               \n",
            " rmalization)                                                                                     \n",
            "                                                                                                  \n",
            " max_pooling1d_1 (MaxPooling1D)  (None, 18, 16)      0           ['batch_normalization_1[0][0]']  \n",
            "                                                                                                  \n",
            " concatenate (Concatenate)      (None, 54, 16)       0           ['max_pooling1d[0][0]',          \n",
            "                                                                  'max_pooling1d_1[0][0]']        \n",
            "                                                                                                  \n",
            " flatten (Flatten)              (None, 864)          0           ['concatenate[0][0]']            \n",
            "                                                                                                  \n",
            " dense (Dense)                  (None, 32)           27680       ['flatten[0][0]']                \n",
            "                                                                                                  \n",
            " dropout (Dropout)              (None, 32)           0           ['dense[0][0]']                  \n",
            "                                                                                                  \n",
            " dense_1 (Dense)                (None, 2)            66          ['dropout[0][0]']                \n",
            "                                                                                                  \n",
            "==================================================================================================\n",
            "Total params: 29,538\n",
            "Trainable params: 29,474\n",
            "Non-trainable params: 64\n",
            "__________________________________________________________________________________________________\n"
          ]
        },
        {
          "output_type": "execute_result",
          "data": {
            "image/png": "[encoded data removed]",
            "text/plain": [
              "<IPython.core.display.Image object>"
            ]
          },
          "metadata": {},
          "execution_count": 28
        }
      ]
    },
    {
      "cell_type": "markdown",
      "source": [
        "**Compiling the model**"
      ],
      "metadata": {
        "id": "Ih5KxmIIxsUh"
      }
    },
    {
      "cell_type": "code",
      "source": [
        "model.compile(loss=keras.losses.categorical_crossentropy, \n",
        "              optimizer='adam',\n",
        "              metrics=['accuracy'])"
      ],
      "metadata": {
        "id": "zBtYqOvGGOfV"
      },
      "execution_count": null,
      "outputs": []
    },
    {
      "cell_type": "markdown",
      "source": [
        "**train 80% test 20%**"
      ],
      "metadata": {
        "id": "h6nelnGdcV7S"
      }
    },
    {
      "cell_type": "code",
      "source": [
        "# check points and early stopping\n",
        "from keras.callbacks import ModelCheckpoint,EarlyStopping\n",
        "\n",
        "model_name = \"\"\n",
        "filepath=\"/content/drive/Shareddrives/DEAP EEG/Models Saved/Valence/Train_Test_Split_MDPI/80_20_Train_Test/2nd/\"  + model_name + \"weights-improvement-{epoch:02d}-{accuracy:.4f}.hdf5\"\n",
        "print(filepath)\n",
        "checkpoint = ModelCheckpoint(filepath, monitor='accuracy', verbose=1, save_best_only=True, mode='max')\n",
        "es = EarlyStopping(monitor='accuracy', mode='max', verbose=1, patience=10)\n",
        "callbacks_list = [es, checkpoint]"
      ],
      "metadata": {
        "colab": {
          "base_uri": "https://localhost:8080/"
        },
        "id": "I96Ig-SKcWL2",
        "outputId": "6630343c-73f0-44a0-c311-c39dbe06f4fe"
      },
      "execution_count": null,
      "outputs": [
        {
          "output_type": "stream",
          "name": "stdout",
          "text": [
            "/content/drive/Shareddrives/DEAP EEG/Models Saved/Valence/Train_Test_Split_MDPI/80_20_Train_Test/2nd/weights-improvement-{epoch:02d}-{accuracy:.4f}.hdf5\n"
          ]
        }
      ]
    },
    {
      "cell_type": "code",
      "source": [
        "%%time\n",
        "H = model.fit(x_train, y_train,\n",
        "          batch_size=100,\n",
        "          epochs=100,\n",
        "          verbose=1,\n",
        "          validation_data=(x_test, y_test),\n",
        "          callbacks= callbacks_list)"
      ],
      "metadata": {
        "colab": {
          "base_uri": "https://localhost:8080/"
        },
        "id": "FWzOJrP-ceIs",
        "outputId": "68418178-454b-48e2-c71b-607ddb5e61e1"
      },
      "execution_count": null,
      "outputs": [
        {
          "output_type": "stream",
          "name": "stdout",
          "text": [
            "Epoch 1/100\n",
            "4998/4998 [==============================] - ETA: 0s - loss: 0.3041 - accuracy: 0.8604\n",
            "Epoch 1: accuracy improved from -inf to 0.86036, saving model to /content/drive/Shareddrives/DEAP EEG/Models Saved/Valence/Train_Test_Split_MDPI/80_20_Train_Test/2nd/weights-improvement-01-0.8604.hdf5\n",
            "4998/4998 [==============================] - 53s 8ms/step - loss: 0.3041 - accuracy: 0.8604 - val_loss: 0.1976 - val_accuracy: 0.9111\n",
            "Epoch 2/100\n",
            "4997/4998 [============================>.] - ETA: 0s - loss: 0.1927 - accuracy: 0.9126\n",
            "Epoch 2: accuracy improved from 0.86036 to 0.91263, saving model to /content/drive/Shareddrives/DEAP EEG/Models Saved/Valence/Train_Test_Split_MDPI/80_20_Train_Test/2nd/weights-improvement-02-0.9126.hdf5\n",
            "4998/4998 [==============================] - 37s 7ms/step - loss: 0.1927 - accuracy: 0.9126 - val_loss: 0.1367 - val_accuracy: 0.9399\n",
            "Epoch 3/100\n",
            "4997/4998 [============================>.] - ETA: 0s - loss: 0.1536 - accuracy: 0.9311\n",
            "Epoch 3: accuracy improved from 0.91263 to 0.93108, saving model to /content/drive/Shareddrives/DEAP EEG/Models Saved/Valence/Train_Test_Split_MDPI/80_20_Train_Test/2nd/weights-improvement-03-0.9311.hdf5\n",
            "4998/4998 [==============================] - 38s 8ms/step - loss: 0.1536 - accuracy: 0.9311 - val_loss: 0.1048 - val_accuracy: 0.9564\n",
            "Epoch 4/100\n",
            "4993/4998 [============================>.] - ETA: 0s - loss: 0.1338 - accuracy: 0.9402\n",
            "Epoch 4: accuracy improved from 0.93108 to 0.94016, saving model to /content/drive/Shareddrives/DEAP EEG/Models Saved/Valence/Train_Test_Split_MDPI/80_20_Train_Test/2nd/weights-improvement-04-0.9402.hdf5\n",
            "4998/4998 [==============================] - 37s 7ms/step - loss: 0.1338 - accuracy: 0.9402 - val_loss: 0.0914 - val_accuracy: 0.9606\n",
            "Epoch 5/100\n",
            "4995/4998 [============================>.] - ETA: 0s - loss: 0.1230 - accuracy: 0.9449\n",
            "Epoch 5: accuracy improved from 0.94016 to 0.94486, saving model to /content/drive/Shareddrives/DEAP EEG/Models Saved/Valence/Train_Test_Split_MDPI/80_20_Train_Test/2nd/weights-improvement-05-0.9449.hdf5\n",
            "4998/4998 [==============================] - 38s 8ms/step - loss: 0.1230 - accuracy: 0.9449 - val_loss: 0.0827 - val_accuracy: 0.9643\n",
            "Epoch 6/100\n",
            "4998/4998 [==============================] - ETA: 0s - loss: 0.1148 - accuracy: 0.9487\n",
            "Epoch 6: accuracy improved from 0.94486 to 0.94868, saving model to /content/drive/Shareddrives/DEAP EEG/Models Saved/Valence/Train_Test_Split_MDPI/80_20_Train_Test/2nd/weights-improvement-06-0.9487.hdf5\n",
            "4998/4998 [==============================] - 37s 7ms/step - loss: 0.1148 - accuracy: 0.9487 - val_loss: 0.0779 - val_accuracy: 0.9661\n",
            "Epoch 7/100\n",
            "4997/4998 [============================>.] - ETA: 0s - loss: 0.1078 - accuracy: 0.9517\n",
            "Epoch 7: accuracy improved from 0.94868 to 0.95167, saving model to /content/drive/Shareddrives/DEAP EEG/Models Saved/Valence/Train_Test_Split_MDPI/80_20_Train_Test/2nd/weights-improvement-07-0.9517.hdf5\n",
            "4998/4998 [==============================] - 37s 7ms/step - loss: 0.1078 - accuracy: 0.9517 - val_loss: 0.0673 - val_accuracy: 0.9720\n",
            "Epoch 8/100\n",
            "4997/4998 [============================>.] - ETA: 0s - loss: 0.1030 - accuracy: 0.9539\n",
            "Epoch 8: accuracy improved from 0.95167 to 0.95390, saving model to /content/drive/Shareddrives/DEAP EEG/Models Saved/Valence/Train_Test_Split_MDPI/80_20_Train_Test/2nd/weights-improvement-08-0.9539.hdf5\n",
            "4998/4998 [==============================] - 38s 8ms/step - loss: 0.1030 - accuracy: 0.9539 - val_loss: 0.0666 - val_accuracy: 0.9703\n",
            "Epoch 9/100\n",
            "4995/4998 [============================>.] - ETA: 0s - loss: 0.0994 - accuracy: 0.9553\n",
            "Epoch 9: accuracy improved from 0.95390 to 0.95531, saving model to /content/drive/Shareddrives/DEAP EEG/Models Saved/Valence/Train_Test_Split_MDPI/80_20_Train_Test/2nd/weights-improvement-09-0.9553.hdf5\n",
            "4998/4998 [==============================] - 38s 8ms/step - loss: 0.0994 - accuracy: 0.9553 - val_loss: 0.0651 - val_accuracy: 0.9728\n",
            "Epoch 10/100\n",
            "4995/4998 [============================>.] - ETA: 0s - loss: 0.0965 - accuracy: 0.9569\n",
            "Epoch 10: accuracy improved from 0.95531 to 0.95685, saving model to /content/drive/Shareddrives/DEAP EEG/Models Saved/Valence/Train_Test_Split_MDPI/80_20_Train_Test/2nd/weights-improvement-10-0.9569.hdf5\n",
            "4998/4998 [==============================] - 38s 8ms/step - loss: 0.0965 - accuracy: 0.9569 - val_loss: 0.0598 - val_accuracy: 0.9742\n",
            "Epoch 11/100\n",
            "4995/4998 [============================>.] - ETA: 0s - loss: 0.0926 - accuracy: 0.9583\n",
            "Epoch 11: accuracy improved from 0.95685 to 0.95828, saving model to /content/drive/Shareddrives/DEAP EEG/Models Saved/Valence/Train_Test_Split_MDPI/80_20_Train_Test/2nd/weights-improvement-11-0.9583.hdf5\n",
            "4998/4998 [==============================] - 37s 7ms/step - loss: 0.0927 - accuracy: 0.9583 - val_loss: 0.0580 - val_accuracy: 0.9754\n",
            "Epoch 12/100\n",
            "4992/4998 [============================>.] - ETA: 0s - loss: 0.0902 - accuracy: 0.9595\n",
            "Epoch 12: accuracy improved from 0.95828 to 0.95947, saving model to /content/drive/Shareddrives/DEAP EEG/Models Saved/Valence/Train_Test_Split_MDPI/80_20_Train_Test/2nd/weights-improvement-12-0.9595.hdf5\n",
            "4998/4998 [==============================] - 39s 8ms/step - loss: 0.0902 - accuracy: 0.9595 - val_loss: 0.0564 - val_accuracy: 0.9762\n",
            "Epoch 13/100\n",
            "4998/4998 [==============================] - ETA: 0s - loss: 0.0880 - accuracy: 0.9608\n",
            "Epoch 13: accuracy improved from 0.95947 to 0.96076, saving model to /content/drive/Shareddrives/DEAP EEG/Models Saved/Valence/Train_Test_Split_MDPI/80_20_Train_Test/2nd/weights-improvement-13-0.9608.hdf5\n",
            "4998/4998 [==============================] - 38s 8ms/step - loss: 0.0880 - accuracy: 0.9608 - val_loss: 0.0572 - val_accuracy: 0.9759\n",
            "Epoch 14/100\n",
            "4997/4998 [============================>.] - ETA: 0s - loss: 0.0859 - accuracy: 0.9616\n",
            "Epoch 14: accuracy improved from 0.96076 to 0.96157, saving model to /content/drive/Shareddrives/DEAP EEG/Models Saved/Valence/Train_Test_Split_MDPI/80_20_Train_Test/2nd/weights-improvement-14-0.9616.hdf5\n",
            "4998/4998 [==============================] - 37s 7ms/step - loss: 0.0859 - accuracy: 0.9616 - val_loss: 0.0524 - val_accuracy: 0.9786\n",
            "Epoch 15/100\n",
            "4997/4998 [============================>.] - ETA: 0s - loss: 0.0834 - accuracy: 0.9627\n",
            "Epoch 15: accuracy improved from 0.96157 to 0.96271, saving model to /content/drive/Shareddrives/DEAP EEG/Models Saved/Valence/Train_Test_Split_MDPI/80_20_Train_Test/2nd/weights-improvement-15-0.9627.hdf5\n",
            "4998/4998 [==============================] - 37s 7ms/step - loss: 0.0834 - accuracy: 0.9627 - val_loss: 0.0507 - val_accuracy: 0.9785\n",
            "Epoch 16/100\n",
            "4997/4998 [============================>.] - ETA: 0s - loss: 0.0815 - accuracy: 0.9635\n",
            "Epoch 16: accuracy improved from 0.96271 to 0.96351, saving model to /content/drive/Shareddrives/DEAP EEG/Models Saved/Valence/Train_Test_Split_MDPI/80_20_Train_Test/2nd/weights-improvement-16-0.9635.hdf5\n",
            "4998/4998 [==============================] - 37s 7ms/step - loss: 0.0815 - accuracy: 0.9635 - val_loss: 0.0478 - val_accuracy: 0.9799\n",
            "Epoch 17/100\n",
            "4992/4998 [============================>.] - ETA: 0s - loss: 0.0802 - accuracy: 0.9641\n",
            "Epoch 17: accuracy improved from 0.96351 to 0.96415, saving model to /content/drive/Shareddrives/DEAP EEG/Models Saved/Valence/Train_Test_Split_MDPI/80_20_Train_Test/2nd/weights-improvement-17-0.9641.hdf5\n",
            "4998/4998 [==============================] - 38s 8ms/step - loss: 0.0802 - accuracy: 0.9641 - val_loss: 0.0523 - val_accuracy: 0.9787\n",
            "Epoch 18/100\n",
            "4998/4998 [==============================] - ETA: 0s - loss: 0.0790 - accuracy: 0.9646\n",
            "Epoch 18: accuracy improved from 0.96415 to 0.96461, saving model to /content/drive/Shareddrives/DEAP EEG/Models Saved/Valence/Train_Test_Split_MDPI/80_20_Train_Test/2nd/weights-improvement-18-0.9646.hdf5\n",
            "4998/4998 [==============================] - 37s 7ms/step - loss: 0.0790 - accuracy: 0.9646 - val_loss: 0.0460 - val_accuracy: 0.9804\n",
            "Epoch 19/100\n",
            "4993/4998 [============================>.] - ETA: 0s - loss: 0.0775 - accuracy: 0.9654\n",
            "Epoch 19: accuracy improved from 0.96461 to 0.96538, saving model to /content/drive/Shareddrives/DEAP EEG/Models Saved/Valence/Train_Test_Split_MDPI/80_20_Train_Test/2nd/weights-improvement-19-0.9654.hdf5\n",
            "4998/4998 [==============================] - 36s 7ms/step - loss: 0.0775 - accuracy: 0.9654 - val_loss: 0.0473 - val_accuracy: 0.9806\n",
            "Epoch 20/100\n",
            "4995/4998 [============================>.] - ETA: 0s - loss: 0.0768 - accuracy: 0.9654\n",
            "Epoch 20: accuracy improved from 0.96538 to 0.96544, saving model to /content/drive/Shareddrives/DEAP EEG/Models Saved/Valence/Train_Test_Split_MDPI/80_20_Train_Test/2nd/weights-improvement-20-0.9654.hdf5\n",
            "4998/4998 [==============================] - 37s 7ms/step - loss: 0.0768 - accuracy: 0.9654 - val_loss: 0.0451 - val_accuracy: 0.9811\n",
            "Epoch 21/100\n",
            "4998/4998 [==============================] - ETA: 0s - loss: 0.0747 - accuracy: 0.9665\n",
            "Epoch 21: accuracy improved from 0.96544 to 0.96648, saving model to /content/drive/Shareddrives/DEAP EEG/Models Saved/Valence/Train_Test_Split_MDPI/80_20_Train_Test/2nd/weights-improvement-21-0.9665.hdf5\n",
            "4998/4998 [==============================] - 39s 8ms/step - loss: 0.0747 - accuracy: 0.9665 - val_loss: 0.0446 - val_accuracy: 0.9814\n",
            "Epoch 22/100\n",
            "4995/4998 [============================>.] - ETA: 0s - loss: 0.0736 - accuracy: 0.9668\n",
            "Epoch 22: accuracy improved from 0.96648 to 0.96679, saving model to /content/drive/Shareddrives/DEAP EEG/Models Saved/Valence/Train_Test_Split_MDPI/80_20_Train_Test/2nd/weights-improvement-22-0.9668.hdf5\n",
            "4998/4998 [==============================] - 38s 8ms/step - loss: 0.0736 - accuracy: 0.9668 - val_loss: 0.0412 - val_accuracy: 0.9822\n",
            "Epoch 23/100\n",
            "4997/4998 [============================>.] - ETA: 0s - loss: 0.0726 - accuracy: 0.9675\n",
            "Epoch 23: accuracy improved from 0.96679 to 0.96751, saving model to /content/drive/Shareddrives/DEAP EEG/Models Saved/Valence/Train_Test_Split_MDPI/80_20_Train_Test/2nd/weights-improvement-23-0.9675.hdf5\n",
            "4998/4998 [==============================] - 38s 8ms/step - loss: 0.0726 - accuracy: 0.9675 - val_loss: 0.0419 - val_accuracy: 0.9828\n",
            "Epoch 24/100\n",
            "4993/4998 [============================>.] - ETA: 0s - loss: 0.0717 - accuracy: 0.9675\n",
            "Epoch 24: accuracy improved from 0.96751 to 0.96753, saving model to /content/drive/Shareddrives/DEAP EEG/Models Saved/Valence/Train_Test_Split_MDPI/80_20_Train_Test/2nd/weights-improvement-24-0.9675.hdf5\n",
            "4998/4998 [==============================] - 37s 7ms/step - loss: 0.0717 - accuracy: 0.9675 - val_loss: 0.0436 - val_accuracy: 0.9818\n",
            "Epoch 25/100\n",
            "4992/4998 [============================>.] - ETA: 0s - loss: 0.0701 - accuracy: 0.9681\n",
            "Epoch 25: accuracy improved from 0.96753 to 0.96814, saving model to /content/drive/Shareddrives/DEAP EEG/Models Saved/Valence/Train_Test_Split_MDPI/80_20_Train_Test/2nd/weights-improvement-25-0.9681.hdf5\n",
            "4998/4998 [==============================] - 36s 7ms/step - loss: 0.0701 - accuracy: 0.9681 - val_loss: 0.0408 - val_accuracy: 0.9826\n",
            "Epoch 26/100\n",
            "4996/4998 [============================>.] - ETA: 0s - loss: 0.0691 - accuracy: 0.9687\n",
            "Epoch 26: accuracy improved from 0.96814 to 0.96871, saving model to /content/drive/Shareddrives/DEAP EEG/Models Saved/Valence/Train_Test_Split_MDPI/80_20_Train_Test/2nd/weights-improvement-26-0.9687.hdf5\n",
            "4998/4998 [==============================] - 37s 7ms/step - loss: 0.0691 - accuracy: 0.9687 - val_loss: 0.0391 - val_accuracy: 0.9831\n",
            "Epoch 27/100\n",
            "4996/4998 [============================>.] - ETA: 0s - loss: 0.0681 - accuracy: 0.9689\n",
            "Epoch 27: accuracy improved from 0.96871 to 0.96894, saving model to /content/drive/Shareddrives/DEAP EEG/Models Saved/Valence/Train_Test_Split_MDPI/80_20_Train_Test/2nd/weights-improvement-27-0.9689.hdf5\n",
            "4998/4998 [==============================] - 38s 8ms/step - loss: 0.0681 - accuracy: 0.9689 - val_loss: 0.0380 - val_accuracy: 0.9832\n",
            "Epoch 28/100\n",
            "4997/4998 [============================>.] - ETA: 0s - loss: 0.0679 - accuracy: 0.9690\n",
            "Epoch 28: accuracy improved from 0.96894 to 0.96895, saving model to /content/drive/Shareddrives/DEAP EEG/Models Saved/Valence/Train_Test_Split_MDPI/80_20_Train_Test/2nd/weights-improvement-28-0.9690.hdf5\n",
            "4998/4998 [==============================] - 39s 8ms/step - loss: 0.0679 - accuracy: 0.9690 - val_loss: 0.0419 - val_accuracy: 0.9820\n",
            "Epoch 29/100\n",
            "4997/4998 [============================>.] - ETA: 0s - loss: 0.0669 - accuracy: 0.9693\n",
            "Epoch 29: accuracy improved from 0.96895 to 0.96935, saving model to /content/drive/Shareddrives/DEAP EEG/Models Saved/Valence/Train_Test_Split_MDPI/80_20_Train_Test/2nd/weights-improvement-29-0.9694.hdf5\n",
            "4998/4998 [==============================] - 38s 8ms/step - loss: 0.0669 - accuracy: 0.9694 - val_loss: 0.0376 - val_accuracy: 0.9833\n",
            "Epoch 30/100\n",
            "4998/4998 [==============================] - ETA: 0s - loss: 0.0668 - accuracy: 0.9693\n",
            "Epoch 30: accuracy did not improve from 0.96935\n",
            "4998/4998 [==============================] - 38s 8ms/step - loss: 0.0668 - accuracy: 0.9693 - val_loss: 0.0355 - val_accuracy: 0.9837\n",
            "Epoch 31/100\n",
            "4998/4998 [==============================] - ETA: 0s - loss: 0.0658 - accuracy: 0.9699\n",
            "Epoch 31: accuracy improved from 0.96935 to 0.96986, saving model to /content/drive/Shareddrives/DEAP EEG/Models Saved/Valence/Train_Test_Split_MDPI/80_20_Train_Test/2nd/weights-improvement-31-0.9699.hdf5\n",
            "4998/4998 [==============================] - 36s 7ms/step - loss: 0.0658 - accuracy: 0.9699 - val_loss: 0.0359 - val_accuracy: 0.9844\n",
            "Epoch 32/100\n",
            "4993/4998 [============================>.] - ETA: 0s - loss: 0.0656 - accuracy: 0.9703\n",
            "Epoch 32: accuracy improved from 0.96986 to 0.97033, saving model to /content/drive/Shareddrives/DEAP EEG/Models Saved/Valence/Train_Test_Split_MDPI/80_20_Train_Test/2nd/weights-improvement-32-0.9703.hdf5\n",
            "4998/4998 [==============================] - 39s 8ms/step - loss: 0.0656 - accuracy: 0.9703 - val_loss: 0.0368 - val_accuracy: 0.9847\n",
            "Epoch 33/100\n",
            "4993/4998 [============================>.] - ETA: 0s - loss: 0.0650 - accuracy: 0.9702\n",
            "Epoch 33: accuracy did not improve from 0.97033\n",
            "4998/4998 [==============================] - 38s 8ms/step - loss: 0.0650 - accuracy: 0.9701 - val_loss: 0.0357 - val_accuracy: 0.9839\n",
            "Epoch 34/100\n",
            "4994/4998 [============================>.] - ETA: 0s - loss: 0.0634 - accuracy: 0.9710\n",
            "Epoch 34: accuracy improved from 0.97033 to 0.97101, saving model to /content/drive/Shareddrives/DEAP EEG/Models Saved/Valence/Train_Test_Split_MDPI/80_20_Train_Test/2nd/weights-improvement-34-0.9710.hdf5\n",
            "4998/4998 [==============================] - 36s 7ms/step - loss: 0.0634 - accuracy: 0.9710 - val_loss: 0.0358 - val_accuracy: 0.9838\n",
            "Epoch 35/100\n",
            "4994/4998 [============================>.] - ETA: 0s - loss: 0.0626 - accuracy: 0.9711\n",
            "Epoch 35: accuracy improved from 0.97101 to 0.97111, saving model to /content/drive/Shareddrives/DEAP EEG/Models Saved/Valence/Train_Test_Split_MDPI/80_20_Train_Test/2nd/weights-improvement-35-0.9711.hdf5\n",
            "4998/4998 [==============================] - 36s 7ms/step - loss: 0.0627 - accuracy: 0.9711 - val_loss: 0.0342 - val_accuracy: 0.9846\n",
            "Epoch 36/100\n",
            "4997/4998 [============================>.] - ETA: 0s - loss: 0.0631 - accuracy: 0.9710\n",
            "Epoch 36: accuracy did not improve from 0.97111\n",
            "4998/4998 [==============================] - 39s 8ms/step - loss: 0.0631 - accuracy: 0.9710 - val_loss: 0.0340 - val_accuracy: 0.9849\n",
            "Epoch 37/100\n",
            "4995/4998 [============================>.] - ETA: 0s - loss: 0.0623 - accuracy: 0.9715\n",
            "Epoch 37: accuracy improved from 0.97111 to 0.97147, saving model to /content/drive/Shareddrives/DEAP EEG/Models Saved/Valence/Train_Test_Split_MDPI/80_20_Train_Test/2nd/weights-improvement-37-0.9715.hdf5\n",
            "4998/4998 [==============================] - 38s 8ms/step - loss: 0.0623 - accuracy: 0.9715 - val_loss: 0.0321 - val_accuracy: 0.9851\n",
            "Epoch 38/100\n",
            "4995/4998 [============================>.] - ETA: 0s - loss: 0.0620 - accuracy: 0.9714\n",
            "Epoch 38: accuracy did not improve from 0.97147\n",
            "4998/4998 [==============================] - 37s 7ms/step - loss: 0.0620 - accuracy: 0.9714 - val_loss: 0.0321 - val_accuracy: 0.9859\n",
            "Epoch 39/100\n",
            "4993/4998 [============================>.] - ETA: 0s - loss: 0.0611 - accuracy: 0.9718\n",
            "Epoch 39: accuracy improved from 0.97147 to 0.97177, saving model to /content/drive/Shareddrives/DEAP EEG/Models Saved/Valence/Train_Test_Split_MDPI/80_20_Train_Test/2nd/weights-improvement-39-0.9718.hdf5\n",
            "4998/4998 [==============================] - 38s 8ms/step - loss: 0.0611 - accuracy: 0.9718 - val_loss: 0.0339 - val_accuracy: 0.9851\n",
            "Epoch 40/100\n",
            "4995/4998 [============================>.] - ETA: 0s - loss: 0.0608 - accuracy: 0.9719\n",
            "Epoch 40: accuracy improved from 0.97177 to 0.97193, saving model to /content/drive/Shareddrives/DEAP EEG/Models Saved/Valence/Train_Test_Split_MDPI/80_20_Train_Test/2nd/weights-improvement-40-0.9719.hdf5\n",
            "4998/4998 [==============================] - 38s 8ms/step - loss: 0.0608 - accuracy: 0.9719 - val_loss: 0.0325 - val_accuracy: 0.9857\n",
            "Epoch 41/100\n",
            "4996/4998 [============================>.] - ETA: 0s - loss: 0.0603 - accuracy: 0.9720\n",
            "Epoch 41: accuracy improved from 0.97193 to 0.97198, saving model to /content/drive/Shareddrives/DEAP EEG/Models Saved/Valence/Train_Test_Split_MDPI/80_20_Train_Test/2nd/weights-improvement-41-0.9720.hdf5\n",
            "4998/4998 [==============================] - 36s 7ms/step - loss: 0.0603 - accuracy: 0.9720 - val_loss: 0.0333 - val_accuracy: 0.9851\n",
            "Epoch 42/100\n",
            "4992/4998 [============================>.] - ETA: 0s - loss: 0.0598 - accuracy: 0.9722\n",
            "Epoch 42: accuracy improved from 0.97198 to 0.97216, saving model to /content/drive/Shareddrives/DEAP EEG/Models Saved/Valence/Train_Test_Split_MDPI/80_20_Train_Test/2nd/weights-improvement-42-0.9722.hdf5\n",
            "4998/4998 [==============================] - 38s 8ms/step - loss: 0.0598 - accuracy: 0.9722 - val_loss: 0.0329 - val_accuracy: 0.9847\n",
            "Epoch 43/100\n",
            "4998/4998 [==============================] - ETA: 0s - loss: 0.0597 - accuracy: 0.9724\n",
            "Epoch 43: accuracy improved from 0.97216 to 0.97240, saving model to /content/drive/Shareddrives/DEAP EEG/Models Saved/Valence/Train_Test_Split_MDPI/80_20_Train_Test/2nd/weights-improvement-43-0.9724.hdf5\n",
            "4998/4998 [==============================] - 38s 8ms/step - loss: 0.0597 - accuracy: 0.9724 - val_loss: 0.0308 - val_accuracy: 0.9856\n",
            "Epoch 44/100\n",
            "4996/4998 [============================>.] - ETA: 0s - loss: 0.0582 - accuracy: 0.9732\n",
            "Epoch 44: accuracy improved from 0.97240 to 0.97320, saving model to /content/drive/Shareddrives/DEAP EEG/Models Saved/Valence/Train_Test_Split_MDPI/80_20_Train_Test/2nd/weights-improvement-44-0.9732.hdf5\n",
            "4998/4998 [==============================] - 38s 8ms/step - loss: 0.0582 - accuracy: 0.9732 - val_loss: 0.0305 - val_accuracy: 0.9860\n",
            "Epoch 45/100\n",
            "4993/4998 [============================>.] - ETA: 0s - loss: 0.0591 - accuracy: 0.9728\n",
            "Epoch 45: accuracy did not improve from 0.97320\n",
            "4998/4998 [==============================] - 36s 7ms/step - loss: 0.0591 - accuracy: 0.9728 - val_loss: 0.0320 - val_accuracy: 0.9860\n",
            "Epoch 46/100\n",
            "4993/4998 [============================>.] - ETA: 0s - loss: 0.0580 - accuracy: 0.9732\n",
            "Epoch 46: accuracy improved from 0.97320 to 0.97321, saving model to /content/drive/Shareddrives/DEAP EEG/Models Saved/Valence/Train_Test_Split_MDPI/80_20_Train_Test/2nd/weights-improvement-46-0.9732.hdf5\n",
            "4998/4998 [==============================] - 37s 7ms/step - loss: 0.0580 - accuracy: 0.9732 - val_loss: 0.0350 - val_accuracy: 0.9843\n",
            "Epoch 47/100\n",
            "4995/4998 [============================>.] - ETA: 0s - loss: 0.0573 - accuracy: 0.9736\n",
            "Epoch 47: accuracy improved from 0.97321 to 0.97356, saving model to /content/drive/Shareddrives/DEAP EEG/Models Saved/Valence/Train_Test_Split_MDPI/80_20_Train_Test/2nd/weights-improvement-47-0.9736.hdf5\n",
            "4998/4998 [==============================] - 37s 7ms/step - loss: 0.0573 - accuracy: 0.9736 - val_loss: 0.0313 - val_accuracy: 0.9858\n",
            "Epoch 48/100\n",
            "4997/4998 [============================>.] - ETA: 0s - loss: 0.0577 - accuracy: 0.9733\n",
            "Epoch 48: accuracy did not improve from 0.97356\n",
            "4998/4998 [==============================] - 40s 8ms/step - loss: 0.0577 - accuracy: 0.9733 - val_loss: 0.0297 - val_accuracy: 0.9866\n",
            "Epoch 49/100\n",
            "4994/4998 [============================>.] - ETA: 0s - loss: 0.0574 - accuracy: 0.9734\n",
            "Epoch 49: accuracy did not improve from 0.97356\n",
            "4998/4998 [==============================] - 38s 8ms/step - loss: 0.0574 - accuracy: 0.9734 - val_loss: 0.0303 - val_accuracy: 0.9863\n",
            "Epoch 50/100\n",
            "4996/4998 [============================>.] - ETA: 0s - loss: 0.0567 - accuracy: 0.9739\n",
            "Epoch 50: accuracy improved from 0.97356 to 0.97387, saving model to /content/drive/Shareddrives/DEAP EEG/Models Saved/Valence/Train_Test_Split_MDPI/80_20_Train_Test/2nd/weights-improvement-50-0.9739.hdf5\n",
            "4998/4998 [==============================] - 37s 7ms/step - loss: 0.0567 - accuracy: 0.9739 - val_loss: 0.0279 - val_accuracy: 0.9871\n",
            "Epoch 51/100\n",
            "4995/4998 [============================>.] - ETA: 0s - loss: 0.0560 - accuracy: 0.9740\n",
            "Epoch 51: accuracy improved from 0.97387 to 0.97402, saving model to /content/drive/Shareddrives/DEAP EEG/Models Saved/Valence/Train_Test_Split_MDPI/80_20_Train_Test/2nd/weights-improvement-51-0.9740.hdf5\n",
            "4998/4998 [==============================] - 38s 8ms/step - loss: 0.0560 - accuracy: 0.9740 - val_loss: 0.0300 - val_accuracy: 0.9867\n",
            "Epoch 52/100\n",
            "4994/4998 [============================>.] - ETA: 0s - loss: 0.0564 - accuracy: 0.9741\n",
            "Epoch 52: accuracy improved from 0.97402 to 0.97412, saving model to /content/drive/Shareddrives/DEAP EEG/Models Saved/Valence/Train_Test_Split_MDPI/80_20_Train_Test/2nd/weights-improvement-52-0.9741.hdf5\n",
            "4998/4998 [==============================] - 38s 8ms/step - loss: 0.0564 - accuracy: 0.9741 - val_loss: 0.0296 - val_accuracy: 0.9869\n",
            "Epoch 53/100\n",
            "4994/4998 [============================>.] - ETA: 0s - loss: 0.0560 - accuracy: 0.9741\n",
            "Epoch 53: accuracy did not improve from 0.97412\n",
            "4998/4998 [==============================] - 37s 7ms/step - loss: 0.0560 - accuracy: 0.9741 - val_loss: 0.0281 - val_accuracy: 0.9874\n",
            "Epoch 54/100\n",
            "4998/4998 [==============================] - ETA: 0s - loss: 0.0562 - accuracy: 0.9739\n",
            "Epoch 54: accuracy did not improve from 0.97412\n",
            "4998/4998 [==============================] - 37s 7ms/step - loss: 0.0562 - accuracy: 0.9739 - val_loss: 0.0292 - val_accuracy: 0.9870\n",
            "Epoch 55/100\n",
            "4998/4998 [==============================] - ETA: 0s - loss: 0.0548 - accuracy: 0.9746\n",
            "Epoch 55: accuracy improved from 0.97412 to 0.97457, saving model to /content/drive/Shareddrives/DEAP EEG/Models Saved/Valence/Train_Test_Split_MDPI/80_20_Train_Test/2nd/weights-improvement-55-0.9746.hdf5\n",
            "4998/4998 [==============================] - 39s 8ms/step - loss: 0.0548 - accuracy: 0.9746 - val_loss: 0.0284 - val_accuracy: 0.9874\n",
            "Epoch 56/100\n",
            "4993/4998 [============================>.] - ETA: 0s - loss: 0.0553 - accuracy: 0.9744\n",
            "Epoch 56: accuracy did not improve from 0.97457\n",
            "4998/4998 [==============================] - 38s 8ms/step - loss: 0.0553 - accuracy: 0.9744 - val_loss: 0.0277 - val_accuracy: 0.9883\n",
            "Epoch 57/100\n",
            "4994/4998 [============================>.] - ETA: 0s - loss: 0.0541 - accuracy: 0.9750\n",
            "Epoch 57: accuracy improved from 0.97457 to 0.97496, saving model to /content/drive/Shareddrives/DEAP EEG/Models Saved/Valence/Train_Test_Split_MDPI/80_20_Train_Test/2nd/weights-improvement-57-0.9750.hdf5\n",
            "4998/4998 [==============================] - 39s 8ms/step - loss: 0.0541 - accuracy: 0.9750 - val_loss: 0.0290 - val_accuracy: 0.9876\n",
            "Epoch 58/100\n",
            "4992/4998 [============================>.] - ETA: 0s - loss: 0.0548 - accuracy: 0.9749\n",
            "Epoch 58: accuracy did not improve from 0.97496\n",
            "4998/4998 [==============================] - 37s 7ms/step - loss: 0.0548 - accuracy: 0.9749 - val_loss: 0.0292 - val_accuracy: 0.9868\n",
            "Epoch 59/100\n",
            "4992/4998 [============================>.] - ETA: 0s - loss: 0.0545 - accuracy: 0.9748\n",
            "Epoch 59: accuracy did not improve from 0.97496\n",
            "4998/4998 [==============================] - 40s 8ms/step - loss: 0.0545 - accuracy: 0.9748 - val_loss: 0.0268 - val_accuracy: 0.9880\n",
            "Epoch 60/100\n",
            "4996/4998 [============================>.] - ETA: 0s - loss: 0.0535 - accuracy: 0.9751\n",
            "Epoch 60: accuracy improved from 0.97496 to 0.97509, saving model to /content/drive/Shareddrives/DEAP EEG/Models Saved/Valence/Train_Test_Split_MDPI/80_20_Train_Test/2nd/weights-improvement-60-0.9751.hdf5\n",
            "4998/4998 [==============================] - 38s 8ms/step - loss: 0.0535 - accuracy: 0.9751 - val_loss: 0.0271 - val_accuracy: 0.9877\n",
            "Epoch 61/100\n",
            "4998/4998 [==============================] - ETA: 0s - loss: 0.0529 - accuracy: 0.9754\n",
            "Epoch 61: accuracy improved from 0.97509 to 0.97536, saving model to /content/drive/Shareddrives/DEAP EEG/Models Saved/Valence/Train_Test_Split_MDPI/80_20_Train_Test/2nd/weights-improvement-61-0.9754.hdf5\n",
            "4998/4998 [==============================] - 37s 7ms/step - loss: 0.0529 - accuracy: 0.9754 - val_loss: 0.0267 - val_accuracy: 0.9879\n",
            "Epoch 62/100\n",
            "4997/4998 [============================>.] - ETA: 0s - loss: 0.0528 - accuracy: 0.9756\n",
            "Epoch 62: accuracy improved from 0.97536 to 0.97557, saving model to /content/drive/Shareddrives/DEAP EEG/Models Saved/Valence/Train_Test_Split_MDPI/80_20_Train_Test/2nd/weights-improvement-62-0.9756.hdf5\n",
            "4998/4998 [==============================] - 37s 7ms/step - loss: 0.0528 - accuracy: 0.9756 - val_loss: 0.0299 - val_accuracy: 0.9864\n",
            "Epoch 63/100\n",
            "4992/4998 [============================>.] - ETA: 0s - loss: 0.0532 - accuracy: 0.9754\n",
            "Epoch 63: accuracy did not improve from 0.97557\n",
            "4998/4998 [==============================] - 40s 8ms/step - loss: 0.0532 - accuracy: 0.9754 - val_loss: 0.0263 - val_accuracy: 0.9880\n",
            "Epoch 64/100\n",
            "4994/4998 [============================>.] - ETA: 0s - loss: 0.0524 - accuracy: 0.9757\n",
            "Epoch 64: accuracy improved from 0.97557 to 0.97572, saving model to /content/drive/Shareddrives/DEAP EEG/Models Saved/Valence/Train_Test_Split_MDPI/80_20_Train_Test/2nd/weights-improvement-64-0.9757.hdf5\n",
            "4998/4998 [==============================] - 38s 8ms/step - loss: 0.0524 - accuracy: 0.9757 - val_loss: 0.0265 - val_accuracy: 0.9879\n",
            "Epoch 65/100\n",
            "4998/4998 [==============================] - ETA: 0s - loss: 0.0526 - accuracy: 0.9757\n",
            "Epoch 65: accuracy did not improve from 0.97572\n",
            "4998/4998 [==============================] - 38s 8ms/step - loss: 0.0526 - accuracy: 0.9757 - val_loss: 0.0263 - val_accuracy: 0.9881\n",
            "Epoch 66/100\n",
            "4997/4998 [============================>.] - ETA: 0s - loss: 0.0520 - accuracy: 0.9762\n",
            "Epoch 66: accuracy improved from 0.97572 to 0.97616, saving model to /content/drive/Shareddrives/DEAP EEG/Models Saved/Valence/Train_Test_Split_MDPI/80_20_Train_Test/2nd/weights-improvement-66-0.9762.hdf5\n",
            "4998/4998 [==============================] - 38s 8ms/step - loss: 0.0520 - accuracy: 0.9762 - val_loss: 0.0292 - val_accuracy: 0.9871\n",
            "Epoch 67/100\n",
            "4998/4998 [==============================] - ETA: 0s - loss: 0.0524 - accuracy: 0.9756\n",
            "Epoch 67: accuracy did not improve from 0.97616\n",
            "4998/4998 [==============================] - 39s 8ms/step - loss: 0.0524 - accuracy: 0.9756 - val_loss: 0.0263 - val_accuracy: 0.9880\n",
            "Epoch 68/100\n",
            "4997/4998 [============================>.] - ETA: 0s - loss: 0.0511 - accuracy: 0.9762\n",
            "Epoch 68: accuracy improved from 0.97616 to 0.97625, saving model to /content/drive/Shareddrives/DEAP EEG/Models Saved/Valence/Train_Test_Split_MDPI/80_20_Train_Test/2nd/weights-improvement-68-0.9762.hdf5\n",
            "4998/4998 [==============================] - 39s 8ms/step - loss: 0.0511 - accuracy: 0.9762 - val_loss: 0.0273 - val_accuracy: 0.9883\n",
            "Epoch 69/100\n",
            "4996/4998 [============================>.] - ETA: 0s - loss: 0.0511 - accuracy: 0.9762\n",
            "Epoch 69: accuracy did not improve from 0.97625\n",
            "4998/4998 [==============================] - 39s 8ms/step - loss: 0.0511 - accuracy: 0.9762 - val_loss: 0.0271 - val_accuracy: 0.9877\n",
            "Epoch 70/100\n",
            "4993/4998 [============================>.] - ETA: 0s - loss: 0.0516 - accuracy: 0.9762\n",
            "Epoch 70: accuracy did not improve from 0.97625\n",
            "4998/4998 [==============================] - 38s 8ms/step - loss: 0.0516 - accuracy: 0.9762 - val_loss: 0.0267 - val_accuracy: 0.9882\n",
            "Epoch 71/100\n",
            "4997/4998 [============================>.] - ETA: 0s - loss: 0.0506 - accuracy: 0.9762\n",
            "Epoch 71: accuracy did not improve from 0.97625\n",
            "4998/4998 [==============================] - 38s 8ms/step - loss: 0.0506 - accuracy: 0.9762 - val_loss: 0.0248 - val_accuracy: 0.9888\n",
            "Epoch 72/100\n",
            "4995/4998 [============================>.] - ETA: 0s - loss: 0.0510 - accuracy: 0.9763\n",
            "Epoch 72: accuracy improved from 0.97625 to 0.97629, saving model to /content/drive/Shareddrives/DEAP EEG/Models Saved/Valence/Train_Test_Split_MDPI/80_20_Train_Test/2nd/weights-improvement-72-0.9763.hdf5\n",
            "4998/4998 [==============================] - 37s 7ms/step - loss: 0.0510 - accuracy: 0.9763 - val_loss: 0.0274 - val_accuracy: 0.9875\n",
            "Epoch 73/100\n",
            "4997/4998 [============================>.] - ETA: 0s - loss: 0.0503 - accuracy: 0.9765\n",
            "Epoch 73: accuracy improved from 0.97629 to 0.97649, saving model to /content/drive/Shareddrives/DEAP EEG/Models Saved/Valence/Train_Test_Split_MDPI/80_20_Train_Test/2nd/weights-improvement-73-0.9765.hdf5\n",
            "4998/4998 [==============================] - 39s 8ms/step - loss: 0.0503 - accuracy: 0.9765 - val_loss: 0.0263 - val_accuracy: 0.9876\n",
            "Epoch 74/100\n",
            "4994/4998 [============================>.] - ETA: 0s - loss: 0.0501 - accuracy: 0.9766\n",
            "Epoch 74: accuracy improved from 0.97649 to 0.97662, saving model to /content/drive/Shareddrives/DEAP EEG/Models Saved/Valence/Train_Test_Split_MDPI/80_20_Train_Test/2nd/weights-improvement-74-0.9766.hdf5\n",
            "4998/4998 [==============================] - 38s 8ms/step - loss: 0.0501 - accuracy: 0.9766 - val_loss: 0.0267 - val_accuracy: 0.9881\n",
            "Epoch 75/100\n",
            "4997/4998 [============================>.] - ETA: 0s - loss: 0.0503 - accuracy: 0.9766\n",
            "Epoch 75: accuracy did not improve from 0.97662\n",
            "4998/4998 [==============================] - 41s 8ms/step - loss: 0.0503 - accuracy: 0.9766 - val_loss: 0.0251 - val_accuracy: 0.9886\n",
            "Epoch 76/100\n",
            "4992/4998 [============================>.] - ETA: 0s - loss: 0.0503 - accuracy: 0.9765\n",
            "Epoch 76: accuracy did not improve from 0.97662\n",
            "4998/4998 [==============================] - 39s 8ms/step - loss: 0.0503 - accuracy: 0.9765 - val_loss: 0.0284 - val_accuracy: 0.9883\n",
            "Epoch 77/100\n",
            "4996/4998 [============================>.] - ETA: 0s - loss: 0.0495 - accuracy: 0.9769\n",
            "Epoch 77: accuracy improved from 0.97662 to 0.97695, saving model to /content/drive/Shareddrives/DEAP EEG/Models Saved/Valence/Train_Test_Split_MDPI/80_20_Train_Test/2nd/weights-improvement-77-0.9769.hdf5\n",
            "4998/4998 [==============================] - 39s 8ms/step - loss: 0.0495 - accuracy: 0.9769 - val_loss: 0.0244 - val_accuracy: 0.9887\n",
            "Epoch 78/100\n",
            "4998/4998 [==============================] - ETA: 0s - loss: 0.0494 - accuracy: 0.9770\n",
            "Epoch 78: accuracy improved from 0.97695 to 0.97695, saving model to /content/drive/Shareddrives/DEAP EEG/Models Saved/Valence/Train_Test_Split_MDPI/80_20_Train_Test/2nd/weights-improvement-78-0.9770.hdf5\n",
            "4998/4998 [==============================] - 40s 8ms/step - loss: 0.0494 - accuracy: 0.9770 - val_loss: 0.0261 - val_accuracy: 0.9881\n",
            "Epoch 79/100\n",
            "4996/4998 [============================>.] - ETA: 0s - loss: 0.0495 - accuracy: 0.9768\n",
            "Epoch 79: accuracy did not improve from 0.97695\n",
            "4998/4998 [==============================] - 41s 8ms/step - loss: 0.0495 - accuracy: 0.9768 - val_loss: 0.0256 - val_accuracy: 0.9885\n",
            "Epoch 80/100\n",
            "4998/4998 [==============================] - ETA: 0s - loss: 0.0498 - accuracy: 0.9767\n",
            "Epoch 80: accuracy did not improve from 0.97695\n",
            "4998/4998 [==============================] - 38s 8ms/step - loss: 0.0498 - accuracy: 0.9767 - val_loss: 0.0259 - val_accuracy: 0.9884\n",
            "Epoch 81/100\n",
            "4994/4998 [============================>.] - ETA: 0s - loss: 0.0497 - accuracy: 0.9770\n",
            "Epoch 81: accuracy improved from 0.97695 to 0.97697, saving model to /content/drive/Shareddrives/DEAP EEG/Models Saved/Valence/Train_Test_Split_MDPI/80_20_Train_Test/2nd/weights-improvement-81-0.9770.hdf5\n",
            "4998/4998 [==============================] - 39s 8ms/step - loss: 0.0497 - accuracy: 0.9770 - val_loss: 0.0243 - val_accuracy: 0.9891\n",
            "Epoch 82/100\n",
            "4994/4998 [============================>.] - ETA: 0s - loss: 0.0492 - accuracy: 0.9772\n",
            "Epoch 82: accuracy improved from 0.97697 to 0.97721, saving model to /content/drive/Shareddrives/DEAP EEG/Models Saved/Valence/Train_Test_Split_MDPI/80_20_Train_Test/2nd/weights-improvement-82-0.9772.hdf5\n",
            "4998/4998 [==============================] - 39s 8ms/step - loss: 0.0492 - accuracy: 0.9772 - val_loss: 0.0255 - val_accuracy: 0.9887\n",
            "Epoch 83/100\n",
            "4998/4998 [==============================] - ETA: 0s - loss: 0.0487 - accuracy: 0.9774\n",
            "Epoch 83: accuracy improved from 0.97721 to 0.97738, saving model to /content/drive/Shareddrives/DEAP EEG/Models Saved/Valence/Train_Test_Split_MDPI/80_20_Train_Test/2nd/weights-improvement-83-0.9774.hdf5\n",
            "4998/4998 [==============================] - 39s 8ms/step - loss: 0.0487 - accuracy: 0.9774 - val_loss: 0.0249 - val_accuracy: 0.9887\n",
            "Epoch 84/100\n",
            "4993/4998 [============================>.] - ETA: 0s - loss: 0.0481 - accuracy: 0.9776\n",
            "Epoch 84: accuracy improved from 0.97738 to 0.97758, saving model to /content/drive/Shareddrives/DEAP EEG/Models Saved/Valence/Train_Test_Split_MDPI/80_20_Train_Test/2nd/weights-improvement-84-0.9776.hdf5\n",
            "4998/4998 [==============================] - 40s 8ms/step - loss: 0.0481 - accuracy: 0.9776 - val_loss: 0.0264 - val_accuracy: 0.9888\n",
            "Epoch 85/100\n",
            "4994/4998 [============================>.] - ETA: 0s - loss: 0.0479 - accuracy: 0.9775\n",
            "Epoch 85: accuracy did not improve from 0.97758\n",
            "4998/4998 [==============================] - 40s 8ms/step - loss: 0.0479 - accuracy: 0.9775 - val_loss: 0.0260 - val_accuracy: 0.9884\n",
            "Epoch 86/100\n",
            "4993/4998 [============================>.] - ETA: 0s - loss: 0.0485 - accuracy: 0.9774\n",
            "Epoch 86: accuracy did not improve from 0.97758\n",
            "4998/4998 [==============================] - 38s 8ms/step - loss: 0.0485 - accuracy: 0.9774 - val_loss: 0.0243 - val_accuracy: 0.9891\n",
            "Epoch 87/100\n",
            "4997/4998 [============================>.] - ETA: 0s - loss: 0.0484 - accuracy: 0.9776\n",
            "Epoch 87: accuracy improved from 0.97758 to 0.97761, saving model to /content/drive/Shareddrives/DEAP EEG/Models Saved/Valence/Train_Test_Split_MDPI/80_20_Train_Test/2nd/weights-improvement-87-0.9776.hdf5\n",
            "4998/4998 [==============================] - 41s 8ms/step - loss: 0.0484 - accuracy: 0.9776 - val_loss: 0.0247 - val_accuracy: 0.9892\n",
            "Epoch 88/100\n",
            "4995/4998 [============================>.] - ETA: 0s - loss: 0.0478 - accuracy: 0.9780\n",
            "Epoch 88: accuracy improved from 0.97761 to 0.97802, saving model to /content/drive/Shareddrives/DEAP EEG/Models Saved/Valence/Train_Test_Split_MDPI/80_20_Train_Test/2nd/weights-improvement-88-0.9780.hdf5\n",
            "4998/4998 [==============================] - 38s 8ms/step - loss: 0.0478 - accuracy: 0.9780 - val_loss: 0.0234 - val_accuracy: 0.9903\n",
            "Epoch 89/100\n",
            "4995/4998 [============================>.] - ETA: 0s - loss: 0.0476 - accuracy: 0.9778\n",
            "Epoch 89: accuracy did not improve from 0.97802\n",
            "4998/4998 [==============================] - 40s 8ms/step - loss: 0.0477 - accuracy: 0.9778 - val_loss: 0.0250 - val_accuracy: 0.9892\n",
            "Epoch 90/100\n",
            "4994/4998 [============================>.] - ETA: 0s - loss: 0.0474 - accuracy: 0.9780\n",
            "Epoch 90: accuracy improved from 0.97802 to 0.97803, saving model to /content/drive/Shareddrives/DEAP EEG/Models Saved/Valence/Train_Test_Split_MDPI/80_20_Train_Test/2nd/weights-improvement-90-0.9780.hdf5\n",
            "4998/4998 [==============================] - 40s 8ms/step - loss: 0.0474 - accuracy: 0.9780 - val_loss: 0.0235 - val_accuracy: 0.9896\n",
            "Epoch 91/100\n",
            "4995/4998 [============================>.] - ETA: 0s - loss: 0.0479 - accuracy: 0.9781\n",
            "Epoch 91: accuracy improved from 0.97803 to 0.97810, saving model to /content/drive/Shareddrives/DEAP EEG/Models Saved/Valence/Train_Test_Split_MDPI/80_20_Train_Test/2nd/weights-improvement-91-0.9781.hdf5\n",
            "4998/4998 [==============================] - 40s 8ms/step - loss: 0.0479 - accuracy: 0.9781 - val_loss: 0.0234 - val_accuracy: 0.9895\n",
            "Epoch 92/100\n",
            "4998/4998 [==============================] - ETA: 0s - loss: 0.0472 - accuracy: 0.9783\n",
            "Epoch 92: accuracy improved from 0.97810 to 0.97832, saving model to /content/drive/Shareddrives/DEAP EEG/Models Saved/Valence/Train_Test_Split_MDPI/80_20_Train_Test/2nd/weights-improvement-92-0.9783.hdf5\n",
            "4998/4998 [==============================] - 38s 8ms/step - loss: 0.0472 - accuracy: 0.9783 - val_loss: 0.0225 - val_accuracy: 0.9905\n",
            "Epoch 93/100\n",
            "4994/4998 [============================>.] - ETA: 0s - loss: 0.0468 - accuracy: 0.9783\n",
            "Epoch 93: accuracy did not improve from 0.97832\n",
            "4998/4998 [==============================] - 40s 8ms/step - loss: 0.0468 - accuracy: 0.9783 - val_loss: 0.0246 - val_accuracy: 0.9892\n",
            "Epoch 94/100\n",
            "4998/4998 [==============================] - ETA: 0s - loss: 0.0472 - accuracy: 0.9782\n",
            "Epoch 94: accuracy did not improve from 0.97832\n",
            "4998/4998 [==============================] - 41s 8ms/step - loss: 0.0472 - accuracy: 0.9782 - val_loss: 0.0239 - val_accuracy: 0.9899\n",
            "Epoch 95/100\n",
            "4994/4998 [============================>.] - ETA: 0s - loss: 0.0468 - accuracy: 0.9784\n",
            "Epoch 95: accuracy improved from 0.97832 to 0.97844, saving model to /content/drive/Shareddrives/DEAP EEG/Models Saved/Valence/Train_Test_Split_MDPI/80_20_Train_Test/2nd/weights-improvement-95-0.9784.hdf5\n",
            "4998/4998 [==============================] - 38s 8ms/step - loss: 0.0468 - accuracy: 0.9784 - val_loss: 0.0236 - val_accuracy: 0.9897\n",
            "Epoch 96/100\n",
            "4994/4998 [============================>.] - ETA: 0s - loss: 0.0468 - accuracy: 0.9782\n",
            "Epoch 96: accuracy did not improve from 0.97844\n",
            "4998/4998 [==============================] - 41s 8ms/step - loss: 0.0468 - accuracy: 0.9782 - val_loss: 0.0216 - val_accuracy: 0.9903\n",
            "Epoch 97/100\n",
            "4997/4998 [============================>.] - ETA: 0s - loss: 0.0466 - accuracy: 0.9784\n",
            "Epoch 97: accuracy did not improve from 0.97844\n",
            "4998/4998 [==============================] - 40s 8ms/step - loss: 0.0466 - accuracy: 0.9784 - val_loss: 0.0229 - val_accuracy: 0.9902\n",
            "Epoch 98/100\n",
            "4992/4998 [============================>.] - ETA: 0s - loss: 0.0462 - accuracy: 0.9787\n",
            "Epoch 98: accuracy improved from 0.97844 to 0.97871, saving model to /content/drive/Shareddrives/DEAP EEG/Models Saved/Valence/Train_Test_Split_MDPI/80_20_Train_Test/2nd/weights-improvement-98-0.9787.hdf5\n",
            "4998/4998 [==============================] - 42s 8ms/step - loss: 0.0462 - accuracy: 0.9787 - val_loss: 0.0243 - val_accuracy: 0.9898\n",
            "Epoch 99/100\n",
            "4998/4998 [==============================] - ETA: 0s - loss: 0.0462 - accuracy: 0.9789\n",
            "Epoch 99: accuracy improved from 0.97871 to 0.97895, saving model to /content/drive/Shareddrives/DEAP EEG/Models Saved/Valence/Train_Test_Split_MDPI/80_20_Train_Test/2nd/weights-improvement-99-0.9789.hdf5\n",
            "4998/4998 [==============================] - 39s 8ms/step - loss: 0.0462 - accuracy: 0.9789 - val_loss: 0.0228 - val_accuracy: 0.9900\n",
            "Epoch 100/100\n",
            "4992/4998 [============================>.] - ETA: 0s - loss: 0.0465 - accuracy: 0.9786\n",
            "Epoch 100: accuracy did not improve from 0.97895\n",
            "4998/4998 [==============================] - 41s 8ms/step - loss: 0.0465 - accuracy: 0.9786 - val_loss: 0.0225 - val_accuracy: 0.9903\n",
            "CPU times: user 1h 5min 52s, sys: 9min 58s, total: 1h 15min 51s\n",
            "Wall time: 1h 4min\n"
          ]
        }
      ]
    },
    {
      "cell_type": "code",
      "source": [
        "%%time\n",
        "score = model.evaluate(x_test, y_test, verbose=1)\n",
        "print('Test loss:', score[0])\n",
        "print('Test accuracy:', score[1])"
      ],
      "metadata": {
        "id": "2aY3UKjkcfvC",
        "colab": {
          "base_uri": "https://localhost:8080/"
        },
        "outputId": "ad62db7f-076e-4365-8159-94d7e2f64ab2"
      },
      "execution_count": null,
      "outputs": [
        {
          "output_type": "stream",
          "name": "stdout",
          "text": [
            "3904/3904 [==============================] - 15s 4ms/step - loss: 0.0225 - accuracy: 0.9903\n",
            "Test loss: 0.022504897788167\n",
            "Test accuracy: 0.9902504086494446\n",
            "CPU times: user 15.3 s, sys: 2.52 s, total: 17.8 s\n",
            "Wall time: 15.3 s\n"
          ]
        }
      ]
    },
    {
      "cell_type": "code",
      "source": [
        "with open('/content/drive/Shareddrives/DEAP EEG/Models Saved/Valence/Train_Test_Split_MDPI/80_20_Train_Test/2nd/history', 'wb') as file_pi:\n",
        "        pickle.dump(H.history, file_pi)"
      ],
      "metadata": {
        "id": "9rzjUGpxchco"
      },
      "execution_count": null,
      "outputs": []
    },
    {
      "cell_type": "markdown",
      "source": [
        "**train 75% test 25%**"
      ],
      "metadata": {
        "id": "QyF0wN8cKgex"
      }
    },
    {
      "cell_type": "code",
      "source": [
        "# check points and early stopping\n",
        "from keras.callbacks import ModelCheckpoint,EarlyStopping\n",
        "\n",
        "model_name = \"\"\n",
        "filepath=\"/content/drive/Shareddrives/DEAP EEG/Models Saved/Valence/Train_Test_Split_MDPI/75_25_Train_Test/\"  + model_name + \"weights-improvement-{epoch:02d}-{accuracy:.4f}.hdf5\"\n",
        "print(filepath)\n",
        "checkpoint = ModelCheckpoint(filepath, monitor='accuracy', verbose=1, save_best_only=True, mode='max')\n",
        "es = EarlyStopping(monitor='accuracy', mode='max', verbose=1, patience=10)\n",
        "callbacks_list = [es, checkpoint]"
      ],
      "metadata": {
        "colab": {
          "base_uri": "https://localhost:8080/"
        },
        "id": "Q3OcN2zw7RbX",
        "outputId": "4d455be9-73fc-48c0-e89d-a893fee04ddf"
      },
      "execution_count": null,
      "outputs": [
        {
          "output_type": "stream",
          "name": "stdout",
          "text": [
            "/content/drive/Shareddrives/DEAP EEG/Models Saved/Valence/Train_Test_Split_MDPI/75_25_Train_Test/weights-improvement-{epoch:02d}-{accuracy:.4f}.hdf5\n"
          ]
        }
      ]
    },
    {
      "cell_type": "code",
      "source": [
        "%%time\n",
        "H = model.fit(x_train, y_train,\n",
        "          batch_size=100,\n",
        "          epochs=100,\n",
        "          verbose=1,\n",
        "          validation_data=(x_test, y_test),\n",
        "          callbacks= callbacks_list)"
      ],
      "metadata": {
        "colab": {
          "base_uri": "https://localhost:8080/"
        },
        "id": "hY9clw0icthl",
        "outputId": "40d69dab-8d04-4406-9112-e5aa33ab5691"
      },
      "execution_count": null,
      "outputs": [
        {
          "output_type": "stream",
          "name": "stdout",
          "text": [
            "Epoch 1/100\n",
            "4683/4685 [============================>.] - ETA: 0s - loss: 0.3009 - accuracy: 0.8619\n",
            "Epoch 1: accuracy improved from -inf to 0.86194, saving model to /content/drive/Shareddrives/DEAP EEG/Models Saved/Valence/Train_Test_Split_MDPI/75_25_Train_Test/weights-improvement-01-0.8619.hdf5\n",
            "4685/4685 [==============================] - 42s 6ms/step - loss: 0.3008 - accuracy: 0.8619 - val_loss: 0.1888 - val_accuracy: 0.9174\n",
            "Epoch 2/100\n",
            "4680/4685 [============================>.] - ETA: 0s - loss: 0.1863 - accuracy: 0.9156\n",
            "Epoch 2: accuracy improved from 0.86194 to 0.91558, saving model to /content/drive/Shareddrives/DEAP EEG/Models Saved/Valence/Train_Test_Split_MDPI/75_25_Train_Test/weights-improvement-02-0.9156.hdf5\n",
            "4685/4685 [==============================] - 25s 5ms/step - loss: 0.1863 - accuracy: 0.9156 - val_loss: 0.1294 - val_accuracy: 0.9451\n",
            "Epoch 3/100\n",
            "4685/4685 [==============================] - ETA: 0s - loss: 0.1478 - accuracy: 0.9320\n",
            "Epoch 3: accuracy improved from 0.91558 to 0.93196, saving model to /content/drive/Shareddrives/DEAP EEG/Models Saved/Valence/Train_Test_Split_MDPI/75_25_Train_Test/weights-improvement-03-0.9320.hdf5\n",
            "4685/4685 [==============================] - 27s 6ms/step - loss: 0.1478 - accuracy: 0.9320 - val_loss: 0.1006 - val_accuracy: 0.9598\n",
            "Epoch 4/100\n",
            "4678/4685 [============================>.] - ETA: 0s - loss: 0.1291 - accuracy: 0.9399\n",
            "Epoch 4: accuracy improved from 0.93196 to 0.93994, saving model to /content/drive/Shareddrives/DEAP EEG/Models Saved/Valence/Train_Test_Split_MDPI/75_25_Train_Test/weights-improvement-04-0.9399.hdf5\n",
            "4685/4685 [==============================] - 28s 6ms/step - loss: 0.1291 - accuracy: 0.9399 - val_loss: 0.0838 - val_accuracy: 0.9650\n",
            "Epoch 5/100\n",
            "4684/4685 [============================>.] - ETA: 0s - loss: 0.1173 - accuracy: 0.9453\n",
            "Epoch 5: accuracy improved from 0.93994 to 0.94530, saving model to /content/drive/Shareddrives/DEAP EEG/Models Saved/Valence/Train_Test_Split_MDPI/75_25_Train_Test/weights-improvement-05-0.9453.hdf5\n",
            "4685/4685 [==============================] - 25s 5ms/step - loss: 0.1173 - accuracy: 0.9453 - val_loss: 0.0738 - val_accuracy: 0.9686\n",
            "Epoch 6/100\n",
            "4677/4685 [============================>.] - ETA: 0s - loss: 0.1083 - accuracy: 0.9493\n",
            "Epoch 6: accuracy improved from 0.94530 to 0.94932, saving model to /content/drive/Shareddrives/DEAP EEG/Models Saved/Valence/Train_Test_Split_MDPI/75_25_Train_Test/weights-improvement-06-0.9493.hdf5\n",
            "4685/4685 [==============================] - 27s 6ms/step - loss: 0.1082 - accuracy: 0.9493 - val_loss: 0.0708 - val_accuracy: 0.9704\n",
            "Epoch 7/100\n",
            "4678/4685 [============================>.] - ETA: 0s - loss: 0.1021 - accuracy: 0.9521\n",
            "Epoch 7: accuracy improved from 0.94932 to 0.95214, saving model to /content/drive/Shareddrives/DEAP EEG/Models Saved/Valence/Train_Test_Split_MDPI/75_25_Train_Test/weights-improvement-07-0.9521.hdf5\n",
            "4685/4685 [==============================] - 25s 5ms/step - loss: 0.1020 - accuracy: 0.9521 - val_loss: 0.0630 - val_accuracy: 0.9728\n",
            "Epoch 8/100\n",
            "4682/4685 [============================>.] - ETA: 0s - loss: 0.0971 - accuracy: 0.9543\n",
            "Epoch 8: accuracy improved from 0.95214 to 0.95428, saving model to /content/drive/Shareddrives/DEAP EEG/Models Saved/Valence/Train_Test_Split_MDPI/75_25_Train_Test/weights-improvement-08-0.9543.hdf5\n",
            "4685/4685 [==============================] - 27s 6ms/step - loss: 0.0971 - accuracy: 0.9543 - val_loss: 0.0573 - val_accuracy: 0.9763\n",
            "Epoch 9/100\n",
            "4683/4685 [============================>.] - ETA: 0s - loss: 0.0924 - accuracy: 0.9565\n",
            "Epoch 9: accuracy improved from 0.95428 to 0.95650, saving model to /content/drive/Shareddrives/DEAP EEG/Models Saved/Valence/Train_Test_Split_MDPI/75_25_Train_Test/weights-improvement-09-0.9565.hdf5\n",
            "4685/4685 [==============================] - 27s 6ms/step - loss: 0.0924 - accuracy: 0.9565 - val_loss: 0.0560 - val_accuracy: 0.9757\n",
            "Epoch 10/100\n",
            "4682/4685 [============================>.] - ETA: 0s - loss: 0.0898 - accuracy: 0.9576\n",
            "Epoch 10: accuracy improved from 0.95650 to 0.95759, saving model to /content/drive/Shareddrives/DEAP EEG/Models Saved/Valence/Train_Test_Split_MDPI/75_25_Train_Test/weights-improvement-10-0.9576.hdf5\n",
            "4685/4685 [==============================] - 25s 5ms/step - loss: 0.0897 - accuracy: 0.9576 - val_loss: 0.0539 - val_accuracy: 0.9769\n",
            "Epoch 11/100\n",
            "4677/4685 [============================>.] - ETA: 0s - loss: 0.0864 - accuracy: 0.9592\n",
            "Epoch 11: accuracy improved from 0.95759 to 0.95919, saving model to /content/drive/Shareddrives/DEAP EEG/Models Saved/Valence/Train_Test_Split_MDPI/75_25_Train_Test/weights-improvement-11-0.9592.hdf5\n",
            "4685/4685 [==============================] - 25s 5ms/step - loss: 0.0863 - accuracy: 0.9592 - val_loss: 0.0487 - val_accuracy: 0.9795\n",
            "Epoch 12/100\n",
            "4684/4685 [============================>.] - ETA: 0s - loss: 0.0828 - accuracy: 0.9609\n",
            "Epoch 12: accuracy improved from 0.95919 to 0.96094, saving model to /content/drive/Shareddrives/DEAP EEG/Models Saved/Valence/Train_Test_Split_MDPI/75_25_Train_Test/weights-improvement-12-0.9609.hdf5\n",
            "4685/4685 [==============================] - 27s 6ms/step - loss: 0.0828 - accuracy: 0.9609 - val_loss: 0.0497 - val_accuracy: 0.9783\n",
            "Epoch 13/100\n",
            "4680/4685 [============================>.] - ETA: 0s - loss: 0.0812 - accuracy: 0.9611\n",
            "Epoch 13: accuracy improved from 0.96094 to 0.96113, saving model to /content/drive/Shareddrives/DEAP EEG/Models Saved/Valence/Train_Test_Split_MDPI/75_25_Train_Test/weights-improvement-13-0.9611.hdf5\n",
            "4685/4685 [==============================] - 27s 6ms/step - loss: 0.0812 - accuracy: 0.9611 - val_loss: 0.0471 - val_accuracy: 0.9804\n",
            "Epoch 14/100\n",
            "4676/4685 [============================>.] - ETA: 0s - loss: 0.0782 - accuracy: 0.9630\n",
            "Epoch 14: accuracy improved from 0.96113 to 0.96302, saving model to /content/drive/Shareddrives/DEAP EEG/Models Saved/Valence/Train_Test_Split_MDPI/75_25_Train_Test/weights-improvement-14-0.9630.hdf5\n",
            "4685/4685 [==============================] - 25s 5ms/step - loss: 0.0782 - accuracy: 0.9630 - val_loss: 0.0429 - val_accuracy: 0.9818\n",
            "Epoch 15/100\n",
            "4684/4685 [============================>.] - ETA: 0s - loss: 0.0765 - accuracy: 0.9636\n",
            "Epoch 15: accuracy improved from 0.96302 to 0.96357, saving model to /content/drive/Shareddrives/DEAP EEG/Models Saved/Valence/Train_Test_Split_MDPI/75_25_Train_Test/weights-improvement-15-0.9636.hdf5\n",
            "4685/4685 [==============================] - 27s 6ms/step - loss: 0.0765 - accuracy: 0.9636 - val_loss: 0.0428 - val_accuracy: 0.9819\n",
            "Epoch 16/100\n",
            "4682/4685 [============================>.] - ETA: 0s - loss: 0.0754 - accuracy: 0.9641\n",
            "Epoch 16: accuracy improved from 0.96357 to 0.96409, saving model to /content/drive/Shareddrives/DEAP EEG/Models Saved/Valence/Train_Test_Split_MDPI/75_25_Train_Test/weights-improvement-16-0.9641.hdf5\n",
            "4685/4685 [==============================] - 27s 6ms/step - loss: 0.0754 - accuracy: 0.9641 - val_loss: 0.0437 - val_accuracy: 0.9818\n",
            "Epoch 17/100\n",
            "4676/4685 [============================>.] - ETA: 0s - loss: 0.0730 - accuracy: 0.9651\n",
            "Epoch 17: accuracy improved from 0.96409 to 0.96506, saving model to /content/drive/Shareddrives/DEAP EEG/Models Saved/Valence/Train_Test_Split_MDPI/75_25_Train_Test/weights-improvement-17-0.9651.hdf5\n",
            "4685/4685 [==============================] - 27s 6ms/step - loss: 0.0730 - accuracy: 0.9651 - val_loss: 0.0412 - val_accuracy: 0.9817\n",
            "Epoch 18/100\n",
            "4684/4685 [============================>.] - ETA: 0s - loss: 0.0720 - accuracy: 0.9660\n",
            "Epoch 18: accuracy improved from 0.96506 to 0.96600, saving model to /content/drive/Shareddrives/DEAP EEG/Models Saved/Valence/Train_Test_Split_MDPI/75_25_Train_Test/weights-improvement-18-0.9660.hdf5\n",
            "4685/4685 [==============================] - 26s 6ms/step - loss: 0.0720 - accuracy: 0.9660 - val_loss: 0.0383 - val_accuracy: 0.9836\n",
            "Epoch 19/100\n",
            "4680/4685 [============================>.] - ETA: 0s - loss: 0.0701 - accuracy: 0.9665\n",
            "Epoch 19: accuracy improved from 0.96600 to 0.96654, saving model to /content/drive/Shareddrives/DEAP EEG/Models Saved/Valence/Train_Test_Split_MDPI/75_25_Train_Test/weights-improvement-19-0.9665.hdf5\n",
            "4685/4685 [==============================] - 27s 6ms/step - loss: 0.0701 - accuracy: 0.9665 - val_loss: 0.0397 - val_accuracy: 0.9832\n",
            "Epoch 20/100\n",
            "4676/4685 [============================>.] - ETA: 0s - loss: 0.0694 - accuracy: 0.9666\n",
            "Epoch 20: accuracy improved from 0.96654 to 0.96660, saving model to /content/drive/Shareddrives/DEAP EEG/Models Saved/Valence/Train_Test_Split_MDPI/75_25_Train_Test/weights-improvement-20-0.9666.hdf5\n",
            "4685/4685 [==============================] - 27s 6ms/step - loss: 0.0694 - accuracy: 0.9666 - val_loss: 0.0379 - val_accuracy: 0.9837\n",
            "Epoch 21/100\n",
            "4681/4685 [============================>.] - ETA: 0s - loss: 0.0679 - accuracy: 0.9677\n",
            "Epoch 21: accuracy improved from 0.96660 to 0.96774, saving model to /content/drive/Shareddrives/DEAP EEG/Models Saved/Valence/Train_Test_Split_MDPI/75_25_Train_Test/weights-improvement-21-0.9677.hdf5\n",
            "4685/4685 [==============================] - 25s 5ms/step - loss: 0.0679 - accuracy: 0.9677 - val_loss: 0.0360 - val_accuracy: 0.9841\n",
            "Epoch 22/100\n",
            "4685/4685 [==============================] - ETA: 0s - loss: 0.0668 - accuracy: 0.9680\n",
            "Epoch 22: accuracy improved from 0.96774 to 0.96797, saving model to /content/drive/Shareddrives/DEAP EEG/Models Saved/Valence/Train_Test_Split_MDPI/75_25_Train_Test/weights-improvement-22-0.9680.hdf5\n",
            "4685/4685 [==============================] - 27s 6ms/step - loss: 0.0668 - accuracy: 0.9680 - val_loss: 0.0361 - val_accuracy: 0.9849\n",
            "Epoch 23/100\n",
            "4683/4685 [============================>.] - ETA: 0s - loss: 0.0655 - accuracy: 0.9684\n",
            "Epoch 23: accuracy improved from 0.96797 to 0.96835, saving model to /content/drive/Shareddrives/DEAP EEG/Models Saved/Valence/Train_Test_Split_MDPI/75_25_Train_Test/weights-improvement-23-0.9684.hdf5\n",
            "4685/4685 [==============================] - 26s 6ms/step - loss: 0.0656 - accuracy: 0.9684 - val_loss: 0.0337 - val_accuracy: 0.9856\n",
            "Epoch 24/100\n",
            "4682/4685 [============================>.] - ETA: 0s - loss: 0.0651 - accuracy: 0.9690\n",
            "Epoch 24: accuracy improved from 0.96835 to 0.96895, saving model to /content/drive/Shareddrives/DEAP EEG/Models Saved/Valence/Train_Test_Split_MDPI/75_25_Train_Test/weights-improvement-24-0.9690.hdf5\n",
            "4685/4685 [==============================] - 27s 6ms/step - loss: 0.0651 - accuracy: 0.9690 - val_loss: 0.0345 - val_accuracy: 0.9855\n",
            "Epoch 25/100\n",
            "4684/4685 [============================>.] - ETA: 0s - loss: 0.0646 - accuracy: 0.9692\n",
            "Epoch 25: accuracy improved from 0.96895 to 0.96923, saving model to /content/drive/Shareddrives/DEAP EEG/Models Saved/Valence/Train_Test_Split_MDPI/75_25_Train_Test/weights-improvement-25-0.9692.hdf5\n",
            "4685/4685 [==============================] - 25s 5ms/step - loss: 0.0646 - accuracy: 0.9692 - val_loss: 0.0336 - val_accuracy: 0.9862\n",
            "Epoch 26/100\n",
            "4676/4685 [============================>.] - ETA: 0s - loss: 0.0629 - accuracy: 0.9698\n",
            "Epoch 26: accuracy improved from 0.96923 to 0.96983, saving model to /content/drive/Shareddrives/DEAP EEG/Models Saved/Valence/Train_Test_Split_MDPI/75_25_Train_Test/weights-improvement-26-0.9698.hdf5\n",
            "4685/4685 [==============================] - 25s 5ms/step - loss: 0.0629 - accuracy: 0.9698 - val_loss: 0.0318 - val_accuracy: 0.9862\n",
            "Epoch 27/100\n",
            "4676/4685 [============================>.] - ETA: 0s - loss: 0.0626 - accuracy: 0.9700\n",
            "Epoch 27: accuracy improved from 0.96983 to 0.96995, saving model to /content/drive/Shareddrives/DEAP EEG/Models Saved/Valence/Train_Test_Split_MDPI/75_25_Train_Test/weights-improvement-27-0.9699.hdf5\n",
            "4685/4685 [==============================] - 27s 6ms/step - loss: 0.0626 - accuracy: 0.9699 - val_loss: 0.0343 - val_accuracy: 0.9853\n",
            "Epoch 28/100\n",
            "4675/4685 [============================>.] - ETA: 0s - loss: 0.0617 - accuracy: 0.9707\n",
            "Epoch 28: accuracy improved from 0.96995 to 0.97072, saving model to /content/drive/Shareddrives/DEAP EEG/Models Saved/Valence/Train_Test_Split_MDPI/75_25_Train_Test/weights-improvement-28-0.9707.hdf5\n",
            "4685/4685 [==============================] - 26s 6ms/step - loss: 0.0617 - accuracy: 0.9707 - val_loss: 0.0335 - val_accuracy: 0.9860\n",
            "Epoch 29/100\n",
            "4677/4685 [============================>.] - ETA: 0s - loss: 0.0610 - accuracy: 0.9709\n",
            "Epoch 29: accuracy improved from 0.97072 to 0.97085, saving model to /content/drive/Shareddrives/DEAP EEG/Models Saved/Valence/Train_Test_Split_MDPI/75_25_Train_Test/weights-improvement-29-0.9709.hdf5\n",
            "4685/4685 [==============================] - 25s 5ms/step - loss: 0.0610 - accuracy: 0.9709 - val_loss: 0.0321 - val_accuracy: 0.9871\n",
            "Epoch 30/100\n",
            "4679/4685 [============================>.] - ETA: 0s - loss: 0.0604 - accuracy: 0.9713\n",
            "Epoch 30: accuracy improved from 0.97085 to 0.97130, saving model to /content/drive/Shareddrives/DEAP EEG/Models Saved/Valence/Train_Test_Split_MDPI/75_25_Train_Test/weights-improvement-30-0.9713.hdf5\n",
            "4685/4685 [==============================] - 27s 6ms/step - loss: 0.0604 - accuracy: 0.9713 - val_loss: 0.0316 - val_accuracy: 0.9865\n",
            "Epoch 31/100\n",
            "4683/4685 [============================>.] - ETA: 0s - loss: 0.0600 - accuracy: 0.9717\n",
            "Epoch 31: accuracy improved from 0.97130 to 0.97174, saving model to /content/drive/Shareddrives/DEAP EEG/Models Saved/Valence/Train_Test_Split_MDPI/75_25_Train_Test/weights-improvement-31-0.9717.hdf5\n",
            "4685/4685 [==============================] - 27s 6ms/step - loss: 0.0600 - accuracy: 0.9717 - val_loss: 0.0314 - val_accuracy: 0.9868\n",
            "Epoch 32/100\n",
            "4683/4685 [============================>.] - ETA: 0s - loss: 0.0591 - accuracy: 0.9720\n",
            "Epoch 32: accuracy improved from 0.97174 to 0.97196, saving model to /content/drive/Shareddrives/DEAP EEG/Models Saved/Valence/Train_Test_Split_MDPI/75_25_Train_Test/weights-improvement-32-0.9720.hdf5\n",
            "4685/4685 [==============================] - 27s 6ms/step - loss: 0.0591 - accuracy: 0.9720 - val_loss: 0.0302 - val_accuracy: 0.9875\n",
            "Epoch 33/100\n",
            "4680/4685 [============================>.] - ETA: 0s - loss: 0.0588 - accuracy: 0.9718\n",
            "Epoch 33: accuracy did not improve from 0.97196\n",
            "4685/4685 [==============================] - 25s 5ms/step - loss: 0.0588 - accuracy: 0.9718 - val_loss: 0.0295 - val_accuracy: 0.9869\n",
            "Epoch 34/100\n",
            "4682/4685 [============================>.] - ETA: 0s - loss: 0.0586 - accuracy: 0.9719\n",
            "Epoch 34: accuracy did not improve from 0.97196\n",
            "4685/4685 [==============================] - 27s 6ms/step - loss: 0.0586 - accuracy: 0.9719 - val_loss: 0.0288 - val_accuracy: 0.9870\n",
            "Epoch 35/100\n",
            "4675/4685 [============================>.] - ETA: 0s - loss: 0.0572 - accuracy: 0.9729\n",
            "Epoch 35: accuracy improved from 0.97196 to 0.97290, saving model to /content/drive/Shareddrives/DEAP EEG/Models Saved/Valence/Train_Test_Split_MDPI/75_25_Train_Test/weights-improvement-35-0.9729.hdf5\n",
            "4685/4685 [==============================] - 25s 5ms/step - loss: 0.0572 - accuracy: 0.9729 - val_loss: 0.0292 - val_accuracy: 0.9877\n",
            "Epoch 36/100\n",
            "4676/4685 [============================>.] - ETA: 0s - loss: 0.0568 - accuracy: 0.9730\n",
            "Epoch 36: accuracy improved from 0.97290 to 0.97301, saving model to /content/drive/Shareddrives/DEAP EEG/Models Saved/Valence/Train_Test_Split_MDPI/75_25_Train_Test/weights-improvement-36-0.9730.hdf5\n",
            "4685/4685 [==============================] - 25s 5ms/step - loss: 0.0569 - accuracy: 0.9730 - val_loss: 0.0291 - val_accuracy: 0.9878\n",
            "Epoch 37/100\n",
            "4684/4685 [============================>.] - ETA: 0s - loss: 0.0566 - accuracy: 0.9733\n",
            "Epoch 37: accuracy improved from 0.97301 to 0.97328, saving model to /content/drive/Shareddrives/DEAP EEG/Models Saved/Valence/Train_Test_Split_MDPI/75_25_Train_Test/weights-improvement-37-0.9733.hdf5\n",
            "4685/4685 [==============================] - 26s 5ms/step - loss: 0.0566 - accuracy: 0.9733 - val_loss: 0.0277 - val_accuracy: 0.9882\n",
            "Epoch 38/100\n",
            "4684/4685 [============================>.] - ETA: 0s - loss: 0.0563 - accuracy: 0.9735\n",
            "Epoch 38: accuracy improved from 0.97328 to 0.97346, saving model to /content/drive/Shareddrives/DEAP EEG/Models Saved/Valence/Train_Test_Split_MDPI/75_25_Train_Test/weights-improvement-38-0.9735.hdf5\n",
            "4685/4685 [==============================] - 26s 6ms/step - loss: 0.0563 - accuracy: 0.9735 - val_loss: 0.0301 - val_accuracy: 0.9878\n",
            "Epoch 39/100\n",
            "4681/4685 [============================>.] - ETA: 0s - loss: 0.0558 - accuracy: 0.9736\n",
            "Epoch 39: accuracy improved from 0.97346 to 0.97364, saving model to /content/drive/Shareddrives/DEAP EEG/Models Saved/Valence/Train_Test_Split_MDPI/75_25_Train_Test/weights-improvement-39-0.9736.hdf5\n",
            "4685/4685 [==============================] - 27s 6ms/step - loss: 0.0558 - accuracy: 0.9736 - val_loss: 0.0287 - val_accuracy: 0.9887\n",
            "Epoch 40/100\n",
            "4685/4685 [==============================] - ETA: 0s - loss: 0.0553 - accuracy: 0.9739\n",
            "Epoch 40: accuracy improved from 0.97364 to 0.97393, saving model to /content/drive/Shareddrives/DEAP EEG/Models Saved/Valence/Train_Test_Split_MDPI/75_25_Train_Test/weights-improvement-40-0.9739.hdf5\n",
            "4685/4685 [==============================] - 25s 5ms/step - loss: 0.0553 - accuracy: 0.9739 - val_loss: 0.0272 - val_accuracy: 0.9887\n",
            "Epoch 41/100\n",
            "4682/4685 [============================>.] - ETA: 0s - loss: 0.0545 - accuracy: 0.9743\n",
            "Epoch 41: accuracy improved from 0.97393 to 0.97431, saving model to /content/drive/Shareddrives/DEAP EEG/Models Saved/Valence/Train_Test_Split_MDPI/75_25_Train_Test/weights-improvement-41-0.9743.hdf5\n",
            "4685/4685 [==============================] - 27s 6ms/step - loss: 0.0545 - accuracy: 0.9743 - val_loss: 0.0263 - val_accuracy: 0.9892\n",
            "Epoch 42/100\n",
            "4677/4685 [============================>.] - ETA: 0s - loss: 0.0535 - accuracy: 0.9748\n",
            "Epoch 42: accuracy improved from 0.97431 to 0.97480, saving model to /content/drive/Shareddrives/DEAP EEG/Models Saved/Valence/Train_Test_Split_MDPI/75_25_Train_Test/weights-improvement-42-0.9748.hdf5\n",
            "4685/4685 [==============================] - 26s 6ms/step - loss: 0.0536 - accuracy: 0.9748 - val_loss: 0.0261 - val_accuracy: 0.9898\n",
            "Epoch 43/100\n",
            "4675/4685 [============================>.] - ETA: 0s - loss: 0.0540 - accuracy: 0.9748\n",
            "Epoch 43: accuracy improved from 0.97480 to 0.97481, saving model to /content/drive/Shareddrives/DEAP EEG/Models Saved/Valence/Train_Test_Split_MDPI/75_25_Train_Test/weights-improvement-43-0.9748.hdf5\n",
            "4685/4685 [==============================] - 25s 5ms/step - loss: 0.0540 - accuracy: 0.9748 - val_loss: 0.0259 - val_accuracy: 0.9897\n",
            "Epoch 44/100\n",
            "4676/4685 [============================>.] - ETA: 0s - loss: 0.0530 - accuracy: 0.9754\n",
            "Epoch 44: accuracy improved from 0.97481 to 0.97543, saving model to /content/drive/Shareddrives/DEAP EEG/Models Saved/Valence/Train_Test_Split_MDPI/75_25_Train_Test/weights-improvement-44-0.9754.hdf5\n",
            "4685/4685 [==============================] - 25s 5ms/step - loss: 0.0530 - accuracy: 0.9754 - val_loss: 0.0267 - val_accuracy: 0.9893\n",
            "Epoch 45/100\n",
            "4678/4685 [============================>.] - ETA: 0s - loss: 0.0529 - accuracy: 0.9756\n",
            "Epoch 45: accuracy improved from 0.97543 to 0.97557, saving model to /content/drive/Shareddrives/DEAP EEG/Models Saved/Valence/Train_Test_Split_MDPI/75_25_Train_Test/weights-improvement-45-0.9756.hdf5\n",
            "4685/4685 [==============================] - 25s 5ms/step - loss: 0.0529 - accuracy: 0.9756 - val_loss: 0.0284 - val_accuracy: 0.9892\n",
            "Epoch 46/100\n",
            "4682/4685 [============================>.] - ETA: 0s - loss: 0.0523 - accuracy: 0.9759\n",
            "Epoch 46: accuracy improved from 0.97557 to 0.97593, saving model to /content/drive/Shareddrives/DEAP EEG/Models Saved/Valence/Train_Test_Split_MDPI/75_25_Train_Test/weights-improvement-46-0.9759.hdf5\n",
            "4685/4685 [==============================] - 25s 5ms/step - loss: 0.0523 - accuracy: 0.9759 - val_loss: 0.0254 - val_accuracy: 0.9901\n",
            "Epoch 47/100\n",
            "4682/4685 [============================>.] - ETA: 0s - loss: 0.0520 - accuracy: 0.9759\n",
            "Epoch 47: accuracy did not improve from 0.97593\n",
            "4685/4685 [==============================] - 28s 6ms/step - loss: 0.0519 - accuracy: 0.9759 - val_loss: 0.0266 - val_accuracy: 0.9896\n",
            "Epoch 48/100\n",
            "4681/4685 [============================>.] - ETA: 0s - loss: 0.0513 - accuracy: 0.9762\n",
            "Epoch 48: accuracy improved from 0.97593 to 0.97621, saving model to /content/drive/Shareddrives/DEAP EEG/Models Saved/Valence/Train_Test_Split_MDPI/75_25_Train_Test/weights-improvement-48-0.9762.hdf5\n",
            "4685/4685 [==============================] - 25s 5ms/step - loss: 0.0513 - accuracy: 0.9762 - val_loss: 0.0254 - val_accuracy: 0.9901\n",
            "Epoch 49/100\n",
            "4678/4685 [============================>.] - ETA: 0s - loss: 0.0517 - accuracy: 0.9757\n",
            "Epoch 49: accuracy did not improve from 0.97621\n",
            "4685/4685 [==============================] - 25s 5ms/step - loss: 0.0517 - accuracy: 0.9757 - val_loss: 0.0264 - val_accuracy: 0.9892\n",
            "Epoch 50/100\n",
            "4680/4685 [============================>.] - ETA: 0s - loss: 0.0504 - accuracy: 0.9766\n",
            "Epoch 50: accuracy improved from 0.97621 to 0.97655, saving model to /content/drive/Shareddrives/DEAP EEG/Models Saved/Valence/Train_Test_Split_MDPI/75_25_Train_Test/weights-improvement-50-0.9766.hdf5\n",
            "4685/4685 [==============================] - 25s 5ms/step - loss: 0.0504 - accuracy: 0.9766 - val_loss: 0.0241 - val_accuracy: 0.9905\n",
            "Epoch 51/100\n",
            "4683/4685 [============================>.] - ETA: 0s - loss: 0.0503 - accuracy: 0.9766\n",
            "Epoch 51: accuracy improved from 0.97655 to 0.97658, saving model to /content/drive/Shareddrives/DEAP EEG/Models Saved/Valence/Train_Test_Split_MDPI/75_25_Train_Test/weights-improvement-51-0.9766.hdf5\n",
            "4685/4685 [==============================] - 25s 5ms/step - loss: 0.0503 - accuracy: 0.9766 - val_loss: 0.0278 - val_accuracy: 0.9894\n",
            "Epoch 52/100\n",
            "4681/4685 [============================>.] - ETA: 0s - loss: 0.0505 - accuracy: 0.9766\n",
            "Epoch 52: accuracy did not improve from 0.97658\n",
            "4685/4685 [==============================] - 26s 5ms/step - loss: 0.0505 - accuracy: 0.9766 - val_loss: 0.0245 - val_accuracy: 0.9904\n",
            "Epoch 53/100\n",
            "4685/4685 [==============================] - ETA: 0s - loss: 0.0509 - accuracy: 0.9765\n",
            "Epoch 53: accuracy did not improve from 0.97658\n",
            "4685/4685 [==============================] - 25s 5ms/step - loss: 0.0509 - accuracy: 0.9765 - val_loss: 0.0243 - val_accuracy: 0.9902\n",
            "Epoch 54/100\n",
            "4685/4685 [==============================] - ETA: 0s - loss: 0.0499 - accuracy: 0.9766\n",
            "Epoch 54: accuracy did not improve from 0.97658\n",
            "4685/4685 [==============================] - 25s 5ms/step - loss: 0.0499 - accuracy: 0.9766 - val_loss: 0.0239 - val_accuracy: 0.9906\n",
            "Epoch 55/100\n",
            "4679/4685 [============================>.] - ETA: 0s - loss: 0.0498 - accuracy: 0.9769\n",
            "Epoch 55: accuracy improved from 0.97658 to 0.97690, saving model to /content/drive/Shareddrives/DEAP EEG/Models Saved/Valence/Train_Test_Split_MDPI/75_25_Train_Test/weights-improvement-55-0.9769.hdf5\n",
            "4685/4685 [==============================] - 25s 5ms/step - loss: 0.0498 - accuracy: 0.9769 - val_loss: 0.0234 - val_accuracy: 0.9910\n",
            "Epoch 56/100\n",
            "4681/4685 [============================>.] - ETA: 0s - loss: 0.0496 - accuracy: 0.9770\n",
            "Epoch 56: accuracy improved from 0.97690 to 0.97698, saving model to /content/drive/Shareddrives/DEAP EEG/Models Saved/Valence/Train_Test_Split_MDPI/75_25_Train_Test/weights-improvement-56-0.9770.hdf5\n",
            "4685/4685 [==============================] - 27s 6ms/step - loss: 0.0496 - accuracy: 0.9770 - val_loss: 0.0232 - val_accuracy: 0.9910\n",
            "Epoch 57/100\n",
            "4683/4685 [============================>.] - ETA: 0s - loss: 0.0491 - accuracy: 0.9775\n",
            "Epoch 57: accuracy improved from 0.97698 to 0.97745, saving model to /content/drive/Shareddrives/DEAP EEG/Models Saved/Valence/Train_Test_Split_MDPI/75_25_Train_Test/weights-improvement-57-0.9775.hdf5\n",
            "4685/4685 [==============================] - 25s 5ms/step - loss: 0.0491 - accuracy: 0.9775 - val_loss: 0.0237 - val_accuracy: 0.9902\n",
            "Epoch 58/100\n",
            "4678/4685 [============================>.] - ETA: 0s - loss: 0.0491 - accuracy: 0.9772\n",
            "Epoch 58: accuracy did not improve from 0.97745\n",
            "4685/4685 [==============================] - 27s 6ms/step - loss: 0.0491 - accuracy: 0.9772 - val_loss: 0.0257 - val_accuracy: 0.9900\n",
            "Epoch 59/100\n",
            "4684/4685 [============================>.] - ETA: 0s - loss: 0.0482 - accuracy: 0.9776\n",
            "Epoch 59: accuracy improved from 0.97745 to 0.97759, saving model to /content/drive/Shareddrives/DEAP EEG/Models Saved/Valence/Train_Test_Split_MDPI/75_25_Train_Test/weights-improvement-59-0.9776.hdf5\n",
            "4685/4685 [==============================] - 27s 6ms/step - loss: 0.0482 - accuracy: 0.9776 - val_loss: 0.0242 - val_accuracy: 0.9906\n",
            "Epoch 60/100\n",
            "4680/4685 [============================>.] - ETA: 0s - loss: 0.0483 - accuracy: 0.9776\n",
            "Epoch 60: accuracy improved from 0.97759 to 0.97761, saving model to /content/drive/Shareddrives/DEAP EEG/Models Saved/Valence/Train_Test_Split_MDPI/75_25_Train_Test/weights-improvement-60-0.9776.hdf5\n",
            "4685/4685 [==============================] - 27s 6ms/step - loss: 0.0483 - accuracy: 0.9776 - val_loss: 0.0225 - val_accuracy: 0.9908\n",
            "Epoch 61/100\n",
            "4684/4685 [============================>.] - ETA: 0s - loss: 0.0483 - accuracy: 0.9776\n",
            "Epoch 61: accuracy improved from 0.97761 to 0.97765, saving model to /content/drive/Shareddrives/DEAP EEG/Models Saved/Valence/Train_Test_Split_MDPI/75_25_Train_Test/weights-improvement-61-0.9776.hdf5\n",
            "4685/4685 [==============================] - 28s 6ms/step - loss: 0.0483 - accuracy: 0.9776 - val_loss: 0.0224 - val_accuracy: 0.9911\n",
            "Epoch 62/100\n",
            "4678/4685 [============================>.] - ETA: 0s - loss: 0.0483 - accuracy: 0.9776\n",
            "Epoch 62: accuracy did not improve from 0.97765\n",
            "4685/4685 [==============================] - 27s 6ms/step - loss: 0.0483 - accuracy: 0.9776 - val_loss: 0.0233 - val_accuracy: 0.9913\n",
            "Epoch 63/100\n",
            "4676/4685 [============================>.] - ETA: 0s - loss: 0.0480 - accuracy: 0.9777\n",
            "Epoch 63: accuracy improved from 0.97765 to 0.97769, saving model to /content/drive/Shareddrives/DEAP EEG/Models Saved/Valence/Train_Test_Split_MDPI/75_25_Train_Test/weights-improvement-63-0.9777.hdf5\n",
            "4685/4685 [==============================] - 25s 5ms/step - loss: 0.0480 - accuracy: 0.9777 - val_loss: 0.0251 - val_accuracy: 0.9900\n",
            "Epoch 64/100\n",
            "4683/4685 [============================>.] - ETA: 0s - loss: 0.0474 - accuracy: 0.9780\n",
            "Epoch 64: accuracy improved from 0.97769 to 0.97798, saving model to /content/drive/Shareddrives/DEAP EEG/Models Saved/Valence/Train_Test_Split_MDPI/75_25_Train_Test/weights-improvement-64-0.9780.hdf5\n",
            "4685/4685 [==============================] - 25s 5ms/step - loss: 0.0474 - accuracy: 0.9780 - val_loss: 0.0221 - val_accuracy: 0.9914\n",
            "Epoch 65/100\n",
            "4684/4685 [============================>.] - ETA: 0s - loss: 0.0472 - accuracy: 0.9780\n",
            "Epoch 65: accuracy improved from 0.97798 to 0.97801, saving model to /content/drive/Shareddrives/DEAP EEG/Models Saved/Valence/Train_Test_Split_MDPI/75_25_Train_Test/weights-improvement-65-0.9780.hdf5\n",
            "4685/4685 [==============================] - 27s 6ms/step - loss: 0.0472 - accuracy: 0.9780 - val_loss: 0.0226 - val_accuracy: 0.9911\n",
            "Epoch 66/100\n",
            "4682/4685 [============================>.] - ETA: 0s - loss: 0.0473 - accuracy: 0.9782\n",
            "Epoch 66: accuracy improved from 0.97801 to 0.97822, saving model to /content/drive/Shareddrives/DEAP EEG/Models Saved/Valence/Train_Test_Split_MDPI/75_25_Train_Test/weights-improvement-66-0.9782.hdf5\n",
            "4685/4685 [==============================] - 28s 6ms/step - loss: 0.0473 - accuracy: 0.9782 - val_loss: 0.0209 - val_accuracy: 0.9916\n",
            "Epoch 67/100\n",
            "4677/4685 [============================>.] - ETA: 0s - loss: 0.0469 - accuracy: 0.9782\n",
            "Epoch 67: accuracy improved from 0.97822 to 0.97823, saving model to /content/drive/Shareddrives/DEAP EEG/Models Saved/Valence/Train_Test_Split_MDPI/75_25_Train_Test/weights-improvement-67-0.9782.hdf5\n",
            "4685/4685 [==============================] - 25s 5ms/step - loss: 0.0469 - accuracy: 0.9782 - val_loss: 0.0219 - val_accuracy: 0.9914\n",
            "Epoch 68/100\n",
            "4682/4685 [============================>.] - ETA: 0s - loss: 0.0465 - accuracy: 0.9785\n",
            "Epoch 68: accuracy improved from 0.97823 to 0.97854, saving model to /content/drive/Shareddrives/DEAP EEG/Models Saved/Valence/Train_Test_Split_MDPI/75_25_Train_Test/weights-improvement-68-0.9785.hdf5\n",
            "4685/4685 [==============================] - 25s 5ms/step - loss: 0.0465 - accuracy: 0.9785 - val_loss: 0.0214 - val_accuracy: 0.9916\n",
            "Epoch 69/100\n",
            "4676/4685 [============================>.] - ETA: 0s - loss: 0.0465 - accuracy: 0.9786\n",
            "Epoch 69: accuracy improved from 0.97854 to 0.97860, saving model to /content/drive/Shareddrives/DEAP EEG/Models Saved/Valence/Train_Test_Split_MDPI/75_25_Train_Test/weights-improvement-69-0.9786.hdf5\n",
            "4685/4685 [==============================] - 25s 5ms/step - loss: 0.0465 - accuracy: 0.9786 - val_loss: 0.0217 - val_accuracy: 0.9916\n",
            "Epoch 70/100\n",
            "4678/4685 [============================>.] - ETA: 0s - loss: 0.0459 - accuracy: 0.9788\n",
            "Epoch 70: accuracy improved from 0.97860 to 0.97883, saving model to /content/drive/Shareddrives/DEAP EEG/Models Saved/Valence/Train_Test_Split_MDPI/75_25_Train_Test/weights-improvement-70-0.9788.hdf5\n",
            "4685/4685 [==============================] - 25s 5ms/step - loss: 0.0459 - accuracy: 0.9788 - val_loss: 0.0238 - val_accuracy: 0.9907\n",
            "Epoch 71/100\n",
            "4684/4685 [============================>.] - ETA: 0s - loss: 0.0456 - accuracy: 0.9790\n",
            "Epoch 71: accuracy improved from 0.97883 to 0.97903, saving model to /content/drive/Shareddrives/DEAP EEG/Models Saved/Valence/Train_Test_Split_MDPI/75_25_Train_Test/weights-improvement-71-0.9790.hdf5\n",
            "4685/4685 [==============================] - 26s 6ms/step - loss: 0.0456 - accuracy: 0.9790 - val_loss: 0.0243 - val_accuracy: 0.9908\n",
            "Epoch 72/100\n",
            "4684/4685 [============================>.] - ETA: 0s - loss: 0.0456 - accuracy: 0.9786\n",
            "Epoch 72: accuracy did not improve from 0.97903\n",
            "4685/4685 [==============================] - 27s 6ms/step - loss: 0.0456 - accuracy: 0.9786 - val_loss: 0.0214 - val_accuracy: 0.9918\n",
            "Epoch 73/100\n",
            "4681/4685 [============================>.] - ETA: 0s - loss: 0.0460 - accuracy: 0.9788\n",
            "Epoch 73: accuracy did not improve from 0.97903\n",
            "4685/4685 [==============================] - 27s 6ms/step - loss: 0.0460 - accuracy: 0.9788 - val_loss: 0.0216 - val_accuracy: 0.9918\n",
            "Epoch 74/100\n",
            "4682/4685 [============================>.] - ETA: 0s - loss: 0.0459 - accuracy: 0.9788\n",
            "Epoch 74: accuracy did not improve from 0.97903\n",
            "4685/4685 [==============================] - 28s 6ms/step - loss: 0.0459 - accuracy: 0.9788 - val_loss: 0.0239 - val_accuracy: 0.9909\n",
            "Epoch 75/100\n",
            "4676/4685 [============================>.] - ETA: 0s - loss: 0.0452 - accuracy: 0.9789\n",
            "Epoch 75: accuracy did not improve from 0.97903\n",
            "4685/4685 [==============================] - 29s 6ms/step - loss: 0.0452 - accuracy: 0.9789 - val_loss: 0.0213 - val_accuracy: 0.9917\n",
            "Epoch 76/100\n",
            "4685/4685 [==============================] - ETA: 0s - loss: 0.0456 - accuracy: 0.9788\n",
            "Epoch 76: accuracy did not improve from 0.97903\n",
            "4685/4685 [==============================] - 27s 6ms/step - loss: 0.0456 - accuracy: 0.9788 - val_loss: 0.0214 - val_accuracy: 0.9916\n",
            "Epoch 77/100\n",
            "4684/4685 [============================>.] - ETA: 0s - loss: 0.0448 - accuracy: 0.9792\n",
            "Epoch 77: accuracy improved from 0.97903 to 0.97920, saving model to /content/drive/Shareddrives/DEAP EEG/Models Saved/Valence/Train_Test_Split_MDPI/75_25_Train_Test/weights-improvement-77-0.9792.hdf5\n",
            "4685/4685 [==============================] - 27s 6ms/step - loss: 0.0448 - accuracy: 0.9792 - val_loss: 0.0224 - val_accuracy: 0.9913\n",
            "Epoch 78/100\n",
            "4678/4685 [============================>.] - ETA: 0s - loss: 0.0450 - accuracy: 0.9792\n",
            "Epoch 78: accuracy did not improve from 0.97920\n",
            "4685/4685 [==============================] - 25s 5ms/step - loss: 0.0450 - accuracy: 0.9792 - val_loss: 0.0206 - val_accuracy: 0.9922\n",
            "Epoch 79/100\n",
            "4681/4685 [============================>.] - ETA: 0s - loss: 0.0441 - accuracy: 0.9796\n",
            "Epoch 79: accuracy improved from 0.97920 to 0.97957, saving model to /content/drive/Shareddrives/DEAP EEG/Models Saved/Valence/Train_Test_Split_MDPI/75_25_Train_Test/weights-improvement-79-0.9796.hdf5\n",
            "4685/4685 [==============================] - 25s 5ms/step - loss: 0.0441 - accuracy: 0.9796 - val_loss: 0.0213 - val_accuracy: 0.9917\n",
            "Epoch 80/100\n",
            "4682/4685 [============================>.] - ETA: 0s - loss: 0.0444 - accuracy: 0.9793\n",
            "Epoch 80: accuracy did not improve from 0.97957\n",
            "4685/4685 [==============================] - 26s 6ms/step - loss: 0.0444 - accuracy: 0.9793 - val_loss: 0.0206 - val_accuracy: 0.9921\n",
            "Epoch 81/100\n",
            "4681/4685 [============================>.] - ETA: 0s - loss: 0.0440 - accuracy: 0.9797\n",
            "Epoch 81: accuracy improved from 0.97957 to 0.97973, saving model to /content/drive/Shareddrives/DEAP EEG/Models Saved/Valence/Train_Test_Split_MDPI/75_25_Train_Test/weights-improvement-81-0.9797.hdf5\n",
            "4685/4685 [==============================] - 27s 6ms/step - loss: 0.0441 - accuracy: 0.9797 - val_loss: 0.0209 - val_accuracy: 0.9917\n",
            "Epoch 82/100\n",
            "4681/4685 [============================>.] - ETA: 0s - loss: 0.0445 - accuracy: 0.9795\n",
            "Epoch 82: accuracy did not improve from 0.97973\n",
            "4685/4685 [==============================] - 25s 5ms/step - loss: 0.0446 - accuracy: 0.9795 - val_loss: 0.0213 - val_accuracy: 0.9920\n",
            "Epoch 83/100\n",
            "4678/4685 [============================>.] - ETA: 0s - loss: 0.0442 - accuracy: 0.9794\n",
            "Epoch 83: accuracy did not improve from 0.97973\n",
            "4685/4685 [==============================] - 25s 5ms/step - loss: 0.0442 - accuracy: 0.9794 - val_loss: 0.0219 - val_accuracy: 0.9914\n",
            "Epoch 84/100\n",
            "4684/4685 [============================>.] - ETA: 0s - loss: 0.0440 - accuracy: 0.9795\n",
            "Epoch 84: accuracy did not improve from 0.97973\n",
            "4685/4685 [==============================] - 27s 6ms/step - loss: 0.0440 - accuracy: 0.9795 - val_loss: 0.0205 - val_accuracy: 0.9922\n",
            "Epoch 85/100\n",
            "4685/4685 [==============================] - ETA: 0s - loss: 0.0439 - accuracy: 0.9797\n",
            "Epoch 85: accuracy did not improve from 0.97973\n",
            "4685/4685 [==============================] - 27s 6ms/step - loss: 0.0439 - accuracy: 0.9797 - val_loss: 0.0213 - val_accuracy: 0.9915\n",
            "Epoch 86/100\n",
            "4678/4685 [============================>.] - ETA: 0s - loss: 0.0437 - accuracy: 0.9798\n",
            "Epoch 86: accuracy improved from 0.97973 to 0.97978, saving model to /content/drive/Shareddrives/DEAP EEG/Models Saved/Valence/Train_Test_Split_MDPI/75_25_Train_Test/weights-improvement-86-0.9798.hdf5\n",
            "4685/4685 [==============================] - 27s 6ms/step - loss: 0.0437 - accuracy: 0.9798 - val_loss: 0.0220 - val_accuracy: 0.9918\n",
            "Epoch 87/100\n",
            "4676/4685 [============================>.] - ETA: 0s - loss: 0.0434 - accuracy: 0.9801\n",
            "Epoch 87: accuracy improved from 0.97978 to 0.98006, saving model to /content/drive/Shareddrives/DEAP EEG/Models Saved/Valence/Train_Test_Split_MDPI/75_25_Train_Test/weights-improvement-87-0.9801.hdf5\n",
            "4685/4685 [==============================] - 25s 5ms/step - loss: 0.0434 - accuracy: 0.9801 - val_loss: 0.0205 - val_accuracy: 0.9919\n",
            "Epoch 88/100\n",
            "4685/4685 [==============================] - ETA: 0s - loss: 0.0429 - accuracy: 0.9801\n",
            "Epoch 88: accuracy improved from 0.98006 to 0.98013, saving model to /content/drive/Shareddrives/DEAP EEG/Models Saved/Valence/Train_Test_Split_MDPI/75_25_Train_Test/weights-improvement-88-0.9801.hdf5\n",
            "4685/4685 [==============================] - 25s 5ms/step - loss: 0.0429 - accuracy: 0.9801 - val_loss: 0.0207 - val_accuracy: 0.9920\n",
            "Epoch 89/100\n",
            "4682/4685 [============================>.] - ETA: 0s - loss: 0.0436 - accuracy: 0.9798\n",
            "Epoch 89: accuracy did not improve from 0.98013\n",
            "4685/4685 [==============================] - 26s 6ms/step - loss: 0.0436 - accuracy: 0.9798 - val_loss: 0.0218 - val_accuracy: 0.9918\n",
            "Epoch 90/100\n",
            "4682/4685 [============================>.] - ETA: 0s - loss: 0.0432 - accuracy: 0.9798\n",
            "Epoch 90: accuracy did not improve from 0.98013\n",
            "4685/4685 [==============================] - 25s 5ms/step - loss: 0.0432 - accuracy: 0.9798 - val_loss: 0.0205 - val_accuracy: 0.9918\n",
            "Epoch 91/100\n",
            "4679/4685 [============================>.] - ETA: 0s - loss: 0.0434 - accuracy: 0.9797\n",
            "Epoch 91: accuracy did not improve from 0.98013\n",
            "4685/4685 [==============================] - 27s 6ms/step - loss: 0.0433 - accuracy: 0.9797 - val_loss: 0.0209 - val_accuracy: 0.9916\n",
            "Epoch 92/100\n",
            "4684/4685 [============================>.] - ETA: 0s - loss: 0.0428 - accuracy: 0.9800\n",
            "Epoch 92: accuracy did not improve from 0.98013\n",
            "4685/4685 [==============================] - 27s 6ms/step - loss: 0.0428 - accuracy: 0.9800 - val_loss: 0.0217 - val_accuracy: 0.9915\n",
            "Epoch 93/100\n",
            "4679/4685 [============================>.] - ETA: 0s - loss: 0.0429 - accuracy: 0.9803\n",
            "Epoch 93: accuracy improved from 0.98013 to 0.98029, saving model to /content/drive/Shareddrives/DEAP EEG/Models Saved/Valence/Train_Test_Split_MDPI/75_25_Train_Test/weights-improvement-93-0.9803.hdf5\n",
            "4685/4685 [==============================] - 25s 5ms/step - loss: 0.0429 - accuracy: 0.9803 - val_loss: 0.0201 - val_accuracy: 0.9922\n",
            "Epoch 94/100\n",
            "4677/4685 [============================>.] - ETA: 0s - loss: 0.0430 - accuracy: 0.9800\n",
            "Epoch 94: accuracy did not improve from 0.98029\n",
            "4685/4685 [==============================] - 28s 6ms/step - loss: 0.0430 - accuracy: 0.9800 - val_loss: 0.0203 - val_accuracy: 0.9921\n",
            "Epoch 95/100\n",
            "4680/4685 [============================>.] - ETA: 0s - loss: 0.0418 - accuracy: 0.9804\n",
            "Epoch 95: accuracy improved from 0.98029 to 0.98044, saving model to /content/drive/Shareddrives/DEAP EEG/Models Saved/Valence/Train_Test_Split_MDPI/75_25_Train_Test/weights-improvement-95-0.9804.hdf5\n",
            "4685/4685 [==============================] - 27s 6ms/step - loss: 0.0418 - accuracy: 0.9804 - val_loss: 0.0222 - val_accuracy: 0.9909\n",
            "Epoch 96/100\n",
            "4678/4685 [============================>.] - ETA: 0s - loss: 0.0421 - accuracy: 0.9803\n",
            "Epoch 96: accuracy did not improve from 0.98044\n",
            "4685/4685 [==============================] - 28s 6ms/step - loss: 0.0421 - accuracy: 0.9803 - val_loss: 0.0215 - val_accuracy: 0.9922\n",
            "Epoch 97/100\n",
            "4684/4685 [============================>.] - ETA: 0s - loss: 0.0422 - accuracy: 0.9803\n",
            "Epoch 97: accuracy did not improve from 0.98044\n",
            "4685/4685 [==============================] - 28s 6ms/step - loss: 0.0421 - accuracy: 0.9803 - val_loss: 0.0201 - val_accuracy: 0.9920\n",
            "Epoch 98/100\n",
            "4683/4685 [============================>.] - ETA: 0s - loss: 0.0420 - accuracy: 0.9806\n",
            "Epoch 98: accuracy improved from 0.98044 to 0.98058, saving model to /content/drive/Shareddrives/DEAP EEG/Models Saved/Valence/Train_Test_Split_MDPI/75_25_Train_Test/weights-improvement-98-0.9806.hdf5\n",
            "4685/4685 [==============================] - 27s 6ms/step - loss: 0.0420 - accuracy: 0.9806 - val_loss: 0.0209 - val_accuracy: 0.9916\n",
            "Epoch 99/100\n",
            "4680/4685 [============================>.] - ETA: 0s - loss: 0.0426 - accuracy: 0.9801\n",
            "Epoch 99: accuracy did not improve from 0.98058\n",
            "4685/4685 [==============================] - 28s 6ms/step - loss: 0.0425 - accuracy: 0.9801 - val_loss: 0.0206 - val_accuracy: 0.9919\n",
            "Epoch 100/100\n",
            "4678/4685 [============================>.] - ETA: 0s - loss: 0.0413 - accuracy: 0.9806\n",
            "Epoch 100: accuracy improved from 0.98058 to 0.98061, saving model to /content/drive/Shareddrives/DEAP EEG/Models Saved/Valence/Train_Test_Split_MDPI/75_25_Train_Test/weights-improvement-100-0.9806.hdf5\n",
            "4685/4685 [==============================] - 26s 6ms/step - loss: 0.0413 - accuracy: 0.9806 - val_loss: 0.0200 - val_accuracy: 0.9926\n",
            "CPU times: user 47min 22s, sys: 4min 38s, total: 52min\n",
            "Wall time: 43min 48s\n"
          ]
        }
      ]
    },
    {
      "cell_type": "code",
      "source": [
        "%%time\n",
        "score = model.evaluate(x_test, y_test, verbose=1)\n",
        "print('Test loss:', score[0])\n",
        "print('Test accuracy:', score[1])"
      ],
      "metadata": {
        "colab": {
          "base_uri": "https://localhost:8080/"
        },
        "id": "R9JADaKv7ls6",
        "outputId": "ec1a2422-b972-4f03-e45c-de8f813c0d85"
      },
      "execution_count": null,
      "outputs": [
        {
          "output_type": "stream",
          "name": "stdout",
          "text": [
            "4880/4880 [==============================] - 13s 3ms/step - loss: 0.0200 - accuracy: 0.9926\n",
            "Test loss: 0.019990870729088783\n",
            "Test accuracy: 0.9926357865333557\n",
            "CPU times: user 14.2 s, sys: 1.66 s, total: 15.9 s\n",
            "Wall time: 20.8 s\n"
          ]
        }
      ]
    },
    {
      "cell_type": "code",
      "source": [
        "with open('/content/drive/Shareddrives/DEAP EEG/Models Saved/Valence/Train_Test_Split_MDPI/75_25_Train_Test/history', 'wb') as file_pi:\n",
        "        pickle.dump(H.history, file_pi)"
      ],
      "metadata": {
        "id": "twUEN46EeAdr"
      },
      "execution_count": null,
      "outputs": []
    },
    {
      "cell_type": "markdown",
      "source": [
        "**train 50% test 50%**"
      ],
      "metadata": {
        "id": "UX879bsZOWfK"
      }
    },
    {
      "cell_type": "code",
      "source": [
        "# check points and early stopping\n",
        "from keras.callbacks import ModelCheckpoint,EarlyStopping\n",
        "\n",
        "model_name = \"\"\n",
        "filepath=\"/content/drive/Shareddrives/DEAP EEG/Models Saved/Valence/Train_Test_Split_MDPI/50_50_Train_Test/\"  + model_name + \"weights-improvement-{epoch:02d}-{accuracy:.4f}.hdf5\"\n",
        "print(filepath)\n",
        "checkpoint = ModelCheckpoint(filepath, monitor='accuracy', verbose=1, save_best_only=True, mode='max')\n",
        "es = EarlyStopping(monitor='accuracy', mode='max', verbose=1, patience=10)\n",
        "callbacks_list = [es, checkpoint]"
      ],
      "metadata": {
        "colab": {
          "base_uri": "https://localhost:8080/"
        },
        "id": "vYhMk6ZXObTS",
        "outputId": "672125b1-7601-429c-d8f6-f15fb965398c"
      },
      "execution_count": null,
      "outputs": [
        {
          "output_type": "stream",
          "name": "stdout",
          "text": [
            "/content/drive/Shareddrives/DEAP EEG/Models Saved/Valence/Train_Test_Split_MDPI/50_50_Train_Test/weights-improvement-{epoch:02d}-{accuracy:.4f}.hdf5\n"
          ]
        }
      ]
    },
    {
      "cell_type": "code",
      "source": [
        "%%time\n",
        "H = model.fit(x_train, y_train,\n",
        "          batch_size=100,\n",
        "          epochs=100,\n",
        "          verbose=1,\n",
        "          validation_data=(x_test, y_test),\n",
        "          callbacks= callbacks_list)"
      ],
      "metadata": {
        "colab": {
          "base_uri": "https://localhost:8080/"
        },
        "id": "Vl5Q_hrROgLs",
        "outputId": "fa305e18-a2a7-479f-ab2a-9d59a15dff54"
      },
      "execution_count": null,
      "outputs": [
        {
          "output_type": "stream",
          "name": "stdout",
          "text": [
            "Epoch 1/100\n",
            "3124/3124 [==============================] - ETA: 0s - loss: 0.3266 - accuracy: 0.8496\n",
            "Epoch 1: accuracy improved from -inf to 0.84961, saving model to /content/drive/Shareddrives/DEAP EEG/Models Saved/Valence/Train_Test_Split_MDPI/50_50_Train_Test/weights-improvement-01-0.8496.hdf5\n",
            "3124/3124 [==============================] - 48s 11ms/step - loss: 0.3266 - accuracy: 0.8496 - val_loss: 0.2230 - val_accuracy: 0.8981\n",
            "Epoch 2/100\n",
            "3121/3124 [============================>.] - ETA: 0s - loss: 0.2204 - accuracy: 0.8971\n",
            "Epoch 2: accuracy improved from 0.84961 to 0.89712, saving model to /content/drive/Shareddrives/DEAP EEG/Models Saved/Valence/Train_Test_Split_MDPI/50_50_Train_Test/weights-improvement-02-0.8971.hdf5\n",
            "3124/3124 [==============================] - 29s 9ms/step - loss: 0.2204 - accuracy: 0.8971 - val_loss: 0.1572 - val_accuracy: 0.9304\n",
            "Epoch 3/100\n",
            "3122/3124 [============================>.] - ETA: 0s - loss: 0.1815 - accuracy: 0.9144\n",
            "Epoch 3: accuracy improved from 0.89712 to 0.91438, saving model to /content/drive/Shareddrives/DEAP EEG/Models Saved/Valence/Train_Test_Split_MDPI/50_50_Train_Test/weights-improvement-03-0.9144.hdf5\n",
            "3124/3124 [==============================] - 30s 10ms/step - loss: 0.1815 - accuracy: 0.9144 - val_loss: 0.1366 - val_accuracy: 0.9362\n",
            "Epoch 4/100\n",
            "3124/3124 [==============================] - ETA: 0s - loss: 0.1591 - accuracy: 0.9236\n",
            "Epoch 4: accuracy improved from 0.91438 to 0.92358, saving model to /content/drive/Shareddrives/DEAP EEG/Models Saved/Valence/Train_Test_Split_MDPI/50_50_Train_Test/weights-improvement-04-0.9236.hdf5\n",
            "3124/3124 [==============================] - 31s 10ms/step - loss: 0.1591 - accuracy: 0.9236 - val_loss: 0.1164 - val_accuracy: 0.9474\n",
            "Epoch 5/100\n",
            "3123/3124 [============================>.] - ETA: 0s - loss: 0.1466 - accuracy: 0.9293\n",
            "Epoch 5: accuracy improved from 0.92358 to 0.92932, saving model to /content/drive/Shareddrives/DEAP EEG/Models Saved/Valence/Train_Test_Split_MDPI/50_50_Train_Test/weights-improvement-05-0.9293.hdf5\n",
            "3124/3124 [==============================] - 31s 10ms/step - loss: 0.1466 - accuracy: 0.9293 - val_loss: 0.1026 - val_accuracy: 0.9528\n",
            "Epoch 6/100\n",
            "3120/3124 [============================>.] - ETA: 0s - loss: 0.1365 - accuracy: 0.9338\n",
            "Epoch 6: accuracy improved from 0.92932 to 0.93376, saving model to /content/drive/Shareddrives/DEAP EEG/Models Saved/Valence/Train_Test_Split_MDPI/50_50_Train_Test/weights-improvement-06-0.9338.hdf5\n",
            "3124/3124 [==============================] - 30s 10ms/step - loss: 0.1365 - accuracy: 0.9338 - val_loss: 0.0954 - val_accuracy: 0.9559\n",
            "Epoch 7/100\n",
            "3120/3124 [============================>.] - ETA: 0s - loss: 0.1282 - accuracy: 0.9370\n",
            "Epoch 7: accuracy improved from 0.93376 to 0.93699, saving model to /content/drive/Shareddrives/DEAP EEG/Models Saved/Valence/Train_Test_Split_MDPI/50_50_Train_Test/weights-improvement-07-0.9370.hdf5\n",
            "3124/3124 [==============================] - 33s 11ms/step - loss: 0.1282 - accuracy: 0.9370 - val_loss: 0.0875 - val_accuracy: 0.9599\n",
            "Epoch 8/100\n",
            "3119/3124 [============================>.] - ETA: 0s - loss: 0.1217 - accuracy: 0.9412\n",
            "Epoch 8: accuracy improved from 0.93699 to 0.94117, saving model to /content/drive/Shareddrives/DEAP EEG/Models Saved/Valence/Train_Test_Split_MDPI/50_50_Train_Test/weights-improvement-08-0.9412.hdf5\n",
            "3124/3124 [==============================] - 42s 14ms/step - loss: 0.1217 - accuracy: 0.9412 - val_loss: 0.0852 - val_accuracy: 0.9619\n",
            "Epoch 9/100\n",
            "3121/3124 [============================>.] - ETA: 0s - loss: 0.1158 - accuracy: 0.9441\n",
            "Epoch 9: accuracy improved from 0.94117 to 0.94415, saving model to /content/drive/Shareddrives/DEAP EEG/Models Saved/Valence/Train_Test_Split_MDPI/50_50_Train_Test/weights-improvement-09-0.9442.hdf5\n",
            "3124/3124 [==============================] - 31s 10ms/step - loss: 0.1158 - accuracy: 0.9442 - val_loss: 0.0768 - val_accuracy: 0.9658\n",
            "Epoch 10/100\n",
            "3118/3124 [============================>.] - ETA: 0s - loss: 0.1123 - accuracy: 0.9461\n",
            "Epoch 10: accuracy improved from 0.94415 to 0.94617, saving model to /content/drive/Shareddrives/DEAP EEG/Models Saved/Valence/Train_Test_Split_MDPI/50_50_Train_Test/weights-improvement-10-0.9462.hdf5\n",
            "3124/3124 [==============================] - 31s 10ms/step - loss: 0.1123 - accuracy: 0.9462 - val_loss: 0.0724 - val_accuracy: 0.9668\n",
            "Epoch 11/100\n",
            "3120/3124 [============================>.] - ETA: 0s - loss: 0.1068 - accuracy: 0.9486\n",
            "Epoch 11: accuracy improved from 0.94617 to 0.94864, saving model to /content/drive/Shareddrives/DEAP EEG/Models Saved/Valence/Train_Test_Split_MDPI/50_50_Train_Test/weights-improvement-11-0.9486.hdf5\n",
            "3124/3124 [==============================] - 31s 10ms/step - loss: 0.1068 - accuracy: 0.9486 - val_loss: 0.0695 - val_accuracy: 0.9689\n",
            "Epoch 12/100\n",
            "3118/3124 [============================>.] - ETA: 0s - loss: 0.1044 - accuracy: 0.9498\n",
            "Epoch 12: accuracy improved from 0.94864 to 0.94976, saving model to /content/drive/Shareddrives/DEAP EEG/Models Saved/Valence/Train_Test_Split_MDPI/50_50_Train_Test/weights-improvement-12-0.9498.hdf5\n",
            "3124/3124 [==============================] - 31s 10ms/step - loss: 0.1044 - accuracy: 0.9498 - val_loss: 0.0698 - val_accuracy: 0.9690\n",
            "Epoch 13/100\n",
            "3121/3124 [============================>.] - ETA: 0s - loss: 0.1006 - accuracy: 0.9514\n",
            "Epoch 13: accuracy improved from 0.94976 to 0.95145, saving model to /content/drive/Shareddrives/DEAP EEG/Models Saved/Valence/Train_Test_Split_MDPI/50_50_Train_Test/weights-improvement-13-0.9514.hdf5\n",
            "3124/3124 [==============================] - 32s 10ms/step - loss: 0.1006 - accuracy: 0.9514 - val_loss: 0.0651 - val_accuracy: 0.9710\n",
            "Epoch 14/100\n",
            "3121/3124 [============================>.] - ETA: 0s - loss: 0.0989 - accuracy: 0.9524\n",
            "Epoch 14: accuracy improved from 0.95145 to 0.95243, saving model to /content/drive/Shareddrives/DEAP EEG/Models Saved/Valence/Train_Test_Split_MDPI/50_50_Train_Test/weights-improvement-14-0.9524.hdf5\n",
            "3124/3124 [==============================] - 31s 10ms/step - loss: 0.0989 - accuracy: 0.9524 - val_loss: 0.0645 - val_accuracy: 0.9713\n",
            "Epoch 15/100\n",
            "3120/3124 [============================>.] - ETA: 0s - loss: 0.0965 - accuracy: 0.9540\n",
            "Epoch 15: accuracy improved from 0.95243 to 0.95396, saving model to /content/drive/Shareddrives/DEAP EEG/Models Saved/Valence/Train_Test_Split_MDPI/50_50_Train_Test/weights-improvement-15-0.9540.hdf5\n",
            "3124/3124 [==============================] - 31s 10ms/step - loss: 0.0965 - accuracy: 0.9540 - val_loss: 0.0598 - val_accuracy: 0.9745\n",
            "Epoch 16/100\n",
            "3123/3124 [============================>.] - ETA: 0s - loss: 0.0932 - accuracy: 0.9559\n",
            "Epoch 16: accuracy improved from 0.95396 to 0.95585, saving model to /content/drive/Shareddrives/DEAP EEG/Models Saved/Valence/Train_Test_Split_MDPI/50_50_Train_Test/weights-improvement-16-0.9558.hdf5\n",
            "3124/3124 [==============================] - 31s 10ms/step - loss: 0.0931 - accuracy: 0.9558 - val_loss: 0.0574 - val_accuracy: 0.9748\n",
            "Epoch 17/100\n",
            "3119/3124 [============================>.] - ETA: 0s - loss: 0.0908 - accuracy: 0.9566\n",
            "Epoch 17: accuracy improved from 0.95585 to 0.95658, saving model to /content/drive/Shareddrives/DEAP EEG/Models Saved/Valence/Train_Test_Split_MDPI/50_50_Train_Test/weights-improvement-17-0.9566.hdf5\n",
            "3124/3124 [==============================] - 31s 10ms/step - loss: 0.0908 - accuracy: 0.9566 - val_loss: 0.0593 - val_accuracy: 0.9748\n",
            "Epoch 18/100\n",
            "3120/3124 [============================>.] - ETA: 0s - loss: 0.0895 - accuracy: 0.9573\n",
            "Epoch 18: accuracy improved from 0.95658 to 0.95726, saving model to /content/drive/Shareddrives/DEAP EEG/Models Saved/Valence/Train_Test_Split_MDPI/50_50_Train_Test/weights-improvement-18-0.9573.hdf5\n",
            "3124/3124 [==============================] - 29s 9ms/step - loss: 0.0896 - accuracy: 0.9573 - val_loss: 0.0528 - val_accuracy: 0.9770\n",
            "Epoch 19/100\n",
            "3119/3124 [============================>.] - ETA: 0s - loss: 0.0886 - accuracy: 0.9581\n",
            "Epoch 19: accuracy improved from 0.95726 to 0.95808, saving model to /content/drive/Shareddrives/DEAP EEG/Models Saved/Valence/Train_Test_Split_MDPI/50_50_Train_Test/weights-improvement-19-0.9581.hdf5\n",
            "3124/3124 [==============================] - 31s 10ms/step - loss: 0.0887 - accuracy: 0.9581 - val_loss: 0.0550 - val_accuracy: 0.9762\n",
            "Epoch 20/100\n",
            "3119/3124 [============================>.] - ETA: 0s - loss: 0.0860 - accuracy: 0.9591\n",
            "Epoch 20: accuracy improved from 0.95808 to 0.95912, saving model to /content/drive/Shareddrives/DEAP EEG/Models Saved/Valence/Train_Test_Split_MDPI/50_50_Train_Test/weights-improvement-20-0.9591.hdf5\n",
            "3124/3124 [==============================] - 31s 10ms/step - loss: 0.0860 - accuracy: 0.9591 - val_loss: 0.0539 - val_accuracy: 0.9788\n",
            "Epoch 21/100\n",
            "3123/3124 [============================>.] - ETA: 0s - loss: 0.0849 - accuracy: 0.9599\n",
            "Epoch 21: accuracy improved from 0.95912 to 0.95990, saving model to /content/drive/Shareddrives/DEAP EEG/Models Saved/Valence/Train_Test_Split_MDPI/50_50_Train_Test/weights-improvement-21-0.9599.hdf5\n",
            "3124/3124 [==============================] - 31s 10ms/step - loss: 0.0849 - accuracy: 0.9599 - val_loss: 0.0482 - val_accuracy: 0.9796\n",
            "Epoch 22/100\n",
            "3119/3124 [============================>.] - ETA: 0s - loss: 0.0828 - accuracy: 0.9609\n",
            "Epoch 22: accuracy improved from 0.95990 to 0.96090, saving model to /content/drive/Shareddrives/DEAP EEG/Models Saved/Valence/Train_Test_Split_MDPI/50_50_Train_Test/weights-improvement-22-0.9609.hdf5\n",
            "3124/3124 [==============================] - 31s 10ms/step - loss: 0.0828 - accuracy: 0.9609 - val_loss: 0.0517 - val_accuracy: 0.9778\n",
            "Epoch 23/100\n",
            "3123/3124 [============================>.] - ETA: 0s - loss: 0.0819 - accuracy: 0.9614\n",
            "Epoch 23: accuracy improved from 0.96090 to 0.96141, saving model to /content/drive/Shareddrives/DEAP EEG/Models Saved/Valence/Train_Test_Split_MDPI/50_50_Train_Test/weights-improvement-23-0.9614.hdf5\n",
            "3124/3124 [==============================] - 30s 10ms/step - loss: 0.0819 - accuracy: 0.9614 - val_loss: 0.0466 - val_accuracy: 0.9804\n",
            "Epoch 24/100\n",
            "3122/3124 [============================>.] - ETA: 0s - loss: 0.0801 - accuracy: 0.9622\n",
            "Epoch 24: accuracy improved from 0.96141 to 0.96216, saving model to /content/drive/Shareddrives/DEAP EEG/Models Saved/Valence/Train_Test_Split_MDPI/50_50_Train_Test/weights-improvement-24-0.9622.hdf5\n",
            "3124/3124 [==============================] - 32s 10ms/step - loss: 0.0801 - accuracy: 0.9622 - val_loss: 0.0454 - val_accuracy: 0.9817\n",
            "Epoch 25/100\n",
            "3123/3124 [============================>.] - ETA: 0s - loss: 0.0795 - accuracy: 0.9628\n",
            "Epoch 25: accuracy improved from 0.96216 to 0.96279, saving model to /content/drive/Shareddrives/DEAP EEG/Models Saved/Valence/Train_Test_Split_MDPI/50_50_Train_Test/weights-improvement-25-0.9628.hdf5\n",
            "3124/3124 [==============================] - 30s 10ms/step - loss: 0.0795 - accuracy: 0.9628 - val_loss: 0.0503 - val_accuracy: 0.9796\n",
            "Epoch 26/100\n",
            "3118/3124 [============================>.] - ETA: 0s - loss: 0.0782 - accuracy: 0.9634\n",
            "Epoch 26: accuracy improved from 0.96279 to 0.96342, saving model to /content/drive/Shareddrives/DEAP EEG/Models Saved/Valence/Train_Test_Split_MDPI/50_50_Train_Test/weights-improvement-26-0.9634.hdf5\n",
            "3124/3124 [==============================] - 42s 13ms/step - loss: 0.0782 - accuracy: 0.9634 - val_loss: 0.0453 - val_accuracy: 0.9820\n",
            "Epoch 27/100\n",
            "3121/3124 [============================>.] - ETA: 0s - loss: 0.0764 - accuracy: 0.9642\n",
            "Epoch 27: accuracy improved from 0.96342 to 0.96421, saving model to /content/drive/Shareddrives/DEAP EEG/Models Saved/Valence/Train_Test_Split_MDPI/50_50_Train_Test/weights-improvement-27-0.9642.hdf5\n",
            "3124/3124 [==============================] - 32s 10ms/step - loss: 0.0764 - accuracy: 0.9642 - val_loss: 0.0436 - val_accuracy: 0.9822\n",
            "Epoch 28/100\n",
            "3121/3124 [============================>.] - ETA: 0s - loss: 0.0759 - accuracy: 0.9647\n",
            "Epoch 28: accuracy improved from 0.96421 to 0.96472, saving model to /content/drive/Shareddrives/DEAP EEG/Models Saved/Valence/Train_Test_Split_MDPI/50_50_Train_Test/weights-improvement-28-0.9647.hdf5\n",
            "3124/3124 [==============================] - 32s 10ms/step - loss: 0.0759 - accuracy: 0.9647 - val_loss: 0.0463 - val_accuracy: 0.9814\n",
            "Epoch 29/100\n",
            "3121/3124 [============================>.] - ETA: 0s - loss: 0.0757 - accuracy: 0.9648\n",
            "Epoch 29: accuracy improved from 0.96472 to 0.96478, saving model to /content/drive/Shareddrives/DEAP EEG/Models Saved/Valence/Train_Test_Split_MDPI/50_50_Train_Test/weights-improvement-29-0.9648.hdf5\n",
            "3124/3124 [==============================] - 29s 9ms/step - loss: 0.0757 - accuracy: 0.9648 - val_loss: 0.0429 - val_accuracy: 0.9830\n",
            "Epoch 30/100\n",
            "3123/3124 [============================>.] - ETA: 0s - loss: 0.0741 - accuracy: 0.9653\n",
            "Epoch 30: accuracy improved from 0.96478 to 0.96526, saving model to /content/drive/Shareddrives/DEAP EEG/Models Saved/Valence/Train_Test_Split_MDPI/50_50_Train_Test/weights-improvement-30-0.9653.hdf5\n",
            "3124/3124 [==============================] - 29s 9ms/step - loss: 0.0741 - accuracy: 0.9653 - val_loss: 0.0401 - val_accuracy: 0.9848\n",
            "Epoch 31/100\n",
            "3118/3124 [============================>.] - ETA: 0s - loss: 0.0738 - accuracy: 0.9658\n",
            "Epoch 31: accuracy improved from 0.96526 to 0.96579, saving model to /content/drive/Shareddrives/DEAP EEG/Models Saved/Valence/Train_Test_Split_MDPI/50_50_Train_Test/weights-improvement-31-0.9658.hdf5\n",
            "3124/3124 [==============================] - 30s 10ms/step - loss: 0.0738 - accuracy: 0.9658 - val_loss: 0.0411 - val_accuracy: 0.9838\n",
            "Epoch 32/100\n",
            "3117/3124 [============================>.] - ETA: 0s - loss: 0.0725 - accuracy: 0.9659\n",
            "Epoch 32: accuracy improved from 0.96579 to 0.96585, saving model to /content/drive/Shareddrives/DEAP EEG/Models Saved/Valence/Train_Test_Split_MDPI/50_50_Train_Test/weights-improvement-32-0.9658.hdf5\n",
            "3124/3124 [==============================] - 31s 10ms/step - loss: 0.0726 - accuracy: 0.9658 - val_loss: 0.0391 - val_accuracy: 0.9851\n",
            "Epoch 33/100\n",
            "3122/3124 [============================>.] - ETA: 0s - loss: 0.0723 - accuracy: 0.9666\n",
            "Epoch 33: accuracy improved from 0.96585 to 0.96656, saving model to /content/drive/Shareddrives/DEAP EEG/Models Saved/Valence/Train_Test_Split_MDPI/50_50_Train_Test/weights-improvement-33-0.9666.hdf5\n",
            "3124/3124 [==============================] - 31s 10ms/step - loss: 0.0723 - accuracy: 0.9666 - val_loss: 0.0429 - val_accuracy: 0.9828\n",
            "Epoch 34/100\n",
            "3120/3124 [============================>.] - ETA: 0s - loss: 0.0702 - accuracy: 0.9676\n",
            "Epoch 34: accuracy improved from 0.96656 to 0.96758, saving model to /content/drive/Shareddrives/DEAP EEG/Models Saved/Valence/Train_Test_Split_MDPI/50_50_Train_Test/weights-improvement-34-0.9676.hdf5\n",
            "3124/3124 [==============================] - 31s 10ms/step - loss: 0.0702 - accuracy: 0.9676 - val_loss: 0.0396 - val_accuracy: 0.9840\n",
            "Epoch 35/100\n",
            "3123/3124 [============================>.] - ETA: 0s - loss: 0.0708 - accuracy: 0.9673\n",
            "Epoch 35: accuracy did not improve from 0.96758\n",
            "3124/3124 [==============================] - 32s 10ms/step - loss: 0.0708 - accuracy: 0.9673 - val_loss: 0.0381 - val_accuracy: 0.9848\n",
            "Epoch 36/100\n",
            "3120/3124 [============================>.] - ETA: 0s - loss: 0.0703 - accuracy: 0.9675\n",
            "Epoch 36: accuracy did not improve from 0.96758\n",
            "3124/3124 [==============================] - 31s 10ms/step - loss: 0.0703 - accuracy: 0.9675 - val_loss: 0.0384 - val_accuracy: 0.9851\n",
            "Epoch 37/100\n",
            "3122/3124 [============================>.] - ETA: 0s - loss: 0.0699 - accuracy: 0.9675\n",
            "Epoch 37: accuracy did not improve from 0.96758\n",
            "3124/3124 [==============================] - 29s 9ms/step - loss: 0.0699 - accuracy: 0.9675 - val_loss: 0.0382 - val_accuracy: 0.9855\n",
            "Epoch 38/100\n",
            "3118/3124 [============================>.] - ETA: 0s - loss: 0.0688 - accuracy: 0.9684\n",
            "Epoch 38: accuracy improved from 0.96758 to 0.96838, saving model to /content/drive/Shareddrives/DEAP EEG/Models Saved/Valence/Train_Test_Split_MDPI/50_50_Train_Test/weights-improvement-38-0.9684.hdf5\n",
            "3124/3124 [==============================] - 29s 9ms/step - loss: 0.0688 - accuracy: 0.9684 - val_loss: 0.0356 - val_accuracy: 0.9859\n",
            "Epoch 39/100\n",
            "3118/3124 [============================>.] - ETA: 0s - loss: 0.0676 - accuracy: 0.9686\n",
            "Epoch 39: accuracy improved from 0.96838 to 0.96859, saving model to /content/drive/Shareddrives/DEAP EEG/Models Saved/Valence/Train_Test_Split_MDPI/50_50_Train_Test/weights-improvement-39-0.9686.hdf5\n",
            "3124/3124 [==============================] - 30s 9ms/step - loss: 0.0676 - accuracy: 0.9686 - val_loss: 0.0366 - val_accuracy: 0.9864\n",
            "Epoch 40/100\n",
            "3121/3124 [============================>.] - ETA: 0s - loss: 0.0672 - accuracy: 0.9690\n",
            "Epoch 40: accuracy improved from 0.96859 to 0.96899, saving model to /content/drive/Shareddrives/DEAP EEG/Models Saved/Valence/Train_Test_Split_MDPI/50_50_Train_Test/weights-improvement-40-0.9690.hdf5\n",
            "3124/3124 [==============================] - 33s 10ms/step - loss: 0.0672 - accuracy: 0.9690 - val_loss: 0.0370 - val_accuracy: 0.9857\n",
            "Epoch 41/100\n",
            "3123/3124 [============================>.] - ETA: 0s - loss: 0.0672 - accuracy: 0.9692\n",
            "Epoch 41: accuracy improved from 0.96899 to 0.96921, saving model to /content/drive/Shareddrives/DEAP EEG/Models Saved/Valence/Train_Test_Split_MDPI/50_50_Train_Test/weights-improvement-41-0.9692.hdf5\n",
            "3124/3124 [==============================] - 30s 10ms/step - loss: 0.0672 - accuracy: 0.9692 - val_loss: 0.0343 - val_accuracy: 0.9865\n",
            "Epoch 42/100\n",
            "3124/3124 [==============================] - ETA: 0s - loss: 0.0654 - accuracy: 0.9699\n",
            "Epoch 42: accuracy improved from 0.96921 to 0.96986, saving model to /content/drive/Shareddrives/DEAP EEG/Models Saved/Valence/Train_Test_Split_MDPI/50_50_Train_Test/weights-improvement-42-0.9699.hdf5\n",
            "3124/3124 [==============================] - 31s 10ms/step - loss: 0.0654 - accuracy: 0.9699 - val_loss: 0.0377 - val_accuracy: 0.9861\n",
            "Epoch 43/100\n",
            "3122/3124 [============================>.] - ETA: 0s - loss: 0.0652 - accuracy: 0.9701\n",
            "Epoch 43: accuracy improved from 0.96986 to 0.97014, saving model to /content/drive/Shareddrives/DEAP EEG/Models Saved/Valence/Train_Test_Split_MDPI/50_50_Train_Test/weights-improvement-43-0.9701.hdf5\n",
            "3124/3124 [==============================] - 31s 10ms/step - loss: 0.0652 - accuracy: 0.9701 - val_loss: 0.0366 - val_accuracy: 0.9859\n",
            "Epoch 44/100\n",
            "3122/3124 [============================>.] - ETA: 0s - loss: 0.0652 - accuracy: 0.9700\n",
            "Epoch 44: accuracy did not improve from 0.97014\n",
            "3124/3124 [==============================] - 32s 10ms/step - loss: 0.0652 - accuracy: 0.9700 - val_loss: 0.0330 - val_accuracy: 0.9884\n",
            "Epoch 45/100\n",
            "3123/3124 [============================>.] - ETA: 0s - loss: 0.0637 - accuracy: 0.9706\n",
            "Epoch 45: accuracy improved from 0.97014 to 0.97063, saving model to /content/drive/Shareddrives/DEAP EEG/Models Saved/Valence/Train_Test_Split_MDPI/50_50_Train_Test/weights-improvement-45-0.9706.hdf5\n",
            "3124/3124 [==============================] - 30s 10ms/step - loss: 0.0637 - accuracy: 0.9706 - val_loss: 0.0331 - val_accuracy: 0.9882\n",
            "Epoch 46/100\n",
            "3121/3124 [============================>.] - ETA: 0s - loss: 0.0633 - accuracy: 0.9709\n",
            "Epoch 46: accuracy improved from 0.97063 to 0.97094, saving model to /content/drive/Shareddrives/DEAP EEG/Models Saved/Valence/Train_Test_Split_MDPI/50_50_Train_Test/weights-improvement-46-0.9709.hdf5\n",
            "3124/3124 [==============================] - 32s 10ms/step - loss: 0.0633 - accuracy: 0.9709 - val_loss: 0.0334 - val_accuracy: 0.9871\n",
            "Epoch 47/100\n",
            "3124/3124 [==============================] - ETA: 0s - loss: 0.0631 - accuracy: 0.9714\n",
            "Epoch 47: accuracy improved from 0.97094 to 0.97142, saving model to /content/drive/Shareddrives/DEAP EEG/Models Saved/Valence/Train_Test_Split_MDPI/50_50_Train_Test/weights-improvement-47-0.9714.hdf5\n",
            "3124/3124 [==============================] - 31s 10ms/step - loss: 0.0631 - accuracy: 0.9714 - val_loss: 0.0322 - val_accuracy: 0.9884\n",
            "Epoch 48/100\n",
            "3123/3124 [============================>.] - ETA: 0s - loss: 0.0632 - accuracy: 0.9712\n",
            "Epoch 48: accuracy did not improve from 0.97142\n",
            "3124/3124 [==============================] - 31s 10ms/step - loss: 0.0632 - accuracy: 0.9712 - val_loss: 0.0336 - val_accuracy: 0.9876\n",
            "Epoch 49/100\n",
            "3117/3124 [============================>.] - ETA: 0s - loss: 0.0613 - accuracy: 0.9720\n",
            "Epoch 49: accuracy improved from 0.97142 to 0.97200, saving model to /content/drive/Shareddrives/DEAP EEG/Models Saved/Valence/Train_Test_Split_MDPI/50_50_Train_Test/weights-improvement-49-0.9720.hdf5\n",
            "3124/3124 [==============================] - 32s 10ms/step - loss: 0.0613 - accuracy: 0.9720 - val_loss: 0.0317 - val_accuracy: 0.9883\n",
            "Epoch 50/100\n",
            "3122/3124 [============================>.] - ETA: 0s - loss: 0.0622 - accuracy: 0.9716\n",
            "Epoch 50: accuracy did not improve from 0.97200\n",
            "3124/3124 [==============================] - 31s 10ms/step - loss: 0.0622 - accuracy: 0.9716 - val_loss: 0.0307 - val_accuracy: 0.9886\n",
            "Epoch 51/100\n",
            "3124/3124 [==============================] - ETA: 0s - loss: 0.0621 - accuracy: 0.9721\n",
            "Epoch 51: accuracy improved from 0.97200 to 0.97206, saving model to /content/drive/Shareddrives/DEAP EEG/Models Saved/Valence/Train_Test_Split_MDPI/50_50_Train_Test/weights-improvement-51-0.9721.hdf5\n",
            "3124/3124 [==============================] - 31s 10ms/step - loss: 0.0621 - accuracy: 0.9721 - val_loss: 0.0327 - val_accuracy: 0.9881\n",
            "Epoch 52/100\n",
            "3123/3124 [============================>.] - ETA: 0s - loss: 0.0612 - accuracy: 0.9722\n",
            "Epoch 52: accuracy improved from 0.97206 to 0.97221, saving model to /content/drive/Shareddrives/DEAP EEG/Models Saved/Valence/Train_Test_Split_MDPI/50_50_Train_Test/weights-improvement-52-0.9722.hdf5\n",
            "3124/3124 [==============================] - 30s 9ms/step - loss: 0.0612 - accuracy: 0.9722 - val_loss: 0.0334 - val_accuracy: 0.9883\n",
            "Epoch 53/100\n",
            "3118/3124 [============================>.] - ETA: 0s - loss: 0.0607 - accuracy: 0.9723\n",
            "Epoch 53: accuracy improved from 0.97221 to 0.97229, saving model to /content/drive/Shareddrives/DEAP EEG/Models Saved/Valence/Train_Test_Split_MDPI/50_50_Train_Test/weights-improvement-53-0.9723.hdf5\n",
            "3124/3124 [==============================] - 31s 10ms/step - loss: 0.0607 - accuracy: 0.9723 - val_loss: 0.0316 - val_accuracy: 0.9888\n",
            "Epoch 54/100\n",
            "3120/3124 [============================>.] - ETA: 0s - loss: 0.0604 - accuracy: 0.9724\n",
            "Epoch 54: accuracy improved from 0.97229 to 0.97241, saving model to /content/drive/Shareddrives/DEAP EEG/Models Saved/Valence/Train_Test_Split_MDPI/50_50_Train_Test/weights-improvement-54-0.9724.hdf5\n",
            "3124/3124 [==============================] - 31s 10ms/step - loss: 0.0604 - accuracy: 0.9724 - val_loss: 0.0324 - val_accuracy: 0.9889\n",
            "Epoch 55/100\n",
            "3119/3124 [============================>.] - ETA: 0s - loss: 0.0605 - accuracy: 0.9724\n",
            "Epoch 55: accuracy improved from 0.97241 to 0.97242, saving model to /content/drive/Shareddrives/DEAP EEG/Models Saved/Valence/Train_Test_Split_MDPI/50_50_Train_Test/weights-improvement-55-0.9724.hdf5\n",
            "3124/3124 [==============================] - 31s 10ms/step - loss: 0.0605 - accuracy: 0.9724 - val_loss: 0.0325 - val_accuracy: 0.9882\n",
            "Epoch 56/100\n",
            "3123/3124 [============================>.] - ETA: 0s - loss: 0.0595 - accuracy: 0.9732\n",
            "Epoch 56: accuracy improved from 0.97242 to 0.97319, saving model to /content/drive/Shareddrives/DEAP EEG/Models Saved/Valence/Train_Test_Split_MDPI/50_50_Train_Test/weights-improvement-56-0.9732.hdf5\n",
            "3124/3124 [==============================] - 30s 10ms/step - loss: 0.0595 - accuracy: 0.9732 - val_loss: 0.0331 - val_accuracy: 0.9886\n",
            "Epoch 57/100\n",
            "3120/3124 [============================>.] - ETA: 0s - loss: 0.0587 - accuracy: 0.9734\n",
            "Epoch 57: accuracy improved from 0.97319 to 0.97336, saving model to /content/drive/Shareddrives/DEAP EEG/Models Saved/Valence/Train_Test_Split_MDPI/50_50_Train_Test/weights-improvement-57-0.9734.hdf5\n",
            "3124/3124 [==============================] - 30s 10ms/step - loss: 0.0587 - accuracy: 0.9734 - val_loss: 0.0321 - val_accuracy: 0.9884\n",
            "Epoch 58/100\n",
            "3119/3124 [============================>.] - ETA: 0s - loss: 0.0592 - accuracy: 0.9732\n",
            "Epoch 58: accuracy did not improve from 0.97336\n",
            "3124/3124 [==============================] - 31s 10ms/step - loss: 0.0592 - accuracy: 0.9731 - val_loss: 0.0300 - val_accuracy: 0.9891\n",
            "Epoch 59/100\n",
            "3118/3124 [============================>.] - ETA: 0s - loss: 0.0596 - accuracy: 0.9732\n",
            "Epoch 59: accuracy did not improve from 0.97336\n",
            "3124/3124 [==============================] - 31s 10ms/step - loss: 0.0596 - accuracy: 0.9732 - val_loss: 0.0329 - val_accuracy: 0.9874\n",
            "Epoch 60/100\n",
            "3119/3124 [============================>.] - ETA: 0s - loss: 0.0583 - accuracy: 0.9737\n",
            "Epoch 60: accuracy improved from 0.97336 to 0.97364, saving model to /content/drive/Shareddrives/DEAP EEG/Models Saved/Valence/Train_Test_Split_MDPI/50_50_Train_Test/weights-improvement-60-0.9736.hdf5\n",
            "3124/3124 [==============================] - 30s 10ms/step - loss: 0.0583 - accuracy: 0.9736 - val_loss: 0.0290 - val_accuracy: 0.9898\n",
            "Epoch 61/100\n",
            "3118/3124 [============================>.] - ETA: 0s - loss: 0.0577 - accuracy: 0.9739\n",
            "Epoch 61: accuracy improved from 0.97364 to 0.97386, saving model to /content/drive/Shareddrives/DEAP EEG/Models Saved/Valence/Train_Test_Split_MDPI/50_50_Train_Test/weights-improvement-61-0.9739.hdf5\n",
            "3124/3124 [==============================] - 30s 10ms/step - loss: 0.0577 - accuracy: 0.9739 - val_loss: 0.0294 - val_accuracy: 0.9886\n",
            "Epoch 62/100\n",
            "3123/3124 [============================>.] - ETA: 0s - loss: 0.0580 - accuracy: 0.9736\n",
            "Epoch 62: accuracy did not improve from 0.97386\n",
            "3124/3124 [==============================] - 31s 10ms/step - loss: 0.0580 - accuracy: 0.9736 - val_loss: 0.0299 - val_accuracy: 0.9897\n",
            "Epoch 63/100\n",
            "3121/3124 [============================>.] - ETA: 0s - loss: 0.0575 - accuracy: 0.9739\n",
            "Epoch 63: accuracy improved from 0.97386 to 0.97392, saving model to /content/drive/Shareddrives/DEAP EEG/Models Saved/Valence/Train_Test_Split_MDPI/50_50_Train_Test/weights-improvement-63-0.9739.hdf5\n",
            "3124/3124 [==============================] - 30s 10ms/step - loss: 0.0575 - accuracy: 0.9739 - val_loss: 0.0287 - val_accuracy: 0.9896\n",
            "Epoch 64/100\n",
            "3120/3124 [============================>.] - ETA: 0s - loss: 0.0561 - accuracy: 0.9745\n",
            "Epoch 64: accuracy improved from 0.97392 to 0.97453, saving model to /content/drive/Shareddrives/DEAP EEG/Models Saved/Valence/Train_Test_Split_MDPI/50_50_Train_Test/weights-improvement-64-0.9745.hdf5\n",
            "3124/3124 [==============================] - 30s 10ms/step - loss: 0.0561 - accuracy: 0.9745 - val_loss: 0.0282 - val_accuracy: 0.9895\n",
            "Epoch 65/100\n",
            "3124/3124 [==============================] - ETA: 0s - loss: 0.0573 - accuracy: 0.9743\n",
            "Epoch 65: accuracy did not improve from 0.97453\n",
            "3124/3124 [==============================] - 30s 10ms/step - loss: 0.0573 - accuracy: 0.9743 - val_loss: 0.0282 - val_accuracy: 0.9897\n",
            "Epoch 66/100\n",
            "3121/3124 [============================>.] - ETA: 0s - loss: 0.0564 - accuracy: 0.9746\n",
            "Epoch 66: accuracy improved from 0.97453 to 0.97458, saving model to /content/drive/Shareddrives/DEAP EEG/Models Saved/Valence/Train_Test_Split_MDPI/50_50_Train_Test/weights-improvement-66-0.9746.hdf5\n",
            "3124/3124 [==============================] - 32s 10ms/step - loss: 0.0564 - accuracy: 0.9746 - val_loss: 0.0294 - val_accuracy: 0.9895\n",
            "Epoch 67/100\n",
            "3123/3124 [============================>.] - ETA: 0s - loss: 0.0566 - accuracy: 0.9747\n",
            "Epoch 67: accuracy improved from 0.97458 to 0.97471, saving model to /content/drive/Shareddrives/DEAP EEG/Models Saved/Valence/Train_Test_Split_MDPI/50_50_Train_Test/weights-improvement-67-0.9747.hdf5\n",
            "3124/3124 [==============================] - 31s 10ms/step - loss: 0.0566 - accuracy: 0.9747 - val_loss: 0.0318 - val_accuracy: 0.9882\n",
            "Epoch 68/100\n",
            "3117/3124 [============================>.] - ETA: 0s - loss: 0.0552 - accuracy: 0.9752\n",
            "Epoch 68: accuracy improved from 0.97471 to 0.97524, saving model to /content/drive/Shareddrives/DEAP EEG/Models Saved/Valence/Train_Test_Split_MDPI/50_50_Train_Test/weights-improvement-68-0.9752.hdf5\n",
            "3124/3124 [==============================] - 31s 10ms/step - loss: 0.0552 - accuracy: 0.9752 - val_loss: 0.0285 - val_accuracy: 0.9896\n",
            "Epoch 69/100\n",
            "3122/3124 [============================>.] - ETA: 0s - loss: 0.0561 - accuracy: 0.9746\n",
            "Epoch 69: accuracy did not improve from 0.97524\n",
            "3124/3124 [==============================] - 32s 10ms/step - loss: 0.0561 - accuracy: 0.9746 - val_loss: 0.0278 - val_accuracy: 0.9904\n",
            "Epoch 70/100\n",
            "3118/3124 [============================>.] - ETA: 0s - loss: 0.0562 - accuracy: 0.9746\n",
            "Epoch 70: accuracy did not improve from 0.97524\n",
            "3124/3124 [==============================] - 30s 10ms/step - loss: 0.0562 - accuracy: 0.9746 - val_loss: 0.0296 - val_accuracy: 0.9897\n",
            "Epoch 71/100\n",
            "3117/3124 [============================>.] - ETA: 0s - loss: 0.0556 - accuracy: 0.9747\n",
            "Epoch 71: accuracy did not improve from 0.97524\n",
            "3124/3124 [==============================] - 32s 10ms/step - loss: 0.0557 - accuracy: 0.9747 - val_loss: 0.0283 - val_accuracy: 0.9902\n",
            "Epoch 72/100\n",
            "3119/3124 [============================>.] - ETA: 0s - loss: 0.0557 - accuracy: 0.9747\n",
            "Epoch 72: accuracy did not improve from 0.97524\n",
            "3124/3124 [==============================] - 31s 10ms/step - loss: 0.0558 - accuracy: 0.9747 - val_loss: 0.0283 - val_accuracy: 0.9896\n",
            "Epoch 73/100\n",
            "3120/3124 [============================>.] - ETA: 0s - loss: 0.0547 - accuracy: 0.9756\n",
            "Epoch 73: accuracy improved from 0.97524 to 0.97559, saving model to /content/drive/Shareddrives/DEAP EEG/Models Saved/Valence/Train_Test_Split_MDPI/50_50_Train_Test/weights-improvement-73-0.9756.hdf5\n",
            "3124/3124 [==============================] - 30s 10ms/step - loss: 0.0547 - accuracy: 0.9756 - val_loss: 0.0276 - val_accuracy: 0.9902\n",
            "Epoch 74/100\n",
            "3122/3124 [============================>.] - ETA: 0s - loss: 0.0554 - accuracy: 0.9755\n",
            "Epoch 74: accuracy did not improve from 0.97559\n",
            "3124/3124 [==============================] - 30s 10ms/step - loss: 0.0554 - accuracy: 0.9755 - val_loss: 0.0273 - val_accuracy: 0.9900\n",
            "Epoch 75/100\n",
            "3124/3124 [==============================] - ETA: 0s - loss: 0.0549 - accuracy: 0.9752\n",
            "Epoch 75: accuracy did not improve from 0.97559\n",
            "3124/3124 [==============================] - 30s 10ms/step - loss: 0.0549 - accuracy: 0.9752 - val_loss: 0.0278 - val_accuracy: 0.9900\n",
            "Epoch 76/100\n",
            "3119/3124 [============================>.] - ETA: 0s - loss: 0.0555 - accuracy: 0.9754\n",
            "Epoch 76: accuracy did not improve from 0.97559\n",
            "3124/3124 [==============================] - 33s 11ms/step - loss: 0.0555 - accuracy: 0.9754 - val_loss: 0.0287 - val_accuracy: 0.9901\n",
            "Epoch 77/100\n",
            "3121/3124 [============================>.] - ETA: 0s - loss: 0.0538 - accuracy: 0.9758\n",
            "Epoch 77: accuracy improved from 0.97559 to 0.97577, saving model to /content/drive/Shareddrives/DEAP EEG/Models Saved/Valence/Train_Test_Split_MDPI/50_50_Train_Test/weights-improvement-77-0.9758.hdf5\n",
            "3124/3124 [==============================] - 30s 10ms/step - loss: 0.0538 - accuracy: 0.9758 - val_loss: 0.0273 - val_accuracy: 0.9901\n",
            "Epoch 78/100\n",
            "3118/3124 [============================>.] - ETA: 0s - loss: 0.0536 - accuracy: 0.9764\n",
            "Epoch 78: accuracy improved from 0.97577 to 0.97638, saving model to /content/drive/Shareddrives/DEAP EEG/Models Saved/Valence/Train_Test_Split_MDPI/50_50_Train_Test/weights-improvement-78-0.9764.hdf5\n",
            "3124/3124 [==============================] - 32s 10ms/step - loss: 0.0536 - accuracy: 0.9764 - val_loss: 0.0259 - val_accuracy: 0.9904\n",
            "Epoch 79/100\n",
            "3118/3124 [============================>.] - ETA: 0s - loss: 0.0537 - accuracy: 0.9759\n",
            "Epoch 79: accuracy did not improve from 0.97638\n",
            "3124/3124 [==============================] - 30s 10ms/step - loss: 0.0537 - accuracy: 0.9759 - val_loss: 0.0271 - val_accuracy: 0.9904\n",
            "Epoch 80/100\n",
            "3122/3124 [============================>.] - ETA: 0s - loss: 0.0529 - accuracy: 0.9763\n",
            "Epoch 80: accuracy did not improve from 0.97638\n",
            "3124/3124 [==============================] - 31s 10ms/step - loss: 0.0529 - accuracy: 0.9763 - val_loss: 0.0265 - val_accuracy: 0.9908\n",
            "Epoch 81/100\n",
            "3123/3124 [============================>.] - ETA: 0s - loss: 0.0532 - accuracy: 0.9764\n",
            "Epoch 81: accuracy did not improve from 0.97638\n",
            "3124/3124 [==============================] - 32s 10ms/step - loss: 0.0532 - accuracy: 0.9764 - val_loss: 0.0264 - val_accuracy: 0.9906\n",
            "Epoch 82/100\n",
            "3122/3124 [============================>.] - ETA: 0s - loss: 0.0530 - accuracy: 0.9761\n",
            "Epoch 82: accuracy did not improve from 0.97638\n",
            "3124/3124 [==============================] - 32s 10ms/step - loss: 0.0530 - accuracy: 0.9761 - val_loss: 0.0256 - val_accuracy: 0.9907\n",
            "Epoch 83/100\n",
            "3124/3124 [==============================] - ETA: 0s - loss: 0.0527 - accuracy: 0.9764\n",
            "Epoch 83: accuracy improved from 0.97638 to 0.97642, saving model to /content/drive/Shareddrives/DEAP EEG/Models Saved/Valence/Train_Test_Split_MDPI/50_50_Train_Test/weights-improvement-83-0.9764.hdf5\n",
            "3124/3124 [==============================] - 32s 10ms/step - loss: 0.0527 - accuracy: 0.9764 - val_loss: 0.0269 - val_accuracy: 0.9907\n",
            "Epoch 84/100\n",
            "3123/3124 [============================>.] - ETA: 0s - loss: 0.0525 - accuracy: 0.9765\n",
            "Epoch 84: accuracy improved from 0.97642 to 0.97650, saving model to /content/drive/Shareddrives/DEAP EEG/Models Saved/Valence/Train_Test_Split_MDPI/50_50_Train_Test/weights-improvement-84-0.9765.hdf5\n",
            "3124/3124 [==============================] - 31s 10ms/step - loss: 0.0525 - accuracy: 0.9765 - val_loss: 0.0286 - val_accuracy: 0.9904\n",
            "Epoch 85/100\n",
            "3122/3124 [============================>.] - ETA: 0s - loss: 0.0526 - accuracy: 0.9764\n",
            "Epoch 85: accuracy did not improve from 0.97650\n",
            "3124/3124 [==============================] - 32s 10ms/step - loss: 0.0526 - accuracy: 0.9764 - val_loss: 0.0293 - val_accuracy: 0.9897\n",
            "Epoch 86/100\n",
            "3119/3124 [============================>.] - ETA: 0s - loss: 0.0516 - accuracy: 0.9769\n",
            "Epoch 86: accuracy improved from 0.97650 to 0.97694, saving model to /content/drive/Shareddrives/DEAP EEG/Models Saved/Valence/Train_Test_Split_MDPI/50_50_Train_Test/weights-improvement-86-0.9769.hdf5\n",
            "3124/3124 [==============================] - 32s 10ms/step - loss: 0.0516 - accuracy: 0.9769 - val_loss: 0.0258 - val_accuracy: 0.9906\n",
            "Epoch 87/100\n",
            "3118/3124 [============================>.] - ETA: 0s - loss: 0.0525 - accuracy: 0.9763\n",
            "Epoch 87: accuracy did not improve from 0.97694\n",
            "3124/3124 [==============================] - 32s 10ms/step - loss: 0.0525 - accuracy: 0.9762 - val_loss: 0.0277 - val_accuracy: 0.9907\n",
            "Epoch 88/100\n",
            "3123/3124 [============================>.] - ETA: 0s - loss: 0.0517 - accuracy: 0.9767\n",
            "Epoch 88: accuracy did not improve from 0.97694\n",
            "3124/3124 [==============================] - 31s 10ms/step - loss: 0.0517 - accuracy: 0.9767 - val_loss: 0.0261 - val_accuracy: 0.9911\n",
            "Epoch 89/100\n",
            "3122/3124 [============================>.] - ETA: 0s - loss: 0.0518 - accuracy: 0.9767\n",
            "Epoch 89: accuracy did not improve from 0.97694\n",
            "3124/3124 [==============================] - 32s 10ms/step - loss: 0.0518 - accuracy: 0.9767 - val_loss: 0.0250 - val_accuracy: 0.9909\n",
            "Epoch 90/100\n",
            "3121/3124 [============================>.] - ETA: 0s - loss: 0.0513 - accuracy: 0.9771\n",
            "Epoch 90: accuracy improved from 0.97694 to 0.97707, saving model to /content/drive/Shareddrives/DEAP EEG/Models Saved/Valence/Train_Test_Split_MDPI/50_50_Train_Test/weights-improvement-90-0.9771.hdf5\n",
            "3124/3124 [==============================] - 30s 10ms/step - loss: 0.0513 - accuracy: 0.9771 - val_loss: 0.0255 - val_accuracy: 0.9910\n",
            "Epoch 91/100\n",
            "3119/3124 [============================>.] - ETA: 0s - loss: 0.0518 - accuracy: 0.9768\n",
            "Epoch 91: accuracy did not improve from 0.97707\n",
            "3124/3124 [==============================] - 32s 10ms/step - loss: 0.0518 - accuracy: 0.9768 - val_loss: 0.0262 - val_accuracy: 0.9912\n",
            "Epoch 92/100\n",
            "3124/3124 [==============================] - ETA: 0s - loss: 0.0513 - accuracy: 0.9770\n",
            "Epoch 92: accuracy did not improve from 0.97707\n",
            "3124/3124 [==============================] - 30s 10ms/step - loss: 0.0513 - accuracy: 0.9770 - val_loss: 0.0256 - val_accuracy: 0.9914\n",
            "Epoch 93/100\n",
            "3124/3124 [==============================] - ETA: 0s - loss: 0.0514 - accuracy: 0.9772\n",
            "Epoch 93: accuracy improved from 0.97707 to 0.97723, saving model to /content/drive/Shareddrives/DEAP EEG/Models Saved/Valence/Train_Test_Split_MDPI/50_50_Train_Test/weights-improvement-93-0.9772.hdf5\n",
            "3124/3124 [==============================] - 32s 10ms/step - loss: 0.0514 - accuracy: 0.9772 - val_loss: 0.0262 - val_accuracy: 0.9910\n",
            "Epoch 94/100\n",
            "3119/3124 [============================>.] - ETA: 0s - loss: 0.0510 - accuracy: 0.9771\n",
            "Epoch 94: accuracy did not improve from 0.97723\n",
            "3124/3124 [==============================] - 34s 11ms/step - loss: 0.0510 - accuracy: 0.9771 - val_loss: 0.0257 - val_accuracy: 0.9909\n",
            "Epoch 95/100\n",
            "3121/3124 [============================>.] - ETA: 0s - loss: 0.0505 - accuracy: 0.9775\n",
            "Epoch 95: accuracy improved from 0.97723 to 0.97754, saving model to /content/drive/Shareddrives/DEAP EEG/Models Saved/Valence/Train_Test_Split_MDPI/50_50_Train_Test/weights-improvement-95-0.9775.hdf5\n",
            "3124/3124 [==============================] - 32s 10ms/step - loss: 0.0505 - accuracy: 0.9775 - val_loss: 0.0245 - val_accuracy: 0.9914\n",
            "Epoch 96/100\n",
            "3123/3124 [============================>.] - ETA: 0s - loss: 0.0513 - accuracy: 0.9767\n",
            "Epoch 96: accuracy did not improve from 0.97754\n",
            "3124/3124 [==============================] - 30s 10ms/step - loss: 0.0513 - accuracy: 0.9767 - val_loss: 0.0235 - val_accuracy: 0.9916\n",
            "Epoch 97/100\n",
            "3124/3124 [==============================] - ETA: 0s - loss: 0.0503 - accuracy: 0.9773\n",
            "Epoch 97: accuracy did not improve from 0.97754\n",
            "3124/3124 [==============================] - 32s 10ms/step - loss: 0.0503 - accuracy: 0.9773 - val_loss: 0.0243 - val_accuracy: 0.9920\n",
            "Epoch 98/100\n",
            "3120/3124 [============================>.] - ETA: 0s - loss: 0.0505 - accuracy: 0.9776\n",
            "Epoch 98: accuracy improved from 0.97754 to 0.97766, saving model to /content/drive/Shareddrives/DEAP EEG/Models Saved/Valence/Train_Test_Split_MDPI/50_50_Train_Test/weights-improvement-98-0.9777.hdf5\n",
            "3124/3124 [==============================] - 32s 10ms/step - loss: 0.0505 - accuracy: 0.9777 - val_loss: 0.0255 - val_accuracy: 0.9912\n",
            "Epoch 99/100\n",
            "3122/3124 [============================>.] - ETA: 0s - loss: 0.0504 - accuracy: 0.9777\n",
            "Epoch 99: accuracy improved from 0.97766 to 0.97771, saving model to /content/drive/Shareddrives/DEAP EEG/Models Saved/Valence/Train_Test_Split_MDPI/50_50_Train_Test/weights-improvement-99-0.9777.hdf5\n",
            "3124/3124 [==============================] - 32s 10ms/step - loss: 0.0504 - accuracy: 0.9777 - val_loss: 0.0251 - val_accuracy: 0.9914\n",
            "Epoch 100/100\n",
            "3121/3124 [============================>.] - ETA: 0s - loss: 0.0496 - accuracy: 0.9776\n",
            "Epoch 100: accuracy did not improve from 0.97771\n",
            "3124/3124 [==============================] - 33s 10ms/step - loss: 0.0496 - accuracy: 0.9776 - val_loss: 0.0232 - val_accuracy: 0.9920\n",
            "CPU times: user 54min 40s, sys: 7min 42s, total: 1h 2min 22s\n",
            "Wall time: 52min 24s\n"
          ]
        }
      ]
    },
    {
      "cell_type": "code",
      "source": [
        "%%time\n",
        "score = model.evaluate(x_test, y_test, verbose=1)\n",
        "print('Test loss:', score[0])\n",
        "print('Test accuracy:', score[1])"
      ],
      "metadata": {
        "colab": {
          "base_uri": "https://localhost:8080/"
        },
        "id": "E-culGPpOipy",
        "outputId": "120d1c9e-1d1c-4944-c966-f2b523bff4ff"
      },
      "execution_count": null,
      "outputs": [
        {
          "output_type": "stream",
          "name": "stdout",
          "text": [
            "9760/9760 [==============================] - 37s 4ms/step - loss: 0.0232 - accuracy: 0.9920\n",
            "Test loss: 0.023218221962451935\n",
            "Test accuracy: 0.9919825792312622\n",
            "CPU times: user 38.2 s, sys: 6.05 s, total: 44.2 s\n",
            "Wall time: 37.6 s\n"
          ]
        }
      ]
    },
    {
      "cell_type": "code",
      "source": [
        "with open('/content/drive/Shareddrives/DEAP EEG/Models Saved/Valence/Train_Test_Split_MDPI/50_50_Train_Test/history', 'wb') as file_pi:\n",
        "        pickle.dump(H.history, file_pi)"
      ],
      "metadata": {
        "id": "cGlMnOVvOk5d"
      },
      "execution_count": null,
      "outputs": []
    },
    {
      "cell_type": "markdown",
      "source": [
        "**train 20% test 80%**"
      ],
      "metadata": {
        "id": "MSh7TzgkKnfx"
      }
    },
    {
      "cell_type": "code",
      "source": [
        "%%time\n",
        "H = model.fit(x_train, y_train,\n",
        "          batch_size=100,\n",
        "          epochs=100,\n",
        "          verbose=1,\n",
        "          validation_data=(x_test, y_test),\n",
        "          callbacks= callbacks_list)"
      ],
      "metadata": {
        "colab": {
          "base_uri": "https://localhost:8080/"
        },
        "id": "hsyVCdveKfHZ",
        "outputId": "bfc5e5db-fd6c-4de6-ea5c-ce93da283317"
      },
      "execution_count": null,
      "outputs": [
        {
          "output_type": "stream",
          "name": "stdout",
          "text": [
            "Epoch 1/100\n",
            "1249/1250 [============================>.] - ETA: 0s - loss: 0.4011 - accuracy: 0.8130\n",
            "Epoch 1: accuracy improved from -inf to 0.81297, saving model to /content/drive/Shareddrives/DEAP EEG/Models Saved/Valence/Train_Test_Split_MDPI/20_80_Train_Test/weights-improvement-01-0.8130.hdf5\n",
            "1250/1250 [==============================] - 28s 22ms/step - loss: 0.4011 - accuracy: 0.8130 - val_loss: 0.3120 - val_accuracy: 0.8561\n",
            "Epoch 2/100\n",
            "1247/1250 [============================>.] - ETA: 0s - loss: 0.3040 - accuracy: 0.8611\n",
            "Epoch 2: accuracy improved from 0.81297 to 0.86112, saving model to /content/drive/Shareddrives/DEAP EEG/Models Saved/Valence/Train_Test_Split_MDPI/20_80_Train_Test/weights-improvement-02-0.8611.hdf5\n",
            "1250/1250 [==============================] - 27s 21ms/step - loss: 0.3041 - accuracy: 0.8611 - val_loss: 0.2499 - val_accuracy: 0.8893\n",
            "Epoch 3/100\n",
            "1246/1250 [============================>.] - ETA: 0s - loss: 0.2592 - accuracy: 0.8819\n",
            "Epoch 3: accuracy improved from 0.86112 to 0.88196, saving model to /content/drive/Shareddrives/DEAP EEG/Models Saved/Valence/Train_Test_Split_MDPI/20_80_Train_Test/weights-improvement-03-0.8820.hdf5\n",
            "1250/1250 [==============================] - 27s 21ms/step - loss: 0.2591 - accuracy: 0.8820 - val_loss: 0.2150 - val_accuracy: 0.9060\n",
            "Epoch 4/100\n",
            "1244/1250 [============================>.] - ETA: 0s - loss: 0.2301 - accuracy: 0.8973\n",
            "Epoch 4: accuracy improved from 0.88196 to 0.89727, saving model to /content/drive/Shareddrives/DEAP EEG/Models Saved/Valence/Train_Test_Split_MDPI/20_80_Train_Test/weights-improvement-04-0.8973.hdf5\n",
            "1250/1250 [==============================] - 27s 21ms/step - loss: 0.2302 - accuracy: 0.8973 - val_loss: 0.1901 - val_accuracy: 0.9156\n",
            "Epoch 5/100\n",
            "1245/1250 [============================>.] - ETA: 0s - loss: 0.2082 - accuracy: 0.9051\n",
            "Epoch 5: accuracy improved from 0.89727 to 0.90506, saving model to /content/drive/Shareddrives/DEAP EEG/Models Saved/Valence/Train_Test_Split_MDPI/20_80_Train_Test/weights-improvement-05-0.9051.hdf5\n",
            "1250/1250 [==============================] - 27s 21ms/step - loss: 0.2083 - accuracy: 0.9051 - val_loss: 0.1689 - val_accuracy: 0.9280\n",
            "Epoch 6/100\n",
            "1248/1250 [============================>.] - ETA: 0s - loss: 0.1912 - accuracy: 0.9143\n",
            "Epoch 6: accuracy improved from 0.90506 to 0.91427, saving model to /content/drive/Shareddrives/DEAP EEG/Models Saved/Valence/Train_Test_Split_MDPI/20_80_Train_Test/weights-improvement-06-0.9143.hdf5\n",
            "1250/1250 [==============================] - 27s 21ms/step - loss: 0.1912 - accuracy: 0.9143 - val_loss: 0.1541 - val_accuracy: 0.9360\n",
            "Epoch 7/100\n",
            "1249/1250 [============================>.] - ETA: 0s - loss: 0.1795 - accuracy: 0.9192\n",
            "Epoch 7: accuracy improved from 0.91427 to 0.91918, saving model to /content/drive/Shareddrives/DEAP EEG/Models Saved/Valence/Train_Test_Split_MDPI/20_80_Train_Test/weights-improvement-07-0.9192.hdf5\n",
            "1250/1250 [==============================] - 27s 21ms/step - loss: 0.1795 - accuracy: 0.9192 - val_loss: 0.1408 - val_accuracy: 0.9390\n",
            "Epoch 8/100\n",
            "1240/1250 [============================>.] - ETA: 0s - loss: 0.1695 - accuracy: 0.9240\n",
            "Epoch 8: accuracy improved from 0.91918 to 0.92392, saving model to /content/drive/Shareddrives/DEAP EEG/Models Saved/Valence/Train_Test_Split_MDPI/20_80_Train_Test/weights-improvement-08-0.9239.hdf5\n",
            "1250/1250 [==============================] - 27s 21ms/step - loss: 0.1697 - accuracy: 0.9239 - val_loss: 0.1426 - val_accuracy: 0.9394\n",
            "Epoch 9/100\n",
            "1247/1250 [============================>.] - ETA: 0s - loss: 0.1615 - accuracy: 0.9285\n",
            "Epoch 9: accuracy improved from 0.92392 to 0.92852, saving model to /content/drive/Shareddrives/DEAP EEG/Models Saved/Valence/Train_Test_Split_MDPI/20_80_Train_Test/weights-improvement-09-0.9285.hdf5\n",
            "1250/1250 [==============================] - 27s 21ms/step - loss: 0.1615 - accuracy: 0.9285 - val_loss: 0.1292 - val_accuracy: 0.9458\n",
            "Epoch 10/100\n",
            "1249/1250 [============================>.] - ETA: 0s - loss: 0.1571 - accuracy: 0.9304\n",
            "Epoch 10: accuracy improved from 0.92852 to 0.93035, saving model to /content/drive/Shareddrives/DEAP EEG/Models Saved/Valence/Train_Test_Split_MDPI/20_80_Train_Test/weights-improvement-10-0.9304.hdf5\n",
            "1250/1250 [==============================] - 27s 21ms/step - loss: 0.1571 - accuracy: 0.9304 - val_loss: 0.1163 - val_accuracy: 0.9508\n",
            "Epoch 11/100\n",
            "1249/1250 [============================>.] - ETA: 0s - loss: 0.1495 - accuracy: 0.9334\n",
            "Epoch 11: accuracy improved from 0.93035 to 0.93345, saving model to /content/drive/Shareddrives/DEAP EEG/Models Saved/Valence/Train_Test_Split_MDPI/20_80_Train_Test/weights-improvement-11-0.9334.hdf5\n",
            "1250/1250 [==============================] - 27s 21ms/step - loss: 0.1494 - accuracy: 0.9334 - val_loss: 0.1213 - val_accuracy: 0.9465\n",
            "Epoch 12/100\n",
            "1249/1250 [============================>.] - ETA: 0s - loss: 0.1425 - accuracy: 0.9367\n",
            "Epoch 12: accuracy improved from 0.93345 to 0.93667, saving model to /content/drive/Shareddrives/DEAP EEG/Models Saved/Valence/Train_Test_Split_MDPI/20_80_Train_Test/weights-improvement-12-0.9367.hdf5\n",
            "1250/1250 [==============================] - 27s 21ms/step - loss: 0.1425 - accuracy: 0.9367 - val_loss: 0.1104 - val_accuracy: 0.9528\n",
            "Epoch 13/100\n",
            "1240/1250 [============================>.] - ETA: 0s - loss: 0.1377 - accuracy: 0.9388\n",
            "Epoch 13: accuracy improved from 0.93667 to 0.93872, saving model to /content/drive/Shareddrives/DEAP EEG/Models Saved/Valence/Train_Test_Split_MDPI/20_80_Train_Test/weights-improvement-13-0.9387.hdf5\n",
            "1250/1250 [==============================] - 27s 21ms/step - loss: 0.1378 - accuracy: 0.9387 - val_loss: 0.1079 - val_accuracy: 0.9555\n",
            "Epoch 14/100\n",
            "1247/1250 [============================>.] - ETA: 0s - loss: 0.1349 - accuracy: 0.9402\n",
            "Epoch 14: accuracy improved from 0.93872 to 0.94017, saving model to /content/drive/Shareddrives/DEAP EEG/Models Saved/Valence/Train_Test_Split_MDPI/20_80_Train_Test/weights-improvement-14-0.9402.hdf5\n",
            "1250/1250 [==============================] - 27s 21ms/step - loss: 0.1349 - accuracy: 0.9402 - val_loss: 0.1033 - val_accuracy: 0.9572\n",
            "Epoch 15/100\n",
            "1247/1250 [============================>.] - ETA: 0s - loss: 0.1308 - accuracy: 0.9427\n",
            "Epoch 15: accuracy improved from 0.94017 to 0.94268, saving model to /content/drive/Shareddrives/DEAP EEG/Models Saved/Valence/Train_Test_Split_MDPI/20_80_Train_Test/weights-improvement-15-0.9427.hdf5\n",
            "1250/1250 [==============================] - 27s 21ms/step - loss: 0.1308 - accuracy: 0.9427 - val_loss: 0.1013 - val_accuracy: 0.9568\n",
            "Epoch 16/100\n",
            "1243/1250 [============================>.] - ETA: 0s - loss: 0.1256 - accuracy: 0.9442\n",
            "Epoch 16: accuracy improved from 0.94268 to 0.94424, saving model to /content/drive/Shareddrives/DEAP EEG/Models Saved/Valence/Train_Test_Split_MDPI/20_80_Train_Test/weights-improvement-16-0.9442.hdf5\n",
            "1250/1250 [==============================] - 27s 21ms/step - loss: 0.1257 - accuracy: 0.9442 - val_loss: 0.0928 - val_accuracy: 0.9622\n",
            "Epoch 17/100\n",
            "1244/1250 [============================>.] - ETA: 0s - loss: 0.1259 - accuracy: 0.9448\n",
            "Epoch 17: accuracy improved from 0.94424 to 0.94476, saving model to /content/drive/Shareddrives/DEAP EEG/Models Saved/Valence/Train_Test_Split_MDPI/20_80_Train_Test/weights-improvement-17-0.9448.hdf5\n",
            "1250/1250 [==============================] - 27s 21ms/step - loss: 0.1259 - accuracy: 0.9448 - val_loss: 0.0978 - val_accuracy: 0.9587\n",
            "Epoch 18/100\n",
            "1249/1250 [============================>.] - ETA: 0s - loss: 0.1204 - accuracy: 0.9473\n",
            "Epoch 18: accuracy improved from 0.94476 to 0.94727, saving model to /content/drive/Shareddrives/DEAP EEG/Models Saved/Valence/Train_Test_Split_MDPI/20_80_Train_Test/weights-improvement-18-0.9473.hdf5\n",
            "1250/1250 [==============================] - 27s 21ms/step - loss: 0.1204 - accuracy: 0.9473 - val_loss: 0.0916 - val_accuracy: 0.9623\n",
            "Epoch 19/100\n",
            "1250/1250 [==============================] - ETA: 0s - loss: 0.1183 - accuracy: 0.9480\n",
            "Epoch 19: accuracy improved from 0.94727 to 0.94803, saving model to /content/drive/Shareddrives/DEAP EEG/Models Saved/Valence/Train_Test_Split_MDPI/20_80_Train_Test/weights-improvement-19-0.9480.hdf5\n",
            "1250/1250 [==============================] - 17s 14ms/step - loss: 0.1183 - accuracy: 0.9480 - val_loss: 0.0880 - val_accuracy: 0.9639\n",
            "Epoch 20/100\n",
            "1243/1250 [============================>.] - ETA: 0s - loss: 0.1175 - accuracy: 0.9485\n",
            "Epoch 20: accuracy improved from 0.94803 to 0.94830, saving model to /content/drive/Shareddrives/DEAP EEG/Models Saved/Valence/Train_Test_Split_MDPI/20_80_Train_Test/weights-improvement-20-0.9483.hdf5\n",
            "1250/1250 [==============================] - 27s 21ms/step - loss: 0.1177 - accuracy: 0.9483 - val_loss: 0.0904 - val_accuracy: 0.9622\n",
            "Epoch 21/100\n",
            "1242/1250 [============================>.] - ETA: 0s - loss: 0.1132 - accuracy: 0.9500\n",
            "Epoch 21: accuracy improved from 0.94830 to 0.95000, saving model to /content/drive/Shareddrives/DEAP EEG/Models Saved/Valence/Train_Test_Split_MDPI/20_80_Train_Test/weights-improvement-21-0.9500.hdf5\n",
            "1250/1250 [==============================] - 27s 21ms/step - loss: 0.1133 - accuracy: 0.9500 - val_loss: 0.0860 - val_accuracy: 0.9645\n",
            "Epoch 22/100\n",
            "1240/1250 [============================>.] - ETA: 0s - loss: 0.1114 - accuracy: 0.9511\n",
            "Epoch 22: accuracy improved from 0.95000 to 0.95114, saving model to /content/drive/Shareddrives/DEAP EEG/Models Saved/Valence/Train_Test_Split_MDPI/20_80_Train_Test/weights-improvement-22-0.9511.hdf5\n",
            "1250/1250 [==============================] - 27s 21ms/step - loss: 0.1114 - accuracy: 0.9511 - val_loss: 0.0836 - val_accuracy: 0.9665\n",
            "Epoch 23/100\n",
            "1250/1250 [==============================] - ETA: 0s - loss: 0.1092 - accuracy: 0.9521\n",
            "Epoch 23: accuracy improved from 0.95114 to 0.95209, saving model to /content/drive/Shareddrives/DEAP EEG/Models Saved/Valence/Train_Test_Split_MDPI/20_80_Train_Test/weights-improvement-23-0.9521.hdf5\n",
            "1250/1250 [==============================] - 27s 21ms/step - loss: 0.1092 - accuracy: 0.9521 - val_loss: 0.0789 - val_accuracy: 0.9681\n",
            "Epoch 24/100\n",
            "1249/1250 [============================>.] - ETA: 0s - loss: 0.1089 - accuracy: 0.9525\n",
            "Epoch 24: accuracy improved from 0.95209 to 0.95251, saving model to /content/drive/Shareddrives/DEAP EEG/Models Saved/Valence/Train_Test_Split_MDPI/20_80_Train_Test/weights-improvement-24-0.9525.hdf5\n",
            "1250/1250 [==============================] - 27s 21ms/step - loss: 0.1089 - accuracy: 0.9525 - val_loss: 0.0823 - val_accuracy: 0.9654\n",
            "Epoch 25/100\n",
            "1247/1250 [============================>.] - ETA: 0s - loss: 0.1070 - accuracy: 0.9535\n",
            "Epoch 25: accuracy improved from 0.95251 to 0.95352, saving model to /content/drive/Shareddrives/DEAP EEG/Models Saved/Valence/Train_Test_Split_MDPI/20_80_Train_Test/weights-improvement-25-0.9535.hdf5\n",
            "1250/1250 [==============================] - 27s 21ms/step - loss: 0.1069 - accuracy: 0.9535 - val_loss: 0.0798 - val_accuracy: 0.9664\n",
            "Epoch 26/100\n",
            "1245/1250 [============================>.] - ETA: 0s - loss: 0.1048 - accuracy: 0.9537\n",
            "Epoch 26: accuracy improved from 0.95352 to 0.95375, saving model to /content/drive/Shareddrives/DEAP EEG/Models Saved/Valence/Train_Test_Split_MDPI/20_80_Train_Test/weights-improvement-26-0.9537.hdf5\n",
            "1250/1250 [==============================] - 27s 21ms/step - loss: 0.1047 - accuracy: 0.9537 - val_loss: 0.0777 - val_accuracy: 0.9687\n",
            "Epoch 27/100\n",
            "1250/1250 [==============================] - ETA: 0s - loss: 0.1015 - accuracy: 0.9556\n",
            "Epoch 27: accuracy improved from 0.95375 to 0.95560, saving model to /content/drive/Shareddrives/DEAP EEG/Models Saved/Valence/Train_Test_Split_MDPI/20_80_Train_Test/weights-improvement-27-0.9556.hdf5\n",
            "1250/1250 [==============================] - 17s 14ms/step - loss: 0.1015 - accuracy: 0.9556 - val_loss: 0.0755 - val_accuracy: 0.9692\n",
            "Epoch 28/100\n",
            "1242/1250 [============================>.] - ETA: 0s - loss: 0.1000 - accuracy: 0.9567\n",
            "Epoch 28: accuracy improved from 0.95560 to 0.95666, saving model to /content/drive/Shareddrives/DEAP EEG/Models Saved/Valence/Train_Test_Split_MDPI/20_80_Train_Test/weights-improvement-28-0.9567.hdf5\n",
            "1250/1250 [==============================] - 27s 21ms/step - loss: 0.1000 - accuracy: 0.9567 - val_loss: 0.0708 - val_accuracy: 0.9705\n",
            "Epoch 29/100\n",
            "1249/1250 [============================>.] - ETA: 0s - loss: 0.0998 - accuracy: 0.9561\n",
            "Epoch 29: accuracy did not improve from 0.95666\n",
            "1250/1250 [==============================] - 27s 21ms/step - loss: 0.0997 - accuracy: 0.9562 - val_loss: 0.0701 - val_accuracy: 0.9717\n",
            "Epoch 30/100\n",
            "1248/1250 [============================>.] - ETA: 0s - loss: 0.0988 - accuracy: 0.9567\n",
            "Epoch 30: accuracy improved from 0.95666 to 0.95674, saving model to /content/drive/Shareddrives/DEAP EEG/Models Saved/Valence/Train_Test_Split_MDPI/20_80_Train_Test/weights-improvement-30-0.9567.hdf5\n",
            "1250/1250 [==============================] - 27s 21ms/step - loss: 0.0987 - accuracy: 0.9567 - val_loss: 0.0780 - val_accuracy: 0.9682\n",
            "Epoch 31/100\n",
            "1249/1250 [============================>.] - ETA: 0s - loss: 0.0992 - accuracy: 0.9564\n",
            "Epoch 31: accuracy did not improve from 0.95674\n",
            "1250/1250 [==============================] - 17s 14ms/step - loss: 0.0993 - accuracy: 0.9564 - val_loss: 0.0725 - val_accuracy: 0.9704\n",
            "Epoch 32/100\n",
            "1249/1250 [============================>.] - ETA: 0s - loss: 0.0959 - accuracy: 0.9580\n",
            "Epoch 32: accuracy improved from 0.95674 to 0.95806, saving model to /content/drive/Shareddrives/DEAP EEG/Models Saved/Valence/Train_Test_Split_MDPI/20_80_Train_Test/weights-improvement-32-0.9581.hdf5\n",
            "1250/1250 [==============================] - 27s 21ms/step - loss: 0.0959 - accuracy: 0.9581 - val_loss: 0.0696 - val_accuracy: 0.9711\n",
            "Epoch 33/100\n",
            "1246/1250 [============================>.] - ETA: 0s - loss: 0.0957 - accuracy: 0.9582\n",
            "Epoch 33: accuracy improved from 0.95806 to 0.95822, saving model to /content/drive/Shareddrives/DEAP EEG/Models Saved/Valence/Train_Test_Split_MDPI/20_80_Train_Test/weights-improvement-33-0.9582.hdf5\n",
            "1250/1250 [==============================] - 17s 14ms/step - loss: 0.0958 - accuracy: 0.9582 - val_loss: 0.0732 - val_accuracy: 0.9696\n",
            "Epoch 34/100\n",
            "1244/1250 [============================>.] - ETA: 0s - loss: 0.0953 - accuracy: 0.9587\n",
            "Epoch 34: accuracy improved from 0.95822 to 0.95879, saving model to /content/drive/Shareddrives/DEAP EEG/Models Saved/Valence/Train_Test_Split_MDPI/20_80_Train_Test/weights-improvement-34-0.9588.hdf5\n",
            "1250/1250 [==============================] - 27s 21ms/step - loss: 0.0952 - accuracy: 0.9588 - val_loss: 0.0682 - val_accuracy: 0.9731\n",
            "Epoch 35/100\n",
            "1247/1250 [============================>.] - ETA: 0s - loss: 0.0950 - accuracy: 0.9582\n",
            "Epoch 35: accuracy did not improve from 0.95879\n",
            "1250/1250 [==============================] - 27s 21ms/step - loss: 0.0950 - accuracy: 0.9582 - val_loss: 0.0647 - val_accuracy: 0.9734\n",
            "Epoch 36/100\n",
            "1242/1250 [============================>.] - ETA: 0s - loss: 0.0921 - accuracy: 0.9594\n",
            "Epoch 36: accuracy improved from 0.95879 to 0.95940, saving model to /content/drive/Shareddrives/DEAP EEG/Models Saved/Valence/Train_Test_Split_MDPI/20_80_Train_Test/weights-improvement-36-0.9594.hdf5\n",
            "1250/1250 [==============================] - 27s 21ms/step - loss: 0.0921 - accuracy: 0.9594 - val_loss: 0.0671 - val_accuracy: 0.9730\n",
            "Epoch 37/100\n",
            "1246/1250 [============================>.] - ETA: 0s - loss: 0.0932 - accuracy: 0.9594\n",
            "Epoch 37: accuracy improved from 0.95940 to 0.95941, saving model to /content/drive/Shareddrives/DEAP EEG/Models Saved/Valence/Train_Test_Split_MDPI/20_80_Train_Test/weights-improvement-37-0.9594.hdf5\n",
            "1250/1250 [==============================] - 27s 22ms/step - loss: 0.0931 - accuracy: 0.9594 - val_loss: 0.0640 - val_accuracy: 0.9744\n",
            "Epoch 38/100\n",
            "1248/1250 [============================>.] - ETA: 0s - loss: 0.0893 - accuracy: 0.9610\n",
            "Epoch 38: accuracy improved from 0.95941 to 0.96102, saving model to /content/drive/Shareddrives/DEAP EEG/Models Saved/Valence/Train_Test_Split_MDPI/20_80_Train_Test/weights-improvement-38-0.9610.hdf5\n",
            "1250/1250 [==============================] - 27s 21ms/step - loss: 0.0893 - accuracy: 0.9610 - val_loss: 0.0644 - val_accuracy: 0.9734\n",
            "Epoch 39/100\n",
            "1250/1250 [==============================] - ETA: 0s - loss: 0.0910 - accuracy: 0.9605\n",
            "Epoch 39: accuracy did not improve from 0.96102\n",
            "1250/1250 [==============================] - 27s 21ms/step - loss: 0.0910 - accuracy: 0.9605 - val_loss: 0.0621 - val_accuracy: 0.9749\n",
            "Epoch 40/100\n",
            "1241/1250 [============================>.] - ETA: 0s - loss: 0.0884 - accuracy: 0.9615\n",
            "Epoch 40: accuracy improved from 0.96102 to 0.96139, saving model to /content/drive/Shareddrives/DEAP EEG/Models Saved/Valence/Train_Test_Split_MDPI/20_80_Train_Test/weights-improvement-40-0.9614.hdf5\n",
            "1250/1250 [==============================] - 27s 21ms/step - loss: 0.0886 - accuracy: 0.9614 - val_loss: 0.0651 - val_accuracy: 0.9733\n",
            "Epoch 41/100\n",
            "1249/1250 [============================>.] - ETA: 0s - loss: 0.0875 - accuracy: 0.9618\n",
            "Epoch 41: accuracy improved from 0.96139 to 0.96179, saving model to /content/drive/Shareddrives/DEAP EEG/Models Saved/Valence/Train_Test_Split_MDPI/20_80_Train_Test/weights-improvement-41-0.9618.hdf5\n",
            "1250/1250 [==============================] - 27s 21ms/step - loss: 0.0875 - accuracy: 0.9618 - val_loss: 0.0685 - val_accuracy: 0.9716\n",
            "Epoch 42/100\n",
            "1248/1250 [============================>.] - ETA: 0s - loss: 0.0874 - accuracy: 0.9618\n",
            "Epoch 42: accuracy did not improve from 0.96179\n",
            "1250/1250 [==============================] - 27s 21ms/step - loss: 0.0875 - accuracy: 0.9617 - val_loss: 0.0613 - val_accuracy: 0.9751\n",
            "Epoch 43/100\n",
            "1243/1250 [============================>.] - ETA: 0s - loss: 0.0888 - accuracy: 0.9612\n",
            "Epoch 43: accuracy did not improve from 0.96179\n",
            "1250/1250 [==============================] - 27s 21ms/step - loss: 0.0887 - accuracy: 0.9612 - val_loss: 0.0613 - val_accuracy: 0.9751\n",
            "Epoch 44/100\n",
            "1249/1250 [============================>.] - ETA: 0s - loss: 0.0854 - accuracy: 0.9627\n",
            "Epoch 44: accuracy improved from 0.96179 to 0.96270, saving model to /content/drive/Shareddrives/DEAP EEG/Models Saved/Valence/Train_Test_Split_MDPI/20_80_Train_Test/weights-improvement-44-0.9627.hdf5\n",
            "1250/1250 [==============================] - 27s 21ms/step - loss: 0.0855 - accuracy: 0.9627 - val_loss: 0.0593 - val_accuracy: 0.9764\n",
            "Epoch 45/100\n",
            "1248/1250 [============================>.] - ETA: 0s - loss: 0.0859 - accuracy: 0.9626\n",
            "Epoch 45: accuracy did not improve from 0.96270\n",
            "1250/1250 [==============================] - 27s 21ms/step - loss: 0.0858 - accuracy: 0.9626 - val_loss: 0.0621 - val_accuracy: 0.9750\n",
            "Epoch 46/100\n",
            "1241/1250 [============================>.] - ETA: 0s - loss: 0.0861 - accuracy: 0.9629\n",
            "Epoch 46: accuracy improved from 0.96270 to 0.96284, saving model to /content/drive/Shareddrives/DEAP EEG/Models Saved/Valence/Train_Test_Split_MDPI/20_80_Train_Test/weights-improvement-46-0.9628.hdf5\n",
            "1250/1250 [==============================] - 27s 22ms/step - loss: 0.0860 - accuracy: 0.9628 - val_loss: 0.0598 - val_accuracy: 0.9763\n",
            "Epoch 47/100\n",
            "1247/1250 [============================>.] - ETA: 0s - loss: 0.0831 - accuracy: 0.9638\n",
            "Epoch 47: accuracy improved from 0.96284 to 0.96380, saving model to /content/drive/Shareddrives/DEAP EEG/Models Saved/Valence/Train_Test_Split_MDPI/20_80_Train_Test/weights-improvement-47-0.9638.hdf5\n",
            "1250/1250 [==============================] - 27s 21ms/step - loss: 0.0831 - accuracy: 0.9638 - val_loss: 0.0599 - val_accuracy: 0.9761\n",
            "Epoch 48/100\n",
            "1244/1250 [============================>.] - ETA: 0s - loss: 0.0819 - accuracy: 0.9645\n",
            "Epoch 48: accuracy improved from 0.96380 to 0.96456, saving model to /content/drive/Shareddrives/DEAP EEG/Models Saved/Valence/Train_Test_Split_MDPI/20_80_Train_Test/weights-improvement-48-0.9646.hdf5\n",
            "1250/1250 [==============================] - 27s 21ms/step - loss: 0.0820 - accuracy: 0.9646 - val_loss: 0.0604 - val_accuracy: 0.9757\n",
            "Epoch 49/100\n",
            "1244/1250 [============================>.] - ETA: 0s - loss: 0.0816 - accuracy: 0.9648\n",
            "Epoch 49: accuracy improved from 0.96456 to 0.96475, saving model to /content/drive/Shareddrives/DEAP EEG/Models Saved/Valence/Train_Test_Split_MDPI/20_80_Train_Test/weights-improvement-49-0.9647.hdf5\n",
            "1250/1250 [==============================] - 27s 22ms/step - loss: 0.0816 - accuracy: 0.9647 - val_loss: 0.0588 - val_accuracy: 0.9761\n",
            "Epoch 50/100\n",
            "1250/1250 [==============================] - ETA: 0s - loss: 0.0824 - accuracy: 0.9636\n",
            "Epoch 50: accuracy did not improve from 0.96475\n",
            "1250/1250 [==============================] - 27s 21ms/step - loss: 0.0824 - accuracy: 0.9636 - val_loss: 0.0591 - val_accuracy: 0.9763\n",
            "Epoch 51/100\n",
            "1249/1250 [============================>.] - ETA: 0s - loss: 0.0823 - accuracy: 0.9648\n",
            "Epoch 51: accuracy improved from 0.96475 to 0.96482, saving model to /content/drive/Shareddrives/DEAP EEG/Models Saved/Valence/Train_Test_Split_MDPI/20_80_Train_Test/weights-improvement-51-0.9648.hdf5\n",
            "1250/1250 [==============================] - 27s 22ms/step - loss: 0.0822 - accuracy: 0.9648 - val_loss: 0.0602 - val_accuracy: 0.9749\n",
            "Epoch 52/100\n",
            "1249/1250 [============================>.] - ETA: 0s - loss: 0.0812 - accuracy: 0.9651\n",
            "Epoch 52: accuracy improved from 0.96482 to 0.96509, saving model to /content/drive/Shareddrives/DEAP EEG/Models Saved/Valence/Train_Test_Split_MDPI/20_80_Train_Test/weights-improvement-52-0.9651.hdf5\n",
            "1250/1250 [==============================] - 27s 22ms/step - loss: 0.0812 - accuracy: 0.9651 - val_loss: 0.0586 - val_accuracy: 0.9769\n",
            "Epoch 53/100\n",
            "1242/1250 [============================>.] - ETA: 0s - loss: 0.0794 - accuracy: 0.9657\n",
            "Epoch 53: accuracy improved from 0.96509 to 0.96570, saving model to /content/drive/Shareddrives/DEAP EEG/Models Saved/Valence/Train_Test_Split_MDPI/20_80_Train_Test/weights-improvement-53-0.9657.hdf5\n",
            "1250/1250 [==============================] - 27s 22ms/step - loss: 0.0794 - accuracy: 0.9657 - val_loss: 0.0537 - val_accuracy: 0.9787\n",
            "Epoch 54/100\n",
            "1244/1250 [============================>.] - ETA: 0s - loss: 0.0803 - accuracy: 0.9654\n",
            "Epoch 54: accuracy did not improve from 0.96570\n",
            "1250/1250 [==============================] - 27s 21ms/step - loss: 0.0804 - accuracy: 0.9653 - val_loss: 0.0536 - val_accuracy: 0.9788\n",
            "Epoch 55/100\n",
            "1244/1250 [============================>.] - ETA: 0s - loss: 0.0802 - accuracy: 0.9650\n",
            "Epoch 55: accuracy did not improve from 0.96570\n",
            "1250/1250 [==============================] - 27s 22ms/step - loss: 0.0802 - accuracy: 0.9650 - val_loss: 0.0558 - val_accuracy: 0.9779\n",
            "Epoch 56/100\n",
            "1243/1250 [============================>.] - ETA: 0s - loss: 0.0780 - accuracy: 0.9660\n",
            "Epoch 56: accuracy improved from 0.96570 to 0.96604, saving model to /content/drive/Shareddrives/DEAP EEG/Models Saved/Valence/Train_Test_Split_MDPI/20_80_Train_Test/weights-improvement-56-0.9660.hdf5\n",
            "1250/1250 [==============================] - 27s 22ms/step - loss: 0.0779 - accuracy: 0.9660 - val_loss: 0.0575 - val_accuracy: 0.9778\n",
            "Epoch 57/100\n",
            "1242/1250 [============================>.] - ETA: 0s - loss: 0.0786 - accuracy: 0.9657\n",
            "Epoch 57: accuracy did not improve from 0.96604\n",
            "1250/1250 [==============================] - 27s 22ms/step - loss: 0.0784 - accuracy: 0.9658 - val_loss: 0.0561 - val_accuracy: 0.9775\n",
            "Epoch 58/100\n",
            "1248/1250 [============================>.] - ETA: 0s - loss: 0.0769 - accuracy: 0.9664\n",
            "Epoch 58: accuracy improved from 0.96604 to 0.96636, saving model to /content/drive/Shareddrives/DEAP EEG/Models Saved/Valence/Train_Test_Split_MDPI/20_80_Train_Test/weights-improvement-58-0.9664.hdf5\n",
            "1250/1250 [==============================] - 27s 22ms/step - loss: 0.0769 - accuracy: 0.9664 - val_loss: 0.0549 - val_accuracy: 0.9780\n",
            "Epoch 59/100\n",
            "1246/1250 [============================>.] - ETA: 0s - loss: 0.0777 - accuracy: 0.9665\n",
            "Epoch 59: accuracy improved from 0.96636 to 0.96648, saving model to /content/drive/Shareddrives/DEAP EEG/Models Saved/Valence/Train_Test_Split_MDPI/20_80_Train_Test/weights-improvement-59-0.9665.hdf5\n",
            "1250/1250 [==============================] - 27s 22ms/step - loss: 0.0777 - accuracy: 0.9665 - val_loss: 0.0549 - val_accuracy: 0.9790\n",
            "Epoch 60/100\n",
            "1243/1250 [============================>.] - ETA: 0s - loss: 0.0766 - accuracy: 0.9667\n",
            "Epoch 60: accuracy improved from 0.96648 to 0.96667, saving model to /content/drive/Shareddrives/DEAP EEG/Models Saved/Valence/Train_Test_Split_MDPI/20_80_Train_Test/weights-improvement-60-0.9667.hdf5\n",
            "1250/1250 [==============================] - 27s 22ms/step - loss: 0.0766 - accuracy: 0.9667 - val_loss: 0.0528 - val_accuracy: 0.9788\n",
            "Epoch 61/100\n",
            "1248/1250 [============================>.] - ETA: 0s - loss: 0.0762 - accuracy: 0.9668\n",
            "Epoch 61: accuracy improved from 0.96667 to 0.96683, saving model to /content/drive/Shareddrives/DEAP EEG/Models Saved/Valence/Train_Test_Split_MDPI/20_80_Train_Test/weights-improvement-61-0.9668.hdf5\n",
            "1250/1250 [==============================] - 27s 21ms/step - loss: 0.0762 - accuracy: 0.9668 - val_loss: 0.0557 - val_accuracy: 0.9784\n",
            "Epoch 62/100\n",
            "1248/1250 [============================>.] - ETA: 0s - loss: 0.0753 - accuracy: 0.9674\n",
            "Epoch 62: accuracy improved from 0.96683 to 0.96739, saving model to /content/drive/Shareddrives/DEAP EEG/Models Saved/Valence/Train_Test_Split_MDPI/20_80_Train_Test/weights-improvement-62-0.9674.hdf5\n",
            "1250/1250 [==============================] - 27s 22ms/step - loss: 0.0753 - accuracy: 0.9674 - val_loss: 0.0532 - val_accuracy: 0.9791\n",
            "Epoch 63/100\n",
            "1242/1250 [============================>.] - ETA: 0s - loss: 0.0752 - accuracy: 0.9673\n",
            "Epoch 63: accuracy did not improve from 0.96739\n",
            "1250/1250 [==============================] - 27s 21ms/step - loss: 0.0752 - accuracy: 0.9673 - val_loss: 0.0523 - val_accuracy: 0.9790\n",
            "Epoch 64/100\n",
            "1248/1250 [============================>.] - ETA: 0s - loss: 0.0763 - accuracy: 0.9675\n",
            "Epoch 64: accuracy improved from 0.96739 to 0.96753, saving model to /content/drive/Shareddrives/DEAP EEG/Models Saved/Valence/Train_Test_Split_MDPI/20_80_Train_Test/weights-improvement-64-0.9675.hdf5\n",
            "1250/1250 [==============================] - 27s 22ms/step - loss: 0.0762 - accuracy: 0.9675 - val_loss: 0.0514 - val_accuracy: 0.9800\n",
            "Epoch 65/100\n",
            "1246/1250 [============================>.] - ETA: 0s - loss: 0.0760 - accuracy: 0.9672\n",
            "Epoch 65: accuracy did not improve from 0.96753\n",
            "1250/1250 [==============================] - 17s 14ms/step - loss: 0.0760 - accuracy: 0.9672 - val_loss: 0.0521 - val_accuracy: 0.9797\n",
            "Epoch 66/100\n",
            "1247/1250 [============================>.] - ETA: 0s - loss: 0.0741 - accuracy: 0.9680\n",
            "Epoch 66: accuracy improved from 0.96753 to 0.96801, saving model to /content/drive/Shareddrives/DEAP EEG/Models Saved/Valence/Train_Test_Split_MDPI/20_80_Train_Test/weights-improvement-66-0.9680.hdf5\n",
            "1250/1250 [==============================] - 27s 22ms/step - loss: 0.0741 - accuracy: 0.9680 - val_loss: 0.0558 - val_accuracy: 0.9782\n",
            "Epoch 67/100\n",
            "1242/1250 [============================>.] - ETA: 0s - loss: 0.0737 - accuracy: 0.9683\n",
            "Epoch 67: accuracy improved from 0.96801 to 0.96825, saving model to /content/drive/Shareddrives/DEAP EEG/Models Saved/Valence/Train_Test_Split_MDPI/20_80_Train_Test/weights-improvement-67-0.9683.hdf5\n",
            "1250/1250 [==============================] - 27s 22ms/step - loss: 0.0737 - accuracy: 0.9683 - val_loss: 0.0520 - val_accuracy: 0.9795\n",
            "Epoch 68/100\n",
            "1246/1250 [============================>.] - ETA: 0s - loss: 0.0733 - accuracy: 0.9684\n",
            "Epoch 68: accuracy improved from 0.96825 to 0.96838, saving model to /content/drive/Shareddrives/DEAP EEG/Models Saved/Valence/Train_Test_Split_MDPI/20_80_Train_Test/weights-improvement-68-0.9684.hdf5\n",
            "1250/1250 [==============================] - 27s 22ms/step - loss: 0.0733 - accuracy: 0.9684 - val_loss: 0.0537 - val_accuracy: 0.9794\n",
            "Epoch 69/100\n",
            "1250/1250 [==============================] - ETA: 0s - loss: 0.0739 - accuracy: 0.9681\n",
            "Epoch 69: accuracy did not improve from 0.96838\n",
            "1250/1250 [==============================] - 27s 22ms/step - loss: 0.0739 - accuracy: 0.9681 - val_loss: 0.0492 - val_accuracy: 0.9809\n",
            "Epoch 70/100\n",
            "1248/1250 [============================>.] - ETA: 0s - loss: 0.0732 - accuracy: 0.9687\n",
            "Epoch 70: accuracy improved from 0.96838 to 0.96868, saving model to /content/drive/Shareddrives/DEAP EEG/Models Saved/Valence/Train_Test_Split_MDPI/20_80_Train_Test/weights-improvement-70-0.9687.hdf5\n",
            "1250/1250 [==============================] - 27s 22ms/step - loss: 0.0732 - accuracy: 0.9687 - val_loss: 0.0495 - val_accuracy: 0.9810\n",
            "Epoch 71/100\n",
            "1242/1250 [============================>.] - ETA: 0s - loss: 0.0724 - accuracy: 0.9690\n",
            "Epoch 71: accuracy improved from 0.96868 to 0.96901, saving model to /content/drive/Shareddrives/DEAP EEG/Models Saved/Valence/Train_Test_Split_MDPI/20_80_Train_Test/weights-improvement-71-0.9690.hdf5\n",
            "1250/1250 [==============================] - 27s 22ms/step - loss: 0.0725 - accuracy: 0.9690 - val_loss: 0.0500 - val_accuracy: 0.9807\n",
            "Epoch 72/100\n",
            "1247/1250 [============================>.] - ETA: 0s - loss: 0.0727 - accuracy: 0.9687\n",
            "Epoch 72: accuracy did not improve from 0.96901\n",
            "1250/1250 [==============================] - 27s 22ms/step - loss: 0.0727 - accuracy: 0.9687 - val_loss: 0.0514 - val_accuracy: 0.9808\n",
            "Epoch 73/100\n",
            "1248/1250 [============================>.] - ETA: 0s - loss: 0.0721 - accuracy: 0.9695\n",
            "Epoch 73: accuracy improved from 0.96901 to 0.96947, saving model to /content/drive/Shareddrives/DEAP EEG/Models Saved/Valence/Train_Test_Split_MDPI/20_80_Train_Test/weights-improvement-73-0.9695.hdf5\n",
            "1250/1250 [==============================] - 27s 22ms/step - loss: 0.0721 - accuracy: 0.9695 - val_loss: 0.0500 - val_accuracy: 0.9810\n",
            "Epoch 74/100\n",
            "1246/1250 [============================>.] - ETA: 0s - loss: 0.0709 - accuracy: 0.9698\n",
            "Epoch 74: accuracy improved from 0.96947 to 0.96984, saving model to /content/drive/Shareddrives/DEAP EEG/Models Saved/Valence/Train_Test_Split_MDPI/20_80_Train_Test/weights-improvement-74-0.9698.hdf5\n",
            "1250/1250 [==============================] - 27s 22ms/step - loss: 0.0709 - accuracy: 0.9698 - val_loss: 0.0509 - val_accuracy: 0.9803\n",
            "Epoch 75/100\n",
            "1248/1250 [============================>.] - ETA: 0s - loss: 0.0714 - accuracy: 0.9695\n",
            "Epoch 75: accuracy did not improve from 0.96984\n",
            "1250/1250 [==============================] - 17s 14ms/step - loss: 0.0714 - accuracy: 0.9695 - val_loss: 0.0515 - val_accuracy: 0.9795\n",
            "Epoch 76/100\n",
            "1242/1250 [============================>.] - ETA: 0s - loss: 0.0709 - accuracy: 0.9698\n",
            "Epoch 76: accuracy did not improve from 0.96984\n",
            "1250/1250 [==============================] - 27s 22ms/step - loss: 0.0710 - accuracy: 0.9697 - val_loss: 0.0485 - val_accuracy: 0.9810\n",
            "Epoch 77/100\n",
            "1243/1250 [============================>.] - ETA: 0s - loss: 0.0708 - accuracy: 0.9696\n",
            "Epoch 77: accuracy did not improve from 0.96984\n",
            "1250/1250 [==============================] - 27s 22ms/step - loss: 0.0709 - accuracy: 0.9696 - val_loss: 0.0474 - val_accuracy: 0.9818\n",
            "Epoch 78/100\n",
            "1248/1250 [============================>.] - ETA: 0s - loss: 0.0710 - accuracy: 0.9701\n",
            "Epoch 78: accuracy improved from 0.96984 to 0.97009, saving model to /content/drive/Shareddrives/DEAP EEG/Models Saved/Valence/Train_Test_Split_MDPI/20_80_Train_Test/weights-improvement-78-0.9701.hdf5\n",
            "1250/1250 [==============================] - 27s 22ms/step - loss: 0.0710 - accuracy: 0.9701 - val_loss: 0.0477 - val_accuracy: 0.9810\n",
            "Epoch 79/100\n",
            "1247/1250 [============================>.] - ETA: 0s - loss: 0.0703 - accuracy: 0.9698\n",
            "Epoch 79: accuracy did not improve from 0.97009\n",
            "1250/1250 [==============================] - 17s 14ms/step - loss: 0.0703 - accuracy: 0.9697 - val_loss: 0.0487 - val_accuracy: 0.9812\n",
            "Epoch 80/100\n",
            "1248/1250 [============================>.] - ETA: 0s - loss: 0.0693 - accuracy: 0.9699\n",
            "Epoch 80: accuracy did not improve from 0.97009\n",
            "1250/1250 [==============================] - 27s 22ms/step - loss: 0.0693 - accuracy: 0.9699 - val_loss: 0.0472 - val_accuracy: 0.9813\n",
            "Epoch 81/100\n",
            "1249/1250 [============================>.] - ETA: 0s - loss: 0.0693 - accuracy: 0.9705\n",
            "Epoch 81: accuracy improved from 0.97009 to 0.97049, saving model to /content/drive/Shareddrives/DEAP EEG/Models Saved/Valence/Train_Test_Split_MDPI/20_80_Train_Test/weights-improvement-81-0.9705.hdf5\n",
            "1250/1250 [==============================] - 27s 22ms/step - loss: 0.0693 - accuracy: 0.9705 - val_loss: 0.0522 - val_accuracy: 0.9799\n",
            "Epoch 82/100\n",
            "1248/1250 [============================>.] - ETA: 0s - loss: 0.0683 - accuracy: 0.9709\n",
            "Epoch 82: accuracy improved from 0.97049 to 0.97090, saving model to /content/drive/Shareddrives/DEAP EEG/Models Saved/Valence/Train_Test_Split_MDPI/20_80_Train_Test/weights-improvement-82-0.9709.hdf5\n",
            "1250/1250 [==============================] - 27s 22ms/step - loss: 0.0683 - accuracy: 0.9709 - val_loss: 0.0485 - val_accuracy: 0.9815\n",
            "Epoch 83/100\n",
            "1243/1250 [============================>.] - ETA: 0s - loss: 0.0692 - accuracy: 0.9707\n",
            "Epoch 83: accuracy did not improve from 0.97090\n",
            "1250/1250 [==============================] - 27s 22ms/step - loss: 0.0692 - accuracy: 0.9707 - val_loss: 0.0546 - val_accuracy: 0.9794\n",
            "Epoch 84/100\n",
            "1248/1250 [============================>.] - ETA: 0s - loss: 0.0671 - accuracy: 0.9715\n",
            "Epoch 84: accuracy improved from 0.97090 to 0.97148, saving model to /content/drive/Shareddrives/DEAP EEG/Models Saved/Valence/Train_Test_Split_MDPI/20_80_Train_Test/weights-improvement-84-0.9715.hdf5\n",
            "1250/1250 [==============================] - 27s 22ms/step - loss: 0.0671 - accuracy: 0.9715 - val_loss: 0.0476 - val_accuracy: 0.9815\n",
            "Epoch 85/100\n",
            "1247/1250 [============================>.] - ETA: 0s - loss: 0.0683 - accuracy: 0.9706\n",
            "Epoch 85: accuracy did not improve from 0.97148\n",
            "1250/1250 [==============================] - 27s 22ms/step - loss: 0.0683 - accuracy: 0.9706 - val_loss: 0.0451 - val_accuracy: 0.9826\n",
            "Epoch 86/100\n",
            "1244/1250 [============================>.] - ETA: 0s - loss: 0.0677 - accuracy: 0.9710\n",
            "Epoch 86: accuracy did not improve from 0.97148\n",
            "1250/1250 [==============================] - 27s 22ms/step - loss: 0.0677 - accuracy: 0.9710 - val_loss: 0.0472 - val_accuracy: 0.9818\n",
            "Epoch 87/100\n",
            "1245/1250 [============================>.] - ETA: 0s - loss: 0.0671 - accuracy: 0.9714\n",
            "Epoch 87: accuracy did not improve from 0.97148\n",
            "1250/1250 [==============================] - 17s 14ms/step - loss: 0.0671 - accuracy: 0.9714 - val_loss: 0.0477 - val_accuracy: 0.9818\n",
            "Epoch 88/100\n",
            "1250/1250 [==============================] - ETA: 0s - loss: 0.0659 - accuracy: 0.9718\n",
            "Epoch 88: accuracy improved from 0.97148 to 0.97176, saving model to /content/drive/Shareddrives/DEAP EEG/Models Saved/Valence/Train_Test_Split_MDPI/20_80_Train_Test/weights-improvement-88-0.9718.hdf5\n",
            "1250/1250 [==============================] - 17s 14ms/step - loss: 0.0659 - accuracy: 0.9718 - val_loss: 0.0481 - val_accuracy: 0.9811\n",
            "Epoch 89/100\n",
            "1249/1250 [============================>.] - ETA: 0s - loss: 0.0663 - accuracy: 0.9716\n",
            "Epoch 89: accuracy did not improve from 0.97176\n",
            "1250/1250 [==============================] - 27s 22ms/step - loss: 0.0663 - accuracy: 0.9716 - val_loss: 0.0482 - val_accuracy: 0.9810\n",
            "Epoch 90/100\n",
            "1246/1250 [============================>.] - ETA: 0s - loss: 0.0674 - accuracy: 0.9718\n",
            "Epoch 90: accuracy did not improve from 0.97176\n",
            "1250/1250 [==============================] - 17s 14ms/step - loss: 0.0675 - accuracy: 0.9718 - val_loss: 0.0477 - val_accuracy: 0.9812\n",
            "Epoch 91/100\n",
            "1247/1250 [============================>.] - ETA: 0s - loss: 0.0663 - accuracy: 0.9719\n",
            "Epoch 91: accuracy improved from 0.97176 to 0.97194, saving model to /content/drive/Shareddrives/DEAP EEG/Models Saved/Valence/Train_Test_Split_MDPI/20_80_Train_Test/weights-improvement-91-0.9719.hdf5\n",
            "1250/1250 [==============================] - 27s 22ms/step - loss: 0.0662 - accuracy: 0.9719 - val_loss: 0.0474 - val_accuracy: 0.9820\n",
            "Epoch 92/100\n",
            "1243/1250 [============================>.] - ETA: 0s - loss: 0.0663 - accuracy: 0.9719\n",
            "Epoch 92: accuracy improved from 0.97194 to 0.97196, saving model to /content/drive/Shareddrives/DEAP EEG/Models Saved/Valence/Train_Test_Split_MDPI/20_80_Train_Test/weights-improvement-92-0.9720.hdf5\n",
            "1250/1250 [==============================] - 17s 14ms/step - loss: 0.0662 - accuracy: 0.9720 - val_loss: 0.0444 - val_accuracy: 0.9832\n",
            "Epoch 93/100\n",
            "1246/1250 [============================>.] - ETA: 0s - loss: 0.0674 - accuracy: 0.9713\n",
            "Epoch 93: accuracy did not improve from 0.97196\n",
            "1250/1250 [==============================] - 27s 22ms/step - loss: 0.0673 - accuracy: 0.9713 - val_loss: 0.0436 - val_accuracy: 0.9835\n",
            "Epoch 94/100\n",
            "1250/1250 [==============================] - ETA: 0s - loss: 0.0654 - accuracy: 0.9722\n",
            "Epoch 94: accuracy improved from 0.97196 to 0.97219, saving model to /content/drive/Shareddrives/DEAP EEG/Models Saved/Valence/Train_Test_Split_MDPI/20_80_Train_Test/weights-improvement-94-0.9722.hdf5\n",
            "1250/1250 [==============================] - 27s 22ms/step - loss: 0.0654 - accuracy: 0.9722 - val_loss: 0.0455 - val_accuracy: 0.9826\n",
            "Epoch 95/100\n",
            "1250/1250 [==============================] - ETA: 0s - loss: 0.0659 - accuracy: 0.9727\n",
            "Epoch 95: accuracy improved from 0.97219 to 0.97267, saving model to /content/drive/Shareddrives/DEAP EEG/Models Saved/Valence/Train_Test_Split_MDPI/20_80_Train_Test/weights-improvement-95-0.9727.hdf5\n",
            "1250/1250 [==============================] - 17s 14ms/step - loss: 0.0659 - accuracy: 0.9727 - val_loss: 0.0440 - val_accuracy: 0.9831\n",
            "Epoch 96/100\n",
            "1243/1250 [============================>.] - ETA: 0s - loss: 0.0649 - accuracy: 0.9719\n",
            "Epoch 96: accuracy did not improve from 0.97267\n",
            "1250/1250 [==============================] - 18s 14ms/step - loss: 0.0650 - accuracy: 0.9718 - val_loss: 0.0494 - val_accuracy: 0.9820\n",
            "Epoch 97/100\n",
            "1241/1250 [============================>.] - ETA: 0s - loss: 0.0655 - accuracy: 0.9721\n",
            "Epoch 97: accuracy did not improve from 0.97267\n",
            "1250/1250 [==============================] - 17s 14ms/step - loss: 0.0657 - accuracy: 0.9720 - val_loss: 0.0458 - val_accuracy: 0.9827\n",
            "Epoch 98/100\n",
            "1243/1250 [============================>.] - ETA: 0s - loss: 0.0649 - accuracy: 0.9726\n",
            "Epoch 98: accuracy did not improve from 0.97267\n",
            "1250/1250 [==============================] - 27s 22ms/step - loss: 0.0649 - accuracy: 0.9726 - val_loss: 0.0442 - val_accuracy: 0.9834\n",
            "Epoch 99/100\n",
            "1243/1250 [============================>.] - ETA: 0s - loss: 0.0630 - accuracy: 0.9735\n",
            "Epoch 99: accuracy improved from 0.97267 to 0.97352, saving model to /content/drive/Shareddrives/DEAP EEG/Models Saved/Valence/Train_Test_Split_MDPI/20_80_Train_Test/weights-improvement-99-0.9735.hdf5\n",
            "1250/1250 [==============================] - 27s 22ms/step - loss: 0.0630 - accuracy: 0.9735 - val_loss: 0.0423 - val_accuracy: 0.9840\n",
            "Epoch 100/100\n",
            "1247/1250 [============================>.] - ETA: 0s - loss: 0.0619 - accuracy: 0.9739\n",
            "Epoch 100: accuracy improved from 0.97352 to 0.97391, saving model to /content/drive/Shareddrives/DEAP EEG/Models Saved/Valence/Train_Test_Split_MDPI/20_80_Train_Test/weights-improvement-100-0.9739.hdf5\n",
            "1250/1250 [==============================] - 27s 22ms/step - loss: 0.0618 - accuracy: 0.9739 - val_loss: 0.0439 - val_accuracy: 0.9835\n",
            "CPU times: user 34min 7s, sys: 3min 37s, total: 37min 44s\n",
            "Wall time: 43min 22s\n"
          ]
        }
      ]
    },
    {
      "cell_type": "code",
      "source": [
        "%%time\n",
        "score = model.evaluate(x_test, y_test, verbose=1)\n",
        "print('Test loss:', score[0])\n",
        "print('Test accuracy:', score[1])"
      ],
      "metadata": {
        "colab": {
          "base_uri": "https://localhost:8080/"
        },
        "id": "aWNBf8IwK16A",
        "outputId": "e29fcef4-b9f1-44b2-b331-d1a462106ad2"
      },
      "execution_count": null,
      "outputs": [
        {
          "output_type": "stream",
          "name": "stdout",
          "text": [
            "15616/15616 [==============================] - 44s 3ms/step - loss: 0.0439 - accuracy: 0.9835\n",
            "Test loss: 0.04386339709162712\n",
            "Test accuracy: 0.9835125207901001\n",
            "CPU times: user 47 s, sys: 4.71 s, total: 51.7 s\n",
            "Wall time: 44 s\n"
          ]
        }
      ]
    },
    {
      "cell_type": "code",
      "source": [
        "with open('/content/drive/Shareddrives/DEAP EEG/Models Saved/Valence/Train_Test_Split_MDPI/20_80_Train_Test/history', 'wb') as file_pi:\n",
        "        pickle.dump(H.history, file_pi)"
      ],
      "metadata": {
        "id": "ABvmERWRK96G"
      },
      "execution_count": null,
      "outputs": []
    },
    {
      "cell_type": "markdown",
      "source": [
        "**train 10% test 90%**"
      ],
      "metadata": {
        "id": "Pdy8F2nj-gNM"
      }
    },
    {
      "cell_type": "code",
      "source": [
        "# check points and early stopping\n",
        "from keras.callbacks import ModelCheckpoint,EarlyStopping\n",
        "\n",
        "model_name = \"\"\n",
        "filepath=\"/content/drive/Shareddrives/DEAP EEG/Models Saved/Valence/Train_Test_Split_MDPI/10_90_Train_Test/\"  + model_name + \"weights-improvement-{epoch:02d}-{accuracy:.4f}.hdf5\"\n",
        "print(filepath)\n",
        "checkpoint = ModelCheckpoint(filepath, monitor='accuracy', verbose=1, save_best_only=True, mode='max')\n",
        "es = EarlyStopping(monitor='accuracy', mode='max', verbose=1, patience=10)\n",
        "callbacks_list = [es, checkpoint]"
      ],
      "metadata": {
        "colab": {
          "base_uri": "https://localhost:8080/"
        },
        "id": "d7Oi8zr2-gd6",
        "outputId": "f584f581-1e5a-47aa-bca0-4aa47311e1a6"
      },
      "execution_count": null,
      "outputs": [
        {
          "output_type": "stream",
          "name": "stdout",
          "text": [
            "/content/drive/Shareddrives/DEAP EEG/Models Saved/Valence/Train_Test_Split_MDPI/10_90_Train_Test/weights-improvement-{epoch:02d}-{accuracy:.4f}.hdf5\n"
          ]
        }
      ]
    },
    {
      "cell_type": "code",
      "source": [
        "%%time\n",
        "H = model.fit(x_train, y_train,\n",
        "          batch_size=100,\n",
        "          epochs=100,\n",
        "          verbose=1,\n",
        "          validation_data=(x_test, y_test),\n",
        "          callbacks= callbacks_list)"
      ],
      "metadata": {
        "colab": {
          "base_uri": "https://localhost:8080/"
        },
        "id": "eDKBD6Wo-mI5",
        "outputId": "51a1f1bb-71c9-42e9-da6b-6dede684f2f3"
      },
      "execution_count": null,
      "outputs": [
        {
          "output_type": "stream",
          "name": "stdout",
          "text": [
            "Epoch 1/100\n",
            "625/625 [==============================] - ETA: 0s - loss: 0.4317 - accuracy: 0.7975\n",
            "Epoch 1: accuracy improved from -inf to 0.79745, saving model to /content/drive/Shareddrives/DEAP EEG/Models Saved/Valence/Train_Test_Split_MDPI/10_90_Train_Test/weights-improvement-01-0.7975.hdf5\n",
            "625/625 [==============================] - 27s 41ms/step - loss: 0.4317 - accuracy: 0.7975 - val_loss: 0.3581 - val_accuracy: 0.8384\n",
            "Epoch 2/100\n",
            "623/625 [============================>.] - ETA: 0s - loss: 0.3516 - accuracy: 0.8390\n",
            "Epoch 2: accuracy improved from 0.79745 to 0.83896, saving model to /content/drive/Shareddrives/DEAP EEG/Models Saved/Valence/Train_Test_Split_MDPI/10_90_Train_Test/weights-improvement-02-0.8390.hdf5\n",
            "625/625 [==============================] - 26s 41ms/step - loss: 0.3516 - accuracy: 0.8390 - val_loss: 0.3135 - val_accuracy: 0.8600\n",
            "Epoch 3/100\n",
            "619/625 [============================>.] - ETA: 0s - loss: 0.3147 - accuracy: 0.8560\n",
            "Epoch 3: accuracy improved from 0.83896 to 0.85622, saving model to /content/drive/Shareddrives/DEAP EEG/Models Saved/Valence/Train_Test_Split_MDPI/10_90_Train_Test/weights-improvement-03-0.8562.hdf5\n",
            "625/625 [==============================] - 21s 34ms/step - loss: 0.3145 - accuracy: 0.8562 - val_loss: 0.2808 - val_accuracy: 0.8733\n",
            "Epoch 4/100\n",
            "624/625 [============================>.] - ETA: 0s - loss: 0.2858 - accuracy: 0.8687\n",
            "Epoch 4: accuracy improved from 0.85622 to 0.86874, saving model to /content/drive/Shareddrives/DEAP EEG/Models Saved/Valence/Train_Test_Split_MDPI/10_90_Train_Test/weights-improvement-04-0.8687.hdf5\n",
            "625/625 [==============================] - 25s 40ms/step - loss: 0.2859 - accuracy: 0.8687 - val_loss: 0.2467 - val_accuracy: 0.8920\n",
            "Epoch 5/100\n",
            "619/625 [============================>.] - ETA: 0s - loss: 0.2618 - accuracy: 0.8784\n",
            "Epoch 5: accuracy improved from 0.86874 to 0.87835, saving model to /content/drive/Shareddrives/DEAP EEG/Models Saved/Valence/Train_Test_Split_MDPI/10_90_Train_Test/weights-improvement-05-0.8783.hdf5\n",
            "625/625 [==============================] - 20s 33ms/step - loss: 0.2620 - accuracy: 0.8783 - val_loss: 0.2265 - val_accuracy: 0.8984\n",
            "Epoch 6/100\n",
            "623/625 [============================>.] - ETA: 0s - loss: 0.2456 - accuracy: 0.8863\n",
            "Epoch 6: accuracy improved from 0.87835 to 0.88624, saving model to /content/drive/Shareddrives/DEAP EEG/Models Saved/Valence/Train_Test_Split_MDPI/10_90_Train_Test/weights-improvement-06-0.8862.hdf5\n",
            "625/625 [==============================] - 25s 40ms/step - loss: 0.2457 - accuracy: 0.8862 - val_loss: 0.2109 - val_accuracy: 0.9050\n",
            "Epoch 7/100\n",
            "624/625 [============================>.] - ETA: 0s - loss: 0.2282 - accuracy: 0.8923\n",
            "Epoch 7: accuracy improved from 0.88624 to 0.89227, saving model to /content/drive/Shareddrives/DEAP EEG/Models Saved/Valence/Train_Test_Split_MDPI/10_90_Train_Test/weights-improvement-07-0.8923.hdf5\n",
            "625/625 [==============================] - 25s 40ms/step - loss: 0.2283 - accuracy: 0.8923 - val_loss: 0.1998 - val_accuracy: 0.9099\n",
            "Epoch 8/100\n",
            "620/625 [============================>.] - ETA: 0s - loss: 0.2154 - accuracy: 0.8975\n",
            "Epoch 8: accuracy improved from 0.89227 to 0.89759, saving model to /content/drive/Shareddrives/DEAP EEG/Models Saved/Valence/Train_Test_Split_MDPI/10_90_Train_Test/weights-improvement-08-0.8976.hdf5\n",
            "625/625 [==============================] - 25s 40ms/step - loss: 0.2152 - accuracy: 0.8976 - val_loss: 0.1880 - val_accuracy: 0.9160\n",
            "Epoch 9/100\n",
            "622/625 [============================>.] - ETA: 0s - loss: 0.2061 - accuracy: 0.9026\n",
            "Epoch 9: accuracy improved from 0.89759 to 0.90252, saving model to /content/drive/Shareddrives/DEAP EEG/Models Saved/Valence/Train_Test_Split_MDPI/10_90_Train_Test/weights-improvement-09-0.9025.hdf5\n",
            "625/625 [==============================] - 25s 40ms/step - loss: 0.2061 - accuracy: 0.9025 - val_loss: 0.1845 - val_accuracy: 0.9174\n",
            "Epoch 10/100\n",
            "625/625 [==============================] - ETA: 0s - loss: 0.1948 - accuracy: 0.9062\n",
            "Epoch 10: accuracy improved from 0.90252 to 0.90622, saving model to /content/drive/Shareddrives/DEAP EEG/Models Saved/Valence/Train_Test_Split_MDPI/10_90_Train_Test/weights-improvement-10-0.9062.hdf5\n",
            "625/625 [==============================] - 21s 33ms/step - loss: 0.1948 - accuracy: 0.9062 - val_loss: 0.1693 - val_accuracy: 0.9224\n",
            "Epoch 11/100\n",
            "622/625 [============================>.] - ETA: 0s - loss: 0.1853 - accuracy: 0.9104\n",
            "Epoch 11: accuracy improved from 0.90622 to 0.91052, saving model to /content/drive/Shareddrives/DEAP EEG/Models Saved/Valence/Train_Test_Split_MDPI/10_90_Train_Test/weights-improvement-11-0.9105.hdf5\n",
            "625/625 [==============================] - 25s 40ms/step - loss: 0.1852 - accuracy: 0.9105 - val_loss: 0.1577 - val_accuracy: 0.9281\n",
            "Epoch 12/100\n",
            "619/625 [============================>.] - ETA: 0s - loss: 0.1781 - accuracy: 0.9142\n",
            "Epoch 12: accuracy improved from 0.91052 to 0.91421, saving model to /content/drive/Shareddrives/DEAP EEG/Models Saved/Valence/Train_Test_Split_MDPI/10_90_Train_Test/weights-improvement-12-0.9142.hdf5\n",
            "625/625 [==============================] - 20s 32ms/step - loss: 0.1781 - accuracy: 0.9142 - val_loss: 0.1578 - val_accuracy: 0.9281\n",
            "Epoch 13/100\n",
            "624/625 [============================>.] - ETA: 0s - loss: 0.1736 - accuracy: 0.9154\n",
            "Epoch 13: accuracy improved from 0.91421 to 0.91539, saving model to /content/drive/Shareddrives/DEAP EEG/Models Saved/Valence/Train_Test_Split_MDPI/10_90_Train_Test/weights-improvement-13-0.9154.hdf5\n",
            "625/625 [==============================] - 20s 32ms/step - loss: 0.1736 - accuracy: 0.9154 - val_loss: 0.1537 - val_accuracy: 0.9302\n",
            "Epoch 14/100\n",
            "619/625 [============================>.] - ETA: 0s - loss: 0.1663 - accuracy: 0.9191\n",
            "Epoch 14: accuracy improved from 0.91539 to 0.91903, saving model to /content/drive/Shareddrives/DEAP EEG/Models Saved/Valence/Train_Test_Split_MDPI/10_90_Train_Test/weights-improvement-14-0.9190.hdf5\n",
            "625/625 [==============================] - 25s 40ms/step - loss: 0.1663 - accuracy: 0.9190 - val_loss: 0.1440 - val_accuracy: 0.9352\n",
            "Epoch 15/100\n",
            "620/625 [============================>.] - ETA: 0s - loss: 0.1625 - accuracy: 0.9207\n",
            "Epoch 15: accuracy improved from 0.91903 to 0.92061, saving model to /content/drive/Shareddrives/DEAP EEG/Models Saved/Valence/Train_Test_Split_MDPI/10_90_Train_Test/weights-improvement-15-0.9206.hdf5\n",
            "625/625 [==============================] - 20s 32ms/step - loss: 0.1626 - accuracy: 0.9206 - val_loss: 0.1402 - val_accuracy: 0.9369\n",
            "Epoch 16/100\n",
            "621/625 [============================>.] - ETA: 0s - loss: 0.1570 - accuracy: 0.9241\n",
            "Epoch 16: accuracy improved from 0.92061 to 0.92416, saving model to /content/drive/Shareddrives/DEAP EEG/Models Saved/Valence/Train_Test_Split_MDPI/10_90_Train_Test/weights-improvement-16-0.9242.hdf5\n",
            "625/625 [==============================] - 20s 32ms/step - loss: 0.1570 - accuracy: 0.9242 - val_loss: 0.1369 - val_accuracy: 0.9365\n",
            "Epoch 17/100\n",
            "623/625 [============================>.] - ETA: 0s - loss: 0.1517 - accuracy: 0.9273\n",
            "Epoch 17: accuracy improved from 0.92416 to 0.92729, saving model to /content/drive/Shareddrives/DEAP EEG/Models Saved/Valence/Train_Test_Split_MDPI/10_90_Train_Test/weights-improvement-17-0.9273.hdf5\n",
            "625/625 [==============================] - 25s 40ms/step - loss: 0.1517 - accuracy: 0.9273 - val_loss: 0.1336 - val_accuracy: 0.9387\n",
            "Epoch 18/100\n",
            "622/625 [============================>.] - ETA: 0s - loss: 0.1465 - accuracy: 0.9290\n",
            "Epoch 18: accuracy improved from 0.92729 to 0.92890, saving model to /content/drive/Shareddrives/DEAP EEG/Models Saved/Valence/Train_Test_Split_MDPI/10_90_Train_Test/weights-improvement-18-0.9289.hdf5\n",
            "625/625 [==============================] - 20s 32ms/step - loss: 0.1465 - accuracy: 0.9289 - val_loss: 0.1386 - val_accuracy: 0.9360\n",
            "Epoch 19/100\n",
            "622/625 [============================>.] - ETA: 0s - loss: 0.1462 - accuracy: 0.9290\n",
            "Epoch 19: accuracy improved from 0.92890 to 0.92902, saving model to /content/drive/Shareddrives/DEAP EEG/Models Saved/Valence/Train_Test_Split_MDPI/10_90_Train_Test/weights-improvement-19-0.9290.hdf5\n",
            "625/625 [==============================] - 26s 41ms/step - loss: 0.1461 - accuracy: 0.9290 - val_loss: 0.1267 - val_accuracy: 0.9414\n",
            "Epoch 20/100\n",
            "620/625 [============================>.] - ETA: 0s - loss: 0.1448 - accuracy: 0.9290\n",
            "Epoch 20: accuracy did not improve from 0.92902\n",
            "625/625 [==============================] - 25s 40ms/step - loss: 0.1448 - accuracy: 0.9290 - val_loss: 0.1245 - val_accuracy: 0.9425\n",
            "Epoch 21/100\n",
            "623/625 [============================>.] - ETA: 0s - loss: 0.1382 - accuracy: 0.9313\n",
            "Epoch 21: accuracy improved from 0.92902 to 0.93137, saving model to /content/drive/Shareddrives/DEAP EEG/Models Saved/Valence/Train_Test_Split_MDPI/10_90_Train_Test/weights-improvement-21-0.9314.hdf5\n",
            "625/625 [==============================] - 20s 32ms/step - loss: 0.1382 - accuracy: 0.9314 - val_loss: 0.1219 - val_accuracy: 0.9437\n",
            "Epoch 22/100\n",
            "620/625 [============================>.] - ETA: 0s - loss: 0.1364 - accuracy: 0.9335\n",
            "Epoch 22: accuracy improved from 0.93137 to 0.93347, saving model to /content/drive/Shareddrives/DEAP EEG/Models Saved/Valence/Train_Test_Split_MDPI/10_90_Train_Test/weights-improvement-22-0.9335.hdf5\n",
            "625/625 [==============================] - 25s 40ms/step - loss: 0.1365 - accuracy: 0.9335 - val_loss: 0.1271 - val_accuracy: 0.9423\n",
            "Epoch 23/100\n",
            "623/625 [============================>.] - ETA: 0s - loss: 0.1335 - accuracy: 0.9346\n",
            "Epoch 23: accuracy improved from 0.93347 to 0.93460, saving model to /content/drive/Shareddrives/DEAP EEG/Models Saved/Valence/Train_Test_Split_MDPI/10_90_Train_Test/weights-improvement-23-0.9346.hdf5\n",
            "625/625 [==============================] - 25s 40ms/step - loss: 0.1335 - accuracy: 0.9346 - val_loss: 0.1171 - val_accuracy: 0.9471\n",
            "Epoch 24/100\n",
            "621/625 [============================>.] - ETA: 0s - loss: 0.1347 - accuracy: 0.9344\n",
            "Epoch 24: accuracy did not improve from 0.93460\n",
            "625/625 [==============================] - 25s 40ms/step - loss: 0.1347 - accuracy: 0.9344 - val_loss: 0.1190 - val_accuracy: 0.9453\n",
            "Epoch 25/100\n",
            "623/625 [============================>.] - ETA: 0s - loss: 0.1311 - accuracy: 0.9360\n",
            "Epoch 25: accuracy improved from 0.93460 to 0.93606, saving model to /content/drive/Shareddrives/DEAP EEG/Models Saved/Valence/Train_Test_Split_MDPI/10_90_Train_Test/weights-improvement-25-0.9361.hdf5\n",
            "625/625 [==============================] - 21s 34ms/step - loss: 0.1310 - accuracy: 0.9361 - val_loss: 0.1168 - val_accuracy: 0.9482\n",
            "Epoch 26/100\n",
            "625/625 [==============================] - ETA: 0s - loss: 0.1283 - accuracy: 0.9364\n",
            "Epoch 26: accuracy improved from 0.93606 to 0.93640, saving model to /content/drive/Shareddrives/DEAP EEG/Models Saved/Valence/Train_Test_Split_MDPI/10_90_Train_Test/weights-improvement-26-0.9364.hdf5\n",
            "625/625 [==============================] - 21s 33ms/step - loss: 0.1283 - accuracy: 0.9364 - val_loss: 0.1146 - val_accuracy: 0.9476\n",
            "Epoch 27/100\n",
            "624/625 [============================>.] - ETA: 0s - loss: 0.1250 - accuracy: 0.9392\n",
            "Epoch 27: accuracy improved from 0.93640 to 0.93920, saving model to /content/drive/Shareddrives/DEAP EEG/Models Saved/Valence/Train_Test_Split_MDPI/10_90_Train_Test/weights-improvement-27-0.9392.hdf5\n",
            "625/625 [==============================] - 25s 40ms/step - loss: 0.1250 - accuracy: 0.9392 - val_loss: 0.1138 - val_accuracy: 0.9490\n",
            "Epoch 28/100\n",
            "621/625 [============================>.] - ETA: 0s - loss: 0.1237 - accuracy: 0.9400\n",
            "Epoch 28: accuracy improved from 0.93920 to 0.93997, saving model to /content/drive/Shareddrives/DEAP EEG/Models Saved/Valence/Train_Test_Split_MDPI/10_90_Train_Test/weights-improvement-28-0.9400.hdf5\n",
            "625/625 [==============================] - 20s 32ms/step - loss: 0.1239 - accuracy: 0.9400 - val_loss: 0.1130 - val_accuracy: 0.9494\n",
            "Epoch 29/100\n",
            "624/625 [============================>.] - ETA: 0s - loss: 0.1241 - accuracy: 0.9386\n",
            "Epoch 29: accuracy did not improve from 0.93997\n",
            "625/625 [==============================] - 20s 32ms/step - loss: 0.1241 - accuracy: 0.9386 - val_loss: 0.1156 - val_accuracy: 0.9482\n",
            "Epoch 30/100\n",
            "621/625 [============================>.] - ETA: 0s - loss: 0.1209 - accuracy: 0.9408\n",
            "Epoch 30: accuracy improved from 0.93997 to 0.94080, saving model to /content/drive/Shareddrives/DEAP EEG/Models Saved/Valence/Train_Test_Split_MDPI/10_90_Train_Test/weights-improvement-30-0.9408.hdf5\n",
            "625/625 [==============================] - 25s 40ms/step - loss: 0.1210 - accuracy: 0.9408 - val_loss: 0.1238 - val_accuracy: 0.9465\n",
            "Epoch 31/100\n",
            "624/625 [============================>.] - ETA: 0s - loss: 0.1193 - accuracy: 0.9413\n",
            "Epoch 31: accuracy improved from 0.94080 to 0.94134, saving model to /content/drive/Shareddrives/DEAP EEG/Models Saved/Valence/Train_Test_Split_MDPI/10_90_Train_Test/weights-improvement-31-0.9413.hdf5\n",
            "625/625 [==============================] - 20s 32ms/step - loss: 0.1193 - accuracy: 0.9413 - val_loss: 0.1085 - val_accuracy: 0.9508\n",
            "Epoch 32/100\n",
            "621/625 [============================>.] - ETA: 0s - loss: 0.1184 - accuracy: 0.9422\n",
            "Epoch 32: accuracy improved from 0.94134 to 0.94205, saving model to /content/drive/Shareddrives/DEAP EEG/Models Saved/Valence/Train_Test_Split_MDPI/10_90_Train_Test/weights-improvement-32-0.9420.hdf5\n",
            "625/625 [==============================] - 20s 32ms/step - loss: 0.1185 - accuracy: 0.9420 - val_loss: 0.1130 - val_accuracy: 0.9495\n",
            "Epoch 33/100\n",
            "620/625 [============================>.] - ETA: 0s - loss: 0.1182 - accuracy: 0.9428\n",
            "Epoch 33: accuracy improved from 0.94205 to 0.94288, saving model to /content/drive/Shareddrives/DEAP EEG/Models Saved/Valence/Train_Test_Split_MDPI/10_90_Train_Test/weights-improvement-33-0.9429.hdf5\n",
            "625/625 [==============================] - 21s 34ms/step - loss: 0.1180 - accuracy: 0.9429 - val_loss: 0.1040 - val_accuracy: 0.9537\n",
            "Epoch 34/100\n",
            "621/625 [============================>.] - ETA: 0s - loss: 0.1165 - accuracy: 0.9433\n",
            "Epoch 34: accuracy improved from 0.94288 to 0.94330, saving model to /content/drive/Shareddrives/DEAP EEG/Models Saved/Valence/Train_Test_Split_MDPI/10_90_Train_Test/weights-improvement-34-0.9433.hdf5\n",
            "625/625 [==============================] - 25s 40ms/step - loss: 0.1165 - accuracy: 0.9433 - val_loss: 0.1132 - val_accuracy: 0.9488\n",
            "Epoch 35/100\n",
            "625/625 [==============================] - ETA: 0s - loss: 0.1146 - accuracy: 0.9452\n",
            "Epoch 35: accuracy improved from 0.94330 to 0.94517, saving model to /content/drive/Shareddrives/DEAP EEG/Models Saved/Valence/Train_Test_Split_MDPI/10_90_Train_Test/weights-improvement-35-0.9452.hdf5\n",
            "625/625 [==============================] - 21s 33ms/step - loss: 0.1146 - accuracy: 0.9452 - val_loss: 0.1028 - val_accuracy: 0.9547\n",
            "Epoch 36/100\n",
            "623/625 [============================>.] - ETA: 0s - loss: 0.1123 - accuracy: 0.9457\n",
            "Epoch 36: accuracy improved from 0.94517 to 0.94566, saving model to /content/drive/Shareddrives/DEAP EEG/Models Saved/Valence/Train_Test_Split_MDPI/10_90_Train_Test/weights-improvement-36-0.9457.hdf5\n",
            "625/625 [==============================] - 25s 40ms/step - loss: 0.1123 - accuracy: 0.9457 - val_loss: 0.1069 - val_accuracy: 0.9536\n",
            "Epoch 37/100\n",
            "621/625 [============================>.] - ETA: 0s - loss: 0.1113 - accuracy: 0.9460\n",
            "Epoch 37: accuracy improved from 0.94566 to 0.94597, saving model to /content/drive/Shareddrives/DEAP EEG/Models Saved/Valence/Train_Test_Split_MDPI/10_90_Train_Test/weights-improvement-37-0.9460.hdf5\n",
            "625/625 [==============================] - 20s 32ms/step - loss: 0.1112 - accuracy: 0.9460 - val_loss: 0.1045 - val_accuracy: 0.9545\n",
            "Epoch 38/100\n",
            "623/625 [============================>.] - ETA: 0s - loss: 0.1113 - accuracy: 0.9455\n",
            "Epoch 38: accuracy did not improve from 0.94597\n",
            "625/625 [==============================] - 20s 32ms/step - loss: 0.1114 - accuracy: 0.9454 - val_loss: 0.1026 - val_accuracy: 0.9547\n",
            "Epoch 39/100\n",
            "623/625 [============================>.] - ETA: 0s - loss: 0.1078 - accuracy: 0.9469\n",
            "Epoch 39: accuracy improved from 0.94597 to 0.94682, saving model to /content/drive/Shareddrives/DEAP EEG/Models Saved/Valence/Train_Test_Split_MDPI/10_90_Train_Test/weights-improvement-39-0.9468.hdf5\n",
            "625/625 [==============================] - 20s 33ms/step - loss: 0.1079 - accuracy: 0.9468 - val_loss: 0.1001 - val_accuracy: 0.9559\n",
            "Epoch 40/100\n",
            "624/625 [============================>.] - ETA: 0s - loss: 0.1070 - accuracy: 0.9471\n",
            "Epoch 40: accuracy improved from 0.94682 to 0.94706, saving model to /content/drive/Shareddrives/DEAP EEG/Models Saved/Valence/Train_Test_Split_MDPI/10_90_Train_Test/weights-improvement-40-0.9471.hdf5\n",
            "625/625 [==============================] - 25s 40ms/step - loss: 0.1071 - accuracy: 0.9471 - val_loss: 0.0988 - val_accuracy: 0.9561\n",
            "Epoch 41/100\n",
            "622/625 [============================>.] - ETA: 0s - loss: 0.1077 - accuracy: 0.9474\n",
            "Epoch 41: accuracy improved from 0.94706 to 0.94739, saving model to /content/drive/Shareddrives/DEAP EEG/Models Saved/Valence/Train_Test_Split_MDPI/10_90_Train_Test/weights-improvement-41-0.9474.hdf5\n",
            "625/625 [==============================] - 20s 33ms/step - loss: 0.1076 - accuracy: 0.9474 - val_loss: 0.0997 - val_accuracy: 0.9566\n",
            "Epoch 42/100\n",
            "622/625 [============================>.] - ETA: 0s - loss: 0.1095 - accuracy: 0.9464\n",
            "Epoch 42: accuracy did not improve from 0.94739\n",
            "625/625 [==============================] - 25s 40ms/step - loss: 0.1095 - accuracy: 0.9464 - val_loss: 0.0987 - val_accuracy: 0.9576\n",
            "Epoch 43/100\n",
            "618/625 [============================>.] - ETA: 0s - loss: 0.1064 - accuracy: 0.9476\n",
            "Epoch 43: accuracy improved from 0.94739 to 0.94765, saving model to /content/drive/Shareddrives/DEAP EEG/Models Saved/Valence/Train_Test_Split_MDPI/10_90_Train_Test/weights-improvement-43-0.9476.hdf5\n",
            "625/625 [==============================] - 20s 33ms/step - loss: 0.1064 - accuracy: 0.9476 - val_loss: 0.0999 - val_accuracy: 0.9568\n",
            "Epoch 44/100\n",
            "618/625 [============================>.] - ETA: 0s - loss: 0.1044 - accuracy: 0.9497\n",
            "Epoch 44: accuracy improved from 0.94765 to 0.94968, saving model to /content/drive/Shareddrives/DEAP EEG/Models Saved/Valence/Train_Test_Split_MDPI/10_90_Train_Test/weights-improvement-44-0.9497.hdf5\n",
            "625/625 [==============================] - 20s 32ms/step - loss: 0.1042 - accuracy: 0.9497 - val_loss: 0.0956 - val_accuracy: 0.9591\n",
            "Epoch 45/100\n",
            "619/625 [============================>.] - ETA: 0s - loss: 0.1038 - accuracy: 0.9496\n",
            "Epoch 45: accuracy did not improve from 0.94968\n",
            "625/625 [==============================] - 20s 32ms/step - loss: 0.1040 - accuracy: 0.9495 - val_loss: 0.0971 - val_accuracy: 0.9575\n",
            "Epoch 46/100\n",
            "620/625 [============================>.] - ETA: 0s - loss: 0.1030 - accuracy: 0.9498\n",
            "Epoch 46: accuracy improved from 0.94968 to 0.94981, saving model to /content/drive/Shareddrives/DEAP EEG/Models Saved/Valence/Train_Test_Split_MDPI/10_90_Train_Test/weights-improvement-46-0.9498.hdf5\n",
            "625/625 [==============================] - 25s 40ms/step - loss: 0.1030 - accuracy: 0.9498 - val_loss: 0.0960 - val_accuracy: 0.9588\n",
            "Epoch 47/100\n",
            "622/625 [============================>.] - ETA: 0s - loss: 0.1007 - accuracy: 0.9499\n",
            "Epoch 47: accuracy did not improve from 0.94981\n",
            "625/625 [==============================] - 25s 40ms/step - loss: 0.1008 - accuracy: 0.9498 - val_loss: 0.0978 - val_accuracy: 0.9581\n",
            "Epoch 48/100\n",
            "619/625 [============================>.] - ETA: 0s - loss: 0.1033 - accuracy: 0.9498\n",
            "Epoch 48: accuracy improved from 0.94981 to 0.94984, saving model to /content/drive/Shareddrives/DEAP EEG/Models Saved/Valence/Train_Test_Split_MDPI/10_90_Train_Test/weights-improvement-48-0.9498.hdf5\n",
            "625/625 [==============================] - 25s 40ms/step - loss: 0.1033 - accuracy: 0.9498 - val_loss: 0.0923 - val_accuracy: 0.9609\n",
            "Epoch 49/100\n",
            "621/625 [============================>.] - ETA: 0s - loss: 0.0994 - accuracy: 0.9515\n",
            "Epoch 49: accuracy improved from 0.94984 to 0.95152, saving model to /content/drive/Shareddrives/DEAP EEG/Models Saved/Valence/Train_Test_Split_MDPI/10_90_Train_Test/weights-improvement-49-0.9515.hdf5\n",
            "625/625 [==============================] - 20s 32ms/step - loss: 0.0995 - accuracy: 0.9515 - val_loss: 0.0950 - val_accuracy: 0.9592\n",
            "Epoch 50/100\n",
            "620/625 [============================>.] - ETA: 0s - loss: 0.0996 - accuracy: 0.9507\n",
            "Epoch 50: accuracy did not improve from 0.95152\n",
            "625/625 [==============================] - 20s 33ms/step - loss: 0.0998 - accuracy: 0.9507 - val_loss: 0.0926 - val_accuracy: 0.9606\n",
            "Epoch 51/100\n",
            "620/625 [============================>.] - ETA: 0s - loss: 0.0999 - accuracy: 0.9511\n",
            "Epoch 51: accuracy did not improve from 0.95152\n",
            "625/625 [==============================] - 20s 33ms/step - loss: 0.0998 - accuracy: 0.9511 - val_loss: 0.0976 - val_accuracy: 0.9602\n",
            "Epoch 52/100\n",
            "618/625 [============================>.] - ETA: 0s - loss: 0.0975 - accuracy: 0.9523\n",
            "Epoch 52: accuracy improved from 0.95152 to 0.95229, saving model to /content/drive/Shareddrives/DEAP EEG/Models Saved/Valence/Train_Test_Split_MDPI/10_90_Train_Test/weights-improvement-52-0.9523.hdf5\n",
            "625/625 [==============================] - 20s 32ms/step - loss: 0.0976 - accuracy: 0.9523 - val_loss: 0.0935 - val_accuracy: 0.9594\n",
            "Epoch 53/100\n",
            "623/625 [============================>.] - ETA: 0s - loss: 0.0979 - accuracy: 0.9517\n",
            "Epoch 53: accuracy did not improve from 0.95229\n",
            "625/625 [==============================] - 25s 40ms/step - loss: 0.0979 - accuracy: 0.9517 - val_loss: 0.0962 - val_accuracy: 0.9589\n",
            "Epoch 54/100\n",
            "624/625 [============================>.] - ETA: 0s - loss: 0.0992 - accuracy: 0.9517\n",
            "Epoch 54: accuracy did not improve from 0.95229\n",
            "625/625 [==============================] - 20s 32ms/step - loss: 0.0992 - accuracy: 0.9516 - val_loss: 0.0950 - val_accuracy: 0.9600\n",
            "Epoch 55/100\n",
            "625/625 [==============================] - ETA: 0s - loss: 0.0980 - accuracy: 0.9534\n",
            "Epoch 55: accuracy improved from 0.95229 to 0.95343, saving model to /content/drive/Shareddrives/DEAP EEG/Models Saved/Valence/Train_Test_Split_MDPI/10_90_Train_Test/weights-improvement-55-0.9534.hdf5\n",
            "625/625 [==============================] - 25s 40ms/step - loss: 0.0980 - accuracy: 0.9534 - val_loss: 0.0893 - val_accuracy: 0.9624\n",
            "Epoch 56/100\n",
            "621/625 [============================>.] - ETA: 0s - loss: 0.0937 - accuracy: 0.9542\n",
            "Epoch 56: accuracy improved from 0.95343 to 0.95417, saving model to /content/drive/Shareddrives/DEAP EEG/Models Saved/Valence/Train_Test_Split_MDPI/10_90_Train_Test/weights-improvement-56-0.9542.hdf5\n",
            "625/625 [==============================] - 25s 40ms/step - loss: 0.0938 - accuracy: 0.9542 - val_loss: 0.0923 - val_accuracy: 0.9613\n",
            "Epoch 57/100\n",
            "618/625 [============================>.] - ETA: 0s - loss: 0.0958 - accuracy: 0.9538\n",
            "Epoch 57: accuracy did not improve from 0.95417\n",
            "625/625 [==============================] - 25s 40ms/step - loss: 0.0955 - accuracy: 0.9540 - val_loss: 0.0941 - val_accuracy: 0.9594\n",
            "Epoch 58/100\n",
            "621/625 [============================>.] - ETA: 0s - loss: 0.0916 - accuracy: 0.9547\n",
            "Epoch 58: accuracy improved from 0.95417 to 0.95482, saving model to /content/drive/Shareddrives/DEAP EEG/Models Saved/Valence/Train_Test_Split_MDPI/10_90_Train_Test/weights-improvement-58-0.9548.hdf5\n",
            "625/625 [==============================] - 20s 32ms/step - loss: 0.0914 - accuracy: 0.9548 - val_loss: 0.0867 - val_accuracy: 0.9633\n",
            "Epoch 59/100\n",
            "618/625 [============================>.] - ETA: 0s - loss: 0.0943 - accuracy: 0.9544\n",
            "Epoch 59: accuracy did not improve from 0.95482\n",
            "625/625 [==============================] - 20s 32ms/step - loss: 0.0944 - accuracy: 0.9544 - val_loss: 0.0869 - val_accuracy: 0.9632\n",
            "Epoch 60/100\n",
            "621/625 [============================>.] - ETA: 0s - loss: 0.0928 - accuracy: 0.9550\n",
            "Epoch 60: accuracy improved from 0.95482 to 0.95508, saving model to /content/drive/Shareddrives/DEAP EEG/Models Saved/Valence/Train_Test_Split_MDPI/10_90_Train_Test/weights-improvement-60-0.9551.hdf5\n",
            "625/625 [==============================] - 25s 40ms/step - loss: 0.0926 - accuracy: 0.9551 - val_loss: 0.0951 - val_accuracy: 0.9581\n",
            "Epoch 61/100\n",
            "621/625 [============================>.] - ETA: 0s - loss: 0.0926 - accuracy: 0.9552\n",
            "Epoch 61: accuracy improved from 0.95508 to 0.95527, saving model to /content/drive/Shareddrives/DEAP EEG/Models Saved/Valence/Train_Test_Split_MDPI/10_90_Train_Test/weights-improvement-61-0.9553.hdf5\n",
            "625/625 [==============================] - 20s 32ms/step - loss: 0.0925 - accuracy: 0.9553 - val_loss: 0.0891 - val_accuracy: 0.9625\n",
            "Epoch 62/100\n",
            "623/625 [============================>.] - ETA: 0s - loss: 0.0918 - accuracy: 0.9548\n",
            "Epoch 62: accuracy did not improve from 0.95527\n",
            "625/625 [==============================] - 25s 40ms/step - loss: 0.0920 - accuracy: 0.9547 - val_loss: 0.0896 - val_accuracy: 0.9624\n",
            "Epoch 63/100\n",
            "625/625 [==============================] - ETA: 0s - loss: 0.0908 - accuracy: 0.9559\n",
            "Epoch 63: accuracy improved from 0.95527 to 0.95586, saving model to /content/drive/Shareddrives/DEAP EEG/Models Saved/Valence/Train_Test_Split_MDPI/10_90_Train_Test/weights-improvement-63-0.9559.hdf5\n",
            "625/625 [==============================] - 22s 35ms/step - loss: 0.0908 - accuracy: 0.9559 - val_loss: 0.0910 - val_accuracy: 0.9618\n",
            "Epoch 64/100\n",
            "624/625 [============================>.] - ETA: 0s - loss: 0.0937 - accuracy: 0.9545\n",
            "Epoch 64: accuracy did not improve from 0.95586\n",
            "625/625 [==============================] - 25s 40ms/step - loss: 0.0937 - accuracy: 0.9545 - val_loss: 0.0911 - val_accuracy: 0.9620\n",
            "Epoch 65/100\n",
            "618/625 [============================>.] - ETA: 0s - loss: 0.0903 - accuracy: 0.9561\n",
            "Epoch 65: accuracy improved from 0.95586 to 0.95597, saving model to /content/drive/Shareddrives/DEAP EEG/Models Saved/Valence/Train_Test_Split_MDPI/10_90_Train_Test/weights-improvement-65-0.9560.hdf5\n",
            "625/625 [==============================] - 20s 32ms/step - loss: 0.0904 - accuracy: 0.9560 - val_loss: 0.0907 - val_accuracy: 0.9611\n",
            "Epoch 66/100\n",
            "621/625 [============================>.] - ETA: 0s - loss: 0.0899 - accuracy: 0.9562\n",
            "Epoch 66: accuracy improved from 0.95597 to 0.95621, saving model to /content/drive/Shareddrives/DEAP EEG/Models Saved/Valence/Train_Test_Split_MDPI/10_90_Train_Test/weights-improvement-66-0.9562.hdf5\n",
            "625/625 [==============================] - 25s 40ms/step - loss: 0.0899 - accuracy: 0.9562 - val_loss: 0.0875 - val_accuracy: 0.9639\n",
            "Epoch 67/100\n",
            "625/625 [==============================] - ETA: 0s - loss: 0.0902 - accuracy: 0.9560\n",
            "Epoch 67: accuracy did not improve from 0.95621\n",
            "625/625 [==============================] - 25s 40ms/step - loss: 0.0902 - accuracy: 0.9560 - val_loss: 0.0894 - val_accuracy: 0.9640\n",
            "Epoch 68/100\n",
            "623/625 [============================>.] - ETA: 0s - loss: 0.0897 - accuracy: 0.9565\n",
            "Epoch 68: accuracy improved from 0.95621 to 0.95653, saving model to /content/drive/Shareddrives/DEAP EEG/Models Saved/Valence/Train_Test_Split_MDPI/10_90_Train_Test/weights-improvement-68-0.9565.hdf5\n",
            "625/625 [==============================] - 20s 32ms/step - loss: 0.0896 - accuracy: 0.9565 - val_loss: 0.0845 - val_accuracy: 0.9651\n",
            "Epoch 69/100\n",
            "623/625 [============================>.] - ETA: 0s - loss: 0.0876 - accuracy: 0.9565\n",
            "Epoch 69: accuracy did not improve from 0.95653\n",
            "625/625 [==============================] - 20s 32ms/step - loss: 0.0876 - accuracy: 0.9565 - val_loss: 0.0879 - val_accuracy: 0.9641\n",
            "Epoch 70/100\n",
            "621/625 [============================>.] - ETA: 0s - loss: 0.0885 - accuracy: 0.9574\n",
            "Epoch 70: accuracy improved from 0.95653 to 0.95734, saving model to /content/drive/Shareddrives/DEAP EEG/Models Saved/Valence/Train_Test_Split_MDPI/10_90_Train_Test/weights-improvement-70-0.9573.hdf5\n",
            "625/625 [==============================] - 25s 40ms/step - loss: 0.0886 - accuracy: 0.9573 - val_loss: 0.0894 - val_accuracy: 0.9636\n",
            "Epoch 71/100\n",
            "624/625 [============================>.] - ETA: 0s - loss: 0.0859 - accuracy: 0.9579\n",
            "Epoch 71: accuracy improved from 0.95734 to 0.95793, saving model to /content/drive/Shareddrives/DEAP EEG/Models Saved/Valence/Train_Test_Split_MDPI/10_90_Train_Test/weights-improvement-71-0.9579.hdf5\n",
            "625/625 [==============================] - 25s 40ms/step - loss: 0.0859 - accuracy: 0.9579 - val_loss: 0.0833 - val_accuracy: 0.9653\n",
            "Epoch 72/100\n",
            "619/625 [============================>.] - ETA: 0s - loss: 0.0867 - accuracy: 0.9579\n",
            "Epoch 72: accuracy did not improve from 0.95793\n",
            "625/625 [==============================] - 20s 33ms/step - loss: 0.0866 - accuracy: 0.9578 - val_loss: 0.0855 - val_accuracy: 0.9638\n",
            "Epoch 73/100\n",
            "623/625 [============================>.] - ETA: 0s - loss: 0.0871 - accuracy: 0.9581\n",
            "Epoch 73: accuracy improved from 0.95793 to 0.95812, saving model to /content/drive/Shareddrives/DEAP EEG/Models Saved/Valence/Train_Test_Split_MDPI/10_90_Train_Test/weights-improvement-73-0.9581.hdf5\n",
            "625/625 [==============================] - 25s 40ms/step - loss: 0.0870 - accuracy: 0.9581 - val_loss: 0.0927 - val_accuracy: 0.9614\n",
            "Epoch 74/100\n",
            "622/625 [============================>.] - ETA: 0s - loss: 0.0846 - accuracy: 0.9597\n",
            "Epoch 74: accuracy improved from 0.95812 to 0.95964, saving model to /content/drive/Shareddrives/DEAP EEG/Models Saved/Valence/Train_Test_Split_MDPI/10_90_Train_Test/weights-improvement-74-0.9596.hdf5\n",
            "625/625 [==============================] - 25s 40ms/step - loss: 0.0847 - accuracy: 0.9596 - val_loss: 0.0858 - val_accuracy: 0.9640\n",
            "Epoch 75/100\n",
            "623/625 [============================>.] - ETA: 0s - loss: 0.0865 - accuracy: 0.9579\n",
            "Epoch 75: accuracy did not improve from 0.95964\n",
            "625/625 [==============================] - 25s 40ms/step - loss: 0.0866 - accuracy: 0.9579 - val_loss: 0.0878 - val_accuracy: 0.9637\n",
            "Epoch 76/100\n",
            "622/625 [============================>.] - ETA: 0s - loss: 0.0842 - accuracy: 0.9589\n",
            "Epoch 76: accuracy did not improve from 0.95964\n",
            "625/625 [==============================] - 20s 32ms/step - loss: 0.0843 - accuracy: 0.9590 - val_loss: 0.0870 - val_accuracy: 0.9642\n",
            "Epoch 77/100\n",
            "620/625 [============================>.] - ETA: 0s - loss: 0.0868 - accuracy: 0.9576\n",
            "Epoch 77: accuracy did not improve from 0.95964\n",
            "625/625 [==============================] - 22s 35ms/step - loss: 0.0869 - accuracy: 0.9574 - val_loss: 0.0916 - val_accuracy: 0.9624\n",
            "Epoch 78/100\n",
            "624/625 [============================>.] - ETA: 0s - loss: 0.0830 - accuracy: 0.9597\n",
            "Epoch 78: accuracy improved from 0.95964 to 0.95974, saving model to /content/drive/Shareddrives/DEAP EEG/Models Saved/Valence/Train_Test_Split_MDPI/10_90_Train_Test/weights-improvement-78-0.9597.hdf5\n",
            "625/625 [==============================] - 21s 33ms/step - loss: 0.0830 - accuracy: 0.9597 - val_loss: 0.0849 - val_accuracy: 0.9647\n",
            "Epoch 79/100\n",
            "625/625 [==============================] - ETA: 0s - loss: 0.0843 - accuracy: 0.9593\n",
            "Epoch 79: accuracy did not improve from 0.95974\n",
            "625/625 [==============================] - 25s 40ms/step - loss: 0.0843 - accuracy: 0.9593 - val_loss: 0.0827 - val_accuracy: 0.9658\n",
            "Epoch 80/100\n",
            "625/625 [==============================] - ETA: 0s - loss: 0.0825 - accuracy: 0.9603\n",
            "Epoch 80: accuracy improved from 0.95974 to 0.96027, saving model to /content/drive/Shareddrives/DEAP EEG/Models Saved/Valence/Train_Test_Split_MDPI/10_90_Train_Test/weights-improvement-80-0.9603.hdf5\n",
            "625/625 [==============================] - 20s 32ms/step - loss: 0.0825 - accuracy: 0.9603 - val_loss: 0.0829 - val_accuracy: 0.9656\n",
            "Epoch 81/100\n",
            "618/625 [============================>.] - ETA: 0s - loss: 0.0849 - accuracy: 0.9585\n",
            "Epoch 81: accuracy did not improve from 0.96027\n",
            "625/625 [==============================] - 20s 32ms/step - loss: 0.0847 - accuracy: 0.9585 - val_loss: 0.0833 - val_accuracy: 0.9657\n",
            "Epoch 82/100\n",
            "621/625 [============================>.] - ETA: 0s - loss: 0.0837 - accuracy: 0.9604\n",
            "Epoch 82: accuracy improved from 0.96027 to 0.96051, saving model to /content/drive/Shareddrives/DEAP EEG/Models Saved/Valence/Train_Test_Split_MDPI/10_90_Train_Test/weights-improvement-82-0.9605.hdf5\n",
            "625/625 [==============================] - 20s 33ms/step - loss: 0.0836 - accuracy: 0.9605 - val_loss: 0.0852 - val_accuracy: 0.9657\n",
            "Epoch 83/100\n",
            "619/625 [============================>.] - ETA: 0s - loss: 0.0826 - accuracy: 0.9600\n",
            "Epoch 83: accuracy did not improve from 0.96051\n",
            "625/625 [==============================] - 20s 32ms/step - loss: 0.0826 - accuracy: 0.9600 - val_loss: 0.0864 - val_accuracy: 0.9662\n",
            "Epoch 84/100\n",
            "621/625 [============================>.] - ETA: 0s - loss: 0.0826 - accuracy: 0.9605\n",
            "Epoch 84: accuracy did not improve from 0.96051\n",
            "625/625 [==============================] - 20s 32ms/step - loss: 0.0826 - accuracy: 0.9604 - val_loss: 0.0898 - val_accuracy: 0.9636\n",
            "Epoch 85/100\n",
            "625/625 [==============================] - ETA: 0s - loss: 0.0832 - accuracy: 0.9604\n",
            "Epoch 85: accuracy did not improve from 0.96051\n",
            "625/625 [==============================] - 21s 34ms/step - loss: 0.0832 - accuracy: 0.9604 - val_loss: 0.0873 - val_accuracy: 0.9652\n",
            "Epoch 86/100\n",
            "621/625 [============================>.] - ETA: 0s - loss: 0.0804 - accuracy: 0.9615\n",
            "Epoch 86: accuracy improved from 0.96051 to 0.96148, saving model to /content/drive/Shareddrives/DEAP EEG/Models Saved/Valence/Train_Test_Split_MDPI/10_90_Train_Test/weights-improvement-86-0.9615.hdf5\n",
            "625/625 [==============================] - 25s 40ms/step - loss: 0.0804 - accuracy: 0.9615 - val_loss: 0.0824 - val_accuracy: 0.9666\n",
            "Epoch 87/100\n",
            "624/625 [============================>.] - ETA: 0s - loss: 0.0809 - accuracy: 0.9612\n",
            "Epoch 87: accuracy did not improve from 0.96148\n",
            "625/625 [==============================] - 20s 32ms/step - loss: 0.0809 - accuracy: 0.9612 - val_loss: 0.0812 - val_accuracy: 0.9671\n",
            "Epoch 88/100\n",
            "622/625 [============================>.] - ETA: 0s - loss: 0.0815 - accuracy: 0.9615\n",
            "Epoch 88: accuracy did not improve from 0.96148\n",
            "625/625 [==============================] - 25s 40ms/step - loss: 0.0816 - accuracy: 0.9614 - val_loss: 0.0801 - val_accuracy: 0.9682\n",
            "Epoch 89/100\n",
            "625/625 [==============================] - ETA: 0s - loss: 0.0802 - accuracy: 0.9616\n",
            "Epoch 89: accuracy improved from 0.96148 to 0.96159, saving model to /content/drive/Shareddrives/DEAP EEG/Models Saved/Valence/Train_Test_Split_MDPI/10_90_Train_Test/weights-improvement-89-0.9616.hdf5\n",
            "625/625 [==============================] - 25s 40ms/step - loss: 0.0802 - accuracy: 0.9616 - val_loss: 0.0809 - val_accuracy: 0.9671\n",
            "Epoch 90/100\n",
            "622/625 [============================>.] - ETA: 0s - loss: 0.0822 - accuracy: 0.9601\n",
            "Epoch 90: accuracy did not improve from 0.96159\n",
            "625/625 [==============================] - 20s 33ms/step - loss: 0.0822 - accuracy: 0.9602 - val_loss: 0.0809 - val_accuracy: 0.9674\n",
            "Epoch 91/100\n",
            "620/625 [============================>.] - ETA: 0s - loss: 0.0799 - accuracy: 0.9617\n",
            "Epoch 91: accuracy improved from 0.96159 to 0.96167, saving model to /content/drive/Shareddrives/DEAP EEG/Models Saved/Valence/Train_Test_Split_MDPI/10_90_Train_Test/weights-improvement-91-0.9617.hdf5\n",
            "625/625 [==============================] - 20s 33ms/step - loss: 0.0800 - accuracy: 0.9617 - val_loss: 0.0854 - val_accuracy: 0.9662\n",
            "Epoch 92/100\n",
            "624/625 [============================>.] - ETA: 0s - loss: 0.0772 - accuracy: 0.9624\n",
            "Epoch 92: accuracy improved from 0.96167 to 0.96233, saving model to /content/drive/Shareddrives/DEAP EEG/Models Saved/Valence/Train_Test_Split_MDPI/10_90_Train_Test/weights-improvement-92-0.9623.hdf5\n",
            "625/625 [==============================] - 21s 33ms/step - loss: 0.0772 - accuracy: 0.9623 - val_loss: 0.0849 - val_accuracy: 0.9655\n",
            "Epoch 93/100\n",
            "620/625 [============================>.] - ETA: 0s - loss: 0.0807 - accuracy: 0.9610\n",
            "Epoch 93: accuracy did not improve from 0.96233\n",
            "625/625 [==============================] - 26s 42ms/step - loss: 0.0806 - accuracy: 0.9612 - val_loss: 0.0812 - val_accuracy: 0.9669\n",
            "Epoch 94/100\n",
            "623/625 [============================>.] - ETA: 0s - loss: 0.0770 - accuracy: 0.9625\n",
            "Epoch 94: accuracy improved from 0.96233 to 0.96243, saving model to /content/drive/Shareddrives/DEAP EEG/Models Saved/Valence/Train_Test_Split_MDPI/10_90_Train_Test/weights-improvement-94-0.9624.hdf5\n",
            "625/625 [==============================] - 20s 33ms/step - loss: 0.0770 - accuracy: 0.9624 - val_loss: 0.0794 - val_accuracy: 0.9685\n",
            "Epoch 95/100\n",
            "622/625 [============================>.] - ETA: 0s - loss: 0.0787 - accuracy: 0.9620\n",
            "Epoch 95: accuracy did not improve from 0.96243\n",
            "625/625 [==============================] - 20s 33ms/step - loss: 0.0788 - accuracy: 0.9620 - val_loss: 0.0830 - val_accuracy: 0.9672\n",
            "Epoch 96/100\n",
            "623/625 [============================>.] - ETA: 0s - loss: 0.0804 - accuracy: 0.9613\n",
            "Epoch 96: accuracy did not improve from 0.96243\n",
            "625/625 [==============================] - 20s 33ms/step - loss: 0.0804 - accuracy: 0.9613 - val_loss: 0.0834 - val_accuracy: 0.9671\n",
            "Epoch 97/100\n",
            "623/625 [============================>.] - ETA: 0s - loss: 0.0783 - accuracy: 0.9621\n",
            "Epoch 97: accuracy did not improve from 0.96243\n",
            "625/625 [==============================] - 20s 32ms/step - loss: 0.0784 - accuracy: 0.9620 - val_loss: 0.0826 - val_accuracy: 0.9669\n",
            "Epoch 98/100\n",
            "622/625 [============================>.] - ETA: 0s - loss: 0.0792 - accuracy: 0.9622\n",
            "Epoch 98: accuracy did not improve from 0.96243\n",
            "625/625 [==============================] - 25s 40ms/step - loss: 0.0792 - accuracy: 0.9621 - val_loss: 0.0858 - val_accuracy: 0.9660\n",
            "Epoch 99/100\n",
            "620/625 [============================>.] - ETA: 0s - loss: 0.0782 - accuracy: 0.9627\n",
            "Epoch 99: accuracy improved from 0.96243 to 0.96284, saving model to /content/drive/Shareddrives/DEAP EEG/Models Saved/Valence/Train_Test_Split_MDPI/10_90_Train_Test/weights-improvement-99-0.9628.hdf5\n",
            "625/625 [==============================] - 20s 33ms/step - loss: 0.0781 - accuracy: 0.9628 - val_loss: 0.0816 - val_accuracy: 0.9677\n",
            "Epoch 100/100\n",
            "623/625 [============================>.] - ETA: 0s - loss: 0.0760 - accuracy: 0.9634\n",
            "Epoch 100: accuracy improved from 0.96284 to 0.96339, saving model to /content/drive/Shareddrives/DEAP EEG/Models Saved/Valence/Train_Test_Split_MDPI/10_90_Train_Test/weights-improvement-100-0.9634.hdf5\n",
            "625/625 [==============================] - 25s 40ms/step - loss: 0.0761 - accuracy: 0.9634 - val_loss: 0.0779 - val_accuracy: 0.9685\n",
            "CPU times: user 38min 13s, sys: 6min 33s, total: 44min 46s\n",
            "Wall time: 38min 23s\n"
          ]
        }
      ]
    },
    {
      "cell_type": "code",
      "source": [
        "%%time\n",
        "score = model.evaluate(x_test, y_test, verbose=1)\n",
        "print('Test loss:', score[0])\n",
        "print('Test accuracy:', score[1])"
      ],
      "metadata": {
        "colab": {
          "base_uri": "https://localhost:8080/"
        },
        "id": "3xYv1T9W-pN0",
        "outputId": "a0b3caad-0630-40f7-cc3e-889ddef491e5"
      },
      "execution_count": null,
      "outputs": [
        {
          "output_type": "stream",
          "name": "stdout",
          "text": [
            "17568/17568 [==============================] - 67s 4ms/step - loss: 0.0779 - accuracy: 0.9685\n",
            "Test loss: 0.07789862900972366\n",
            "Test accuracy: 0.9684671759605408\n",
            "CPU times: user 1min 8s, sys: 11.4 s, total: 1min 19s\n",
            "Wall time: 1min 22s\n"
          ]
        }
      ]
    },
    {
      "cell_type": "code",
      "source": [
        "with open('/content/drive/Shareddrives/DEAP EEG/Models Saved/Valence/Train_Test_Split_MDPI/10_90_Train_Test/history', 'wb') as file_pi:\n",
        "        pickle.dump(H.history, file_pi)"
      ],
      "metadata": {
        "id": "cvXY7Ran-syw"
      },
      "execution_count": null,
      "outputs": []
    }
  ]
}